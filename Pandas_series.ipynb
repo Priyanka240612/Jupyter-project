{
 "cells": [
  {
   "cell_type": "code",
   "execution_count": 1,
   "id": "5eb7dbe8",
   "metadata": {},
   "outputs": [],
   "source": [
    "import pandas as pd"
   ]
  },
  {
   "cell_type": "code",
   "execution_count": 2,
   "id": "61d4bf79",
   "metadata": {},
   "outputs": [
    {
     "name": "stdout",
     "output_type": "stream",
     "text": [
      "[1, 2, 3, 4, 5, 'data']\n"
     ]
    }
   ],
   "source": [
    "list_1 = [1,2,3,4,5,'data']\n",
    "print(list_1)"
   ]
  },
  {
   "cell_type": "code",
   "execution_count": 3,
   "id": "73bf024e",
   "metadata": {},
   "outputs": [
    {
     "name": "stdout",
     "output_type": "stream",
     "text": [
      "0       1\n",
      "1       2\n",
      "2       3\n",
      "3       4\n",
      "4       5\n",
      "5    data\n",
      "dtype: object\n"
     ]
    }
   ],
   "source": [
    "series_1 = pd.Series(list_1)          # it create 1 dimetinal series\n",
    "print(series_1)\n",
    "#type(series_1)"
   ]
  },
  {
   "cell_type": "code",
   "execution_count": 4,
   "id": "3db8192a",
   "metadata": {},
   "outputs": [
    {
     "data": {
      "text/plain": [
       "list"
      ]
     },
     "execution_count": 4,
     "metadata": {},
     "output_type": "execute_result"
    }
   ],
   "source": [
    "type(list_1)"
   ]
  },
  {
   "cell_type": "code",
   "execution_count": 5,
   "id": "2ea8a17c",
   "metadata": {},
   "outputs": [
    {
     "data": {
      "text/plain": [
       "pandas.core.series.Series"
      ]
     },
     "execution_count": 5,
     "metadata": {},
     "output_type": "execute_result"
    }
   ],
   "source": [
    "type(series_1)"
   ]
  },
  {
   "cell_type": "code",
   "execution_count": 6,
   "id": "b6639ba8",
   "metadata": {},
   "outputs": [
    {
     "name": "stdout",
     "output_type": "stream",
     "text": [
      "0        6\n",
      "1        7\n",
      "2        8\n",
      "3        9\n",
      "4    dataa\n",
      "dtype: object\n"
     ]
    }
   ],
   "source": [
    "series_2 = pd.Series([6,7,8,9,'dataa'])      # 1d series create manually list element\n",
    "print(series_2)"
   ]
  },
  {
   "cell_type": "code",
   "execution_count": 7,
   "id": "93e1cbed",
   "metadata": {},
   "outputs": [
    {
     "data": {
      "text/plain": [
       "pandas.core.series.Series"
      ]
     },
     "execution_count": 7,
     "metadata": {},
     "output_type": "execute_result"
    }
   ],
   "source": [
    "type(series_2)"
   ]
  },
  {
   "cell_type": "code",
   "execution_count": 8,
   "id": "d5952328",
   "metadata": {},
   "outputs": [
    {
     "name": "stdout",
     "output_type": "stream",
     "text": [
      "a    1\n",
      "b    2\n",
      "c    3\n",
      "d    4\n",
      "dtype: int64\n"
     ]
    }
   ],
   "source": [
    "series_3 = pd.Series([1,2,3,4], index = ['a','b','c','d'])\n",
    "print(series_3)"
   ]
  },
  {
   "cell_type": "code",
   "execution_count": 9,
   "id": "d6544ece",
   "metadata": {},
   "outputs": [
    {
     "name": "stdout",
     "output_type": "stream",
     "text": [
      "a    1.0\n",
      "b    2.0\n",
      "c    3.0\n",
      "d    4.0\n",
      "dtype: float64\n"
     ]
    }
   ],
   "source": [
    "series_3a = pd.Series([1,2,3,4], index = ['a','b','c','d'], dtype = float)\n",
    "print(series_3a)"
   ]
  },
  {
   "cell_type": "code",
   "execution_count": 10,
   "id": "169df447",
   "metadata": {},
   "outputs": [
    {
     "name": "stdout",
     "output_type": "stream",
     "text": [
      "a    1\n",
      "b    2\n",
      "c    3\n",
      "d    4\n",
      "Name: Data Value, dtype: int64\n"
     ]
    }
   ],
   "source": [
    "series_3b = pd.Series([1,2,3,4], index = ['a','b','c','d'] , name = 'Data Value')\n",
    "print(series_3b)"
   ]
  },
  {
   "cell_type": "code",
   "execution_count": 11,
   "id": "1c343a30",
   "metadata": {},
   "outputs": [
    {
     "name": "stdout",
     "output_type": "stream",
     "text": [
      "A    1\n",
      "B    2\n",
      "dtype: int64\n"
     ]
    }
   ],
   "source": [
    "dict_1 = pd.Series({'A':1,'B':2})              # using dictionary to form series\n",
    "print(dict_1)"
   ]
  },
  {
   "cell_type": "code",
   "execution_count": 12,
   "id": "c79ec54b",
   "metadata": {},
   "outputs": [
    {
     "name": "stdout",
     "output_type": "stream",
     "text": [
      "0    0.5\n",
      "dtype: float64\n"
     ]
    }
   ],
   "source": [
    "scalar_1 = pd.Series(0.5)                     #scalar use to create only one value\n",
    "print(scalar_1)"
   ]
  },
  {
   "cell_type": "code",
   "execution_count": 13,
   "id": "f2572cc7",
   "metadata": {},
   "outputs": [
    {
     "name": "stdout",
     "output_type": "stream",
     "text": [
      "1    0.5\n",
      "2    0.5\n",
      "3    0.5\n",
      "4    0.5\n",
      "dtype: float64\n"
     ]
    }
   ],
   "source": [
    "scalar_2 = pd.Series(0.5, index =['1','2','3','4'])    #scalar use to create only one value for multiply times using index\n",
    "print(scalar_2)"
   ]
  },
  {
   "cell_type": "code",
   "execution_count": 14,
   "id": "6903de50",
   "metadata": {},
   "outputs": [
    {
     "name": "stdout",
     "output_type": "stream",
     "text": [
      "a    1\n",
      "b    2\n",
      "c    3\n",
      "d    4\n",
      "Name: Data Value, dtype: int64\n"
     ]
    }
   ],
   "source": [
    "print(series_3b)"
   ]
  },
  {
   "cell_type": "code",
   "execution_count": 15,
   "id": "86a09da5",
   "metadata": {},
   "outputs": [
    {
     "data": {
      "text/plain": [
       "1"
      ]
     },
     "execution_count": 15,
     "metadata": {},
     "output_type": "execute_result"
    }
   ],
   "source": [
    "series_3b[0]                           # to know that Index value"
   ]
  },
  {
   "cell_type": "code",
   "execution_count": 16,
   "id": "ff3ea0a5",
   "metadata": {},
   "outputs": [
    {
     "data": {
      "text/plain": [
       "4"
      ]
     },
     "execution_count": 16,
     "metadata": {},
     "output_type": "execute_result"
    }
   ],
   "source": [
    "series_3b[3]                           # to know that Index value"
   ]
  },
  {
   "cell_type": "code",
   "execution_count": 17,
   "id": "28649fc1",
   "metadata": {},
   "outputs": [
    {
     "data": {
      "text/plain": [
       "a    1\n",
       "b    2\n",
       "Name: Data Value, dtype: int64"
      ]
     },
     "execution_count": 17,
     "metadata": {},
     "output_type": "execute_result"
    }
   ],
   "source": [
    "series_3b[0:2] "
   ]
  },
  {
   "cell_type": "code",
   "execution_count": 18,
   "id": "aec054b5",
   "metadata": {},
   "outputs": [
    {
     "data": {
      "text/plain": [
       "4"
      ]
     },
     "execution_count": 18,
     "metadata": {},
     "output_type": "execute_result"
    }
   ],
   "source": [
    "max(series_3b)"
   ]
  },
  {
   "cell_type": "code",
   "execution_count": 19,
   "id": "c4e00a4e",
   "metadata": {},
   "outputs": [
    {
     "data": {
      "text/plain": [
       "1"
      ]
     },
     "execution_count": 19,
     "metadata": {},
     "output_type": "execute_result"
    }
   ],
   "source": [
    "min(series_3b)"
   ]
  },
  {
   "cell_type": "code",
   "execution_count": 20,
   "id": "8282cda9",
   "metadata": {},
   "outputs": [
    {
     "data": {
      "text/plain": [
       "a    False\n",
       "b    False\n",
       "c    False\n",
       "d     True\n",
       "Name: Data Value, dtype: bool"
      ]
     },
     "execution_count": 20,
     "metadata": {},
     "output_type": "execute_result"
    }
   ],
   "source": [
    "series_3b > 3"
   ]
  },
  {
   "cell_type": "code",
   "execution_count": 21,
   "id": "545772eb",
   "metadata": {},
   "outputs": [
    {
     "data": {
      "text/plain": [
       "d    4\n",
       "Name: Data Value, dtype: int64"
      ]
     },
     "execution_count": 21,
     "metadata": {},
     "output_type": "execute_result"
    }
   ],
   "source": [
    "series_3b[series_3b > 3]"
   ]
  },
  {
   "cell_type": "code",
   "execution_count": 22,
   "id": "461e21c7",
   "metadata": {},
   "outputs": [
    {
     "data": {
      "text/plain": [
       "a    2\n",
       "b    4\n",
       "c    6\n",
       "d    8\n",
       "dtype: int64"
      ]
     },
     "execution_count": 22,
     "metadata": {},
     "output_type": "execute_result"
    }
   ],
   "source": [
    "series_3 + series_3b"
   ]
  },
  {
   "cell_type": "code",
   "execution_count": 23,
   "id": "7377a050",
   "metadata": {},
   "outputs": [
    {
     "data": {
      "text/plain": [
       "A   NaN\n",
       "B   NaN\n",
       "a   NaN\n",
       "b   NaN\n",
       "c   NaN\n",
       "d   NaN\n",
       "dtype: float64"
      ]
     },
     "execution_count": 23,
     "metadata": {},
     "output_type": "execute_result"
    }
   ],
   "source": [
    "# series_1 + series_2    # error : unsupported operand type(s) for +: 'int' and 'str'\n",
    "series_3 + dict_1"
   ]
  },
  {
   "cell_type": "code",
   "execution_count": 24,
   "id": "448c7576",
   "metadata": {},
   "outputs": [
    {
     "name": "stdout",
     "output_type": "stream",
     "text": [
      "0    1\n",
      "1    2\n",
      "2    3\n",
      "dtype: int64\n"
     ]
    }
   ],
   "source": [
    "series_4 = pd.Series([1,2,3])\n",
    "print(series_4)"
   ]
  },
  {
   "cell_type": "code",
   "execution_count": 25,
   "id": "428894b7",
   "metadata": {},
   "outputs": [
    {
     "name": "stdout",
     "output_type": "stream",
     "text": [
      "0    1\n",
      "1    2\n",
      "2    3\n",
      "3    4\n",
      "4    5\n",
      "dtype: int64\n"
     ]
    }
   ],
   "source": [
    "series_4a = pd.Series([1,2,3,4,5])\n",
    "print(series_4a)"
   ]
  },
  {
   "cell_type": "code",
   "execution_count": 26,
   "id": "1a7ee536",
   "metadata": {},
   "outputs": [
    {
     "data": {
      "text/plain": [
       "0    2.0\n",
       "1    4.0\n",
       "2    6.0\n",
       "3    NaN\n",
       "4    NaN\n",
       "dtype: float64"
      ]
     },
     "execution_count": 26,
     "metadata": {},
     "output_type": "execute_result"
    }
   ],
   "source": [
    "series_4 + series_4a"
   ]
  },
  {
   "cell_type": "code",
   "execution_count": null,
   "id": "59cff763",
   "metadata": {},
   "outputs": [],
   "source": []
  }
 ],
 "metadata": {
  "kernelspec": {
   "display_name": "Python 3 (ipykernel)",
   "language": "python",
   "name": "python3"
  },
  "language_info": {
   "codemirror_mode": {
    "name": "ipython",
    "version": 3
   },
   "file_extension": ".py",
   "mimetype": "text/x-python",
   "name": "python",
   "nbconvert_exporter": "python",
   "pygments_lexer": "ipython3",
   "version": "3.10.5"
  }
 },
 "nbformat": 4,
 "nbformat_minor": 5
}
