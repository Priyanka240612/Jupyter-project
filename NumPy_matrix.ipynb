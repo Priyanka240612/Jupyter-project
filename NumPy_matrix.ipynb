{
 "cells": [
  {
   "cell_type": "code",
   "execution_count": 1,
   "id": "e58d4665",
   "metadata": {},
   "outputs": [],
   "source": [
    "# matrix tutorial"
   ]
  },
  {
   "cell_type": "code",
   "execution_count": 7,
   "id": "a57796ed",
   "metadata": {},
   "outputs": [],
   "source": [
    "import numpy as np"
   ]
  },
  {
   "cell_type": "code",
   "execution_count": 3,
   "id": "25133471",
   "metadata": {},
   "outputs": [
    {
     "name": "stdout",
     "output_type": "stream",
     "text": [
      "[[1 1 1]\n",
      " [1 1 1]]\n"
     ]
    }
   ],
   "source": [
    "matx_1 = np.array([[1,1,1],[1,1,1]])\n",
    "print(matx_1)"
   ]
  },
  {
   "cell_type": "code",
   "execution_count": 4,
   "id": "5998c248",
   "metadata": {},
   "outputs": [
    {
     "data": {
      "text/plain": [
       "dtype('int32')"
      ]
     },
     "execution_count": 4,
     "metadata": {},
     "output_type": "execute_result"
    }
   ],
   "source": [
    "matx_1.dtype"
   ]
  },
  {
   "cell_type": "code",
   "execution_count": 5,
   "id": "22a0edec",
   "metadata": {},
   "outputs": [
    {
     "data": {
      "text/plain": [
       "2"
      ]
     },
     "execution_count": 5,
     "metadata": {},
     "output_type": "execute_result"
    }
   ],
   "source": [
    "matx_1.ndim"
   ]
  },
  {
   "cell_type": "code",
   "execution_count": 6,
   "id": "e05c1994",
   "metadata": {},
   "outputs": [
    {
     "data": {
      "text/plain": [
       "(2, 3)"
      ]
     },
     "execution_count": 6,
     "metadata": {},
     "output_type": "execute_result"
    }
   ],
   "source": [
    "matx_1.shape"
   ]
  },
  {
   "cell_type": "code",
   "execution_count": 7,
   "id": "2865535d",
   "metadata": {},
   "outputs": [
    {
     "data": {
      "text/plain": [
       "6"
      ]
     },
     "execution_count": 7,
     "metadata": {},
     "output_type": "execute_result"
    }
   ],
   "source": [
    "matx_1.size"
   ]
  },
  {
   "cell_type": "code",
   "execution_count": 8,
   "id": "b22f9d57",
   "metadata": {},
   "outputs": [
    {
     "name": "stdout",
     "output_type": "stream",
     "text": [
      "5\n"
     ]
    }
   ],
   "source": [
    "matx_2 = np.array(5)\n",
    "print(matx_2)"
   ]
  },
  {
   "cell_type": "code",
   "execution_count": 2,
   "id": "ba52fd96",
   "metadata": {},
   "outputs": [
    {
     "name": "stdout",
     "output_type": "stream",
     "text": [
      "[[5 5 5]\n",
      " [5 5 5]\n",
      " [5 5 5]\n",
      " [5 5 5]]\n"
     ]
    }
   ],
   "source": [
    "matx_f = np.full((4,3), 5)\n",
    "print(matx_f)"
   ]
  },
  {
   "cell_type": "code",
   "execution_count": 6,
   "id": "e92f7ba1",
   "metadata": {},
   "outputs": [
    {
     "name": "stdout",
     "output_type": "stream",
     "text": [
      "[[1. 0. 0. 0. 0.]\n",
      " [0. 1. 0. 0. 0.]\n",
      " [0. 0. 1. 0. 0.]\n",
      " [0. 0. 0. 1. 0.]\n",
      " [0. 0. 0. 0. 1.]]\n"
     ]
    }
   ],
   "source": [
    "matx_i = np.eye(5)                  # identiti matrix\n",
    "print(matx_i)"
   ]
  },
  {
   "cell_type": "code",
   "execution_count": 8,
   "id": "2d7bb7e5",
   "metadata": {},
   "outputs": [
    {
     "name": "stdout",
     "output_type": "stream",
     "text": [
      "[[10  0  0  0  0]\n",
      " [ 0 20  0  0  0]\n",
      " [ 0  0 30  0  0]\n",
      " [ 0  0  0 40  0]\n",
      " [ 0  0  0  0 50]]\n"
     ]
    }
   ],
   "source": [
    "matx_d = np.diag([10,20,30,40,50])\n",
    "print(matx_d)"
   ]
  },
  {
   "cell_type": "code",
   "execution_count": 9,
   "id": "6338a897",
   "metadata": {},
   "outputs": [
    {
     "name": "stdout",
     "output_type": "stream",
     "text": [
      "[1. 1. 1. 1. 1.]\n"
     ]
    }
   ],
   "source": [
    "matx_3 = np.ones(5)\n",
    "print(matx_3)"
   ]
  },
  {
   "cell_type": "code",
   "execution_count": 5,
   "id": "621ca928",
   "metadata": {},
   "outputs": [
    {
     "name": "stdout",
     "output_type": "stream",
     "text": [
      "[[1. 1. 1.]\n",
      " [1. 1. 1.]\n",
      " [1. 1. 1.]\n",
      " [1. 1. 1.]]\n"
     ]
    }
   ],
   "source": [
    "matx_3a = np.ones((4,3))\n",
    "print(matx_3a)"
   ]
  },
  {
   "cell_type": "code",
   "execution_count": 10,
   "id": "29f613b9",
   "metadata": {},
   "outputs": [
    {
     "name": "stdout",
     "output_type": "stream",
     "text": [
      "[1 1 1 1 1]\n"
     ]
    }
   ],
   "source": [
    "matx_4 = np.ones((5), dtype = int)\n",
    "print(matx_4)"
   ]
  },
  {
   "cell_type": "code",
   "execution_count": 11,
   "id": "581526a9",
   "metadata": {},
   "outputs": [
    {
     "name": "stdout",
     "output_type": "stream",
     "text": [
      "[[1 1 1 1 1]\n",
      " [1 1 1 1 1]\n",
      " [1 1 1 1 1]\n",
      " [1 1 1 1 1]\n",
      " [1 1 1 1 1]]\n"
     ]
    }
   ],
   "source": [
    "matx_5 = np.ones((5,5), dtype = int)\n",
    "print(matx_5)"
   ]
  },
  {
   "cell_type": "code",
   "execution_count": 12,
   "id": "7d95b38a",
   "metadata": {},
   "outputs": [
    {
     "name": "stdout",
     "output_type": "stream",
     "text": [
      "[[ True  True  True  True  True]\n",
      " [ True  True  True  True  True]\n",
      " [ True  True  True  True  True]\n",
      " [ True  True  True  True  True]\n",
      " [ True  True  True  True  True]]\n"
     ]
    }
   ],
   "source": [
    "matx_6 = np.ones ((5,5), dtype = bool)\n",
    "print(matx_6)"
   ]
  },
  {
   "cell_type": "code",
   "execution_count": 13,
   "id": "2c58ae99",
   "metadata": {},
   "outputs": [
    {
     "name": "stdout",
     "output_type": "stream",
     "text": [
      "[0. 0. 0. 0. 0.]\n"
     ]
    }
   ],
   "source": [
    "matx_7 = np.zeros(5)\n",
    "print(matx_7)"
   ]
  },
  {
   "cell_type": "code",
   "execution_count": 14,
   "id": "970e4cbb",
   "metadata": {},
   "outputs": [
    {
     "name": "stdout",
     "output_type": "stream",
     "text": [
      "[[0 0 0 0 0]\n",
      " [0 0 0 0 0]\n",
      " [0 0 0 0 0]\n",
      " [0 0 0 0 0]\n",
      " [0 0 0 0 0]]\n"
     ]
    }
   ],
   "source": [
    "matx_8 = np.zeros((5,5), dtype = int)\n",
    "print(matx_8)"
   ]
  },
  {
   "cell_type": "code",
   "execution_count": 15,
   "id": "5cb1bdb5",
   "metadata": {},
   "outputs": [
    {
     "name": "stdout",
     "output_type": "stream",
     "text": [
      "[[False False False False False]\n",
      " [False False False False False]\n",
      " [False False False False False]\n",
      " [False False False False False]\n",
      " [False False False False False]]\n"
     ]
    }
   ],
   "source": [
    "matx_9 = np.zeros((5,5), dtype= bool)\n",
    "print(matx_9)"
   ]
  },
  {
   "cell_type": "code",
   "execution_count": 16,
   "id": "b2a9631f",
   "metadata": {},
   "outputs": [
    {
     "name": "stdout",
     "output_type": "stream",
     "text": [
      "[['' '' '' '' '']\n",
      " ['' '' '' '' '']\n",
      " ['' '' '' '' '']\n",
      " ['' '' '' '' '']\n",
      " ['' '' '' '' '']]\n"
     ]
    }
   ],
   "source": [
    "matx_9a = np.zeros((5,5), dtype= str)\n",
    "print(matx_9a)"
   ]
  },
  {
   "cell_type": "code",
   "execution_count": 17,
   "id": "16e8bdee",
   "metadata": {},
   "outputs": [
    {
     "name": "stdout",
     "output_type": "stream",
     "text": [
      "False\n"
     ]
    }
   ],
   "source": [
    "em_str = ''\n",
    "print(bool(em_str))"
   ]
  },
  {
   "cell_type": "code",
   "execution_count": 18,
   "id": "c1b00802",
   "metadata": {},
   "outputs": [
    {
     "name": "stdout",
     "output_type": "stream",
     "text": [
      "[['' '' '' '' '']\n",
      " ['' '' '' '' '']\n",
      " ['' '' '' '' '']\n",
      " ['' '' '' '' '']\n",
      " ['' '' '' '' '']]\n"
     ]
    }
   ],
   "source": [
    "matx_9b = np.ones((5,5), dtype= str)\n",
    "print(matx_9a)"
   ]
  },
  {
   "cell_type": "code",
   "execution_count": 19,
   "id": "3a33cb09",
   "metadata": {},
   "outputs": [
    {
     "name": "stdout",
     "output_type": "stream",
     "text": [
      "False\n"
     ]
    }
   ],
   "source": [
    "em_str = ''                                    # empty string always zero/false\n",
    "print(bool(em_str))"
   ]
  },
  {
   "cell_type": "code",
   "execution_count": 20,
   "id": "a926a3b3",
   "metadata": {},
   "outputs": [
    {
     "name": "stdout",
     "output_type": "stream",
     "text": [
      "[[6.23042070e-307 4.22795269e-307 2.04722549e-306 6.23054972e-307\n",
      "  1.06811422e-306]\n",
      " [3.56043054e-307 1.37961641e-306 8.90071135e-308 8.01097889e-307\n",
      "  1.78020169e-306]\n",
      " [7.56601165e-307 1.02359984e-306 1.33510679e-306 2.22522597e-306\n",
      "  1.33511018e-306]\n",
      " [6.23057689e-307 9.45754852e-308 1.27946076e-307 1.05700515e-307\n",
      "  2.04712906e-306]\n",
      " [7.56589622e-307 1.11258277e-307 8.90111708e-307 3.17493010e-310\n",
      "  9.38666179e+093]]\n"
     ]
    }
   ],
   "source": [
    "matx_9c = np.empty((5,5))           # empty command never show empty matrix , it takes RANDOM value from available data \n",
    "print(matx_9c)"
   ]
  },
  {
   "cell_type": "code",
   "execution_count": 21,
   "id": "27a0537d",
   "metadata": {},
   "outputs": [
    {
     "name": "stdout",
     "output_type": "stream",
     "text": [
      "[[1 1 1 ... 1 1 1]\n",
      " [1 1 1 ... 1 1 1]\n",
      " [1 1 1 ... 1 1 1]\n",
      " ...\n",
      " [1 1 1 ... 1 1 1]\n",
      " [1 1 1 ... 1 1 1]\n",
      " [1 1 1 ... 1 1 1]]\n"
     ]
    }
   ],
   "source": [
    "matx_100 = np.ones((100,100), dtype = int)\n",
    "print(matx_100)"
   ]
  },
  {
   "cell_type": "code",
   "execution_count": 22,
   "id": "01ab1ed3",
   "metadata": {},
   "outputs": [
    {
     "name": "stdout",
     "output_type": "stream",
     "text": [
      "[[1 1 1 1 1 1 1 1 1 1]\n",
      " [1 1 1 1 1 1 1 1 1 1]\n",
      " [1 1 1 1 1 1 1 1 1 1]\n",
      " [1 1 1 1 1 1 1 1 1 1]\n",
      " [1 1 1 1 1 1 1 1 1 1]\n",
      " [1 1 1 1 1 1 1 1 1 1]\n",
      " [1 1 1 1 1 1 1 1 1 1]\n",
      " [1 1 1 1 1 1 1 1 1 1]\n",
      " [1 1 1 1 1 1 1 1 1 1]\n",
      " [1 1 1 1 1 1 1 1 1 1]]\n"
     ]
    }
   ],
   "source": [
    "matx_10 = np.ones((10,10), dtype = int)\n",
    "print(matx_10)"
   ]
  },
  {
   "cell_type": "code",
   "execution_count": 23,
   "id": "c1b4c40f",
   "metadata": {},
   "outputs": [
    {
     "name": "stdout",
     "output_type": "stream",
     "text": [
      "[[1 1 1 1 1]\n",
      " [1 1 1 1 1]\n",
      " [1 1 1 1 1]\n",
      " [1 1 1 1 1]\n",
      " [1 1 1 1 1]\n",
      " [1 1 1 1 1]\n",
      " [1 1 1 1 1]\n",
      " [1 1 1 1 1]\n",
      " [1 1 1 1 1]\n",
      " [1 1 1 1 1]\n",
      " [1 1 1 1 1]\n",
      " [1 1 1 1 1]\n",
      " [1 1 1 1 1]\n",
      " [1 1 1 1 1]\n",
      " [1 1 1 1 1]\n",
      " [1 1 1 1 1]\n",
      " [1 1 1 1 1]\n",
      " [1 1 1 1 1]\n",
      " [1 1 1 1 1]\n",
      " [1 1 1 1 1]]\n"
     ]
    }
   ],
   "source": [
    "matx_10a = np.ones((10,10), dtype = int).reshape(20,5)\n",
    "print(matx_10a)"
   ]
  },
  {
   "cell_type": "code",
   "execution_count": null,
   "id": "17650226",
   "metadata": {},
   "outputs": [],
   "source": []
  }
 ],
 "metadata": {
  "kernelspec": {
   "display_name": "Python 3 (ipykernel)",
   "language": "python",
   "name": "python3"
  },
  "language_info": {
   "codemirror_mode": {
    "name": "ipython",
    "version": 3
   },
   "file_extension": ".py",
   "mimetype": "text/x-python",
   "name": "python",
   "nbconvert_exporter": "python",
   "pygments_lexer": "ipython3",
   "version": "3.10.5"
  }
 },
 "nbformat": 4,
 "nbformat_minor": 5
}
