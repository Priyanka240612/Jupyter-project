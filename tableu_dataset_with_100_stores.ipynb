{
 "cells": [
  {
   "cell_type": "code",
   "execution_count": 1,
   "id": "1dbd26ef",
   "metadata": {},
   "outputs": [
    {
     "name": "stdout",
     "output_type": "stream",
     "text": [
      "   Store ID Country         City               Store Name  \\\n",
      "0         1     USA      Chicago      Jones Group Chicago   \n",
      "1         2     USA      Phoenix    Moss and Sons Phoenix   \n",
      "2         3     USA  Los Angeles  Cameron PLC Los Angeles   \n",
      "3         4     USA      Houston      Hancock Inc Houston   \n",
      "4         5     USA      Chicago          Lee PLC Chicago   \n",
      "\n",
      "                                             Address  Monthly Sales  \\\n",
      "0  5676 Michael Port Suite 128, South Holly, WV 6...       68560.33   \n",
      "1  14727 Ashley Stream Suite 079, West Stephenfur...       38033.03   \n",
      "2           004 Kara Meadow, Tamaraborough, MH 12211       93110.37   \n",
      "3  8966 Kristina Run Suite 103, Lake Hollyside, V...       49989.72   \n",
      "4          95298 Wilson Manors, Jamesville, ID 40631       35920.43   \n",
      "\n",
      "   Number of Employees Opening Date  \n",
      "0                   37   2020-05-25  \n",
      "1                   31   2019-01-11  \n",
      "2                   27   2022-08-16  \n",
      "3                   19   2020-05-31  \n",
      "4                   25   2019-07-16  \n"
     ]
    }
   ],
   "source": [
    "import pandas as pd\n",
    "import numpy as np\n",
    "from faker import Faker\n",
    "\n",
    "# Initialize Faker\n",
    "fake = Faker()\n",
    "\n",
    "# Define countries and cities\n",
    "countries = [\"USA\", \"Canada\", \"UK\", \"Germany\", \"France\", \"Italy\", \"Spain\", \"Australia\", \"Japan\", \"Brazil\"]\n",
    "cities = {\n",
    "    \"USA\": [\"New York\", \"Los Angeles\", \"Chicago\", \"Houston\", \"Phoenix\"],\n",
    "    \"Canada\": [\"Toronto\", \"Vancouver\", \"Montreal\", \"Calgary\", \"Ottawa\"],\n",
    "    \"UK\": [\"London\", \"Manchester\", \"Birmingham\", \"Leeds\", \"Glasgow\"],\n",
    "    \"Germany\": [\"Berlin\", \"Munich\", \"Frankfurt\", \"Hamburg\", \"Cologne\"],\n",
    "    \"France\": [\"Paris\", \"Marseille\", \"Lyon\", \"Toulouse\", \"Nice\"],\n",
    "    \"Italy\": [\"Rome\", \"Milan\", \"Naples\", \"Turin\", \"Palermo\"],\n",
    "    \"Spain\": [\"Madrid\", \"Barcelona\", \"Valencia\", \"Seville\", \"Zaragoza\"],\n",
    "    \"Australia\": [\"Sydney\", \"Melbourne\", \"Brisbane\", \"Perth\", \"Adelaide\"],\n",
    "    \"Japan\": [\"Tokyo\", \"Osaka\", \"Nagoya\", \"Sapporo\", \"Fukuoka\"],\n",
    "    \"Brazil\": [\"São Paulo\", \"Rio de Janeiro\", \"Brasília\", \"Salvador\", \"Fortaleza\"]\n",
    "}\n",
    "\n",
    "# Generate dataset\n",
    "data = []\n",
    "store_id = 1\n",
    "\n",
    "for country in countries:\n",
    "    for _ in range(10):  # 10 stores per country\n",
    "        city = np.random.choice(cities[country])\n",
    "        store_name = f\"{fake.company()} {city}\"\n",
    "        address = fake.address().replace(\"\\n\", \", \")\n",
    "        monthly_sales = round(np.random.uniform(20000, 100000), 2)\n",
    "        num_employees = np.random.randint(5, 50)\n",
    "        opening_date = fake.date_between(start_date=\"-10y\", end_date=\"today\")\n",
    "        \n",
    "        data.append({\n",
    "            \"Store ID\": store_id,\n",
    "            \"Country\": country,\n",
    "            \"City\": city,\n",
    "            \"Store Name\": store_name,\n",
    "            \"Address\": address,\n",
    "            \"Monthly Sales\": monthly_sales,\n",
    "            \"Number of Employees\": num_employees,\n",
    "            \"Opening Date\": opening_date\n",
    "        })\n",
    "        store_id += 1\n",
    "\n",
    "# Create DataFrame\n",
    "df = pd.DataFrame(data)\n",
    "\n",
    "# Save to CSV\n",
    "df.to_csv('stores_dataset.csv', index=False)\n",
    "\n",
    "# Display the first few rows of the dataset\n",
    "print(df.head())\n"
   ]
  },
  {
   "cell_type": "code",
   "execution_count": null,
   "id": "b10a8b6c",
   "metadata": {},
   "outputs": [],
   "source": []
  }
 ],
 "metadata": {
  "kernelspec": {
   "display_name": "Python 3 (ipykernel)",
   "language": "python",
   "name": "python3"
  },
  "language_info": {
   "codemirror_mode": {
    "name": "ipython",
    "version": 3
   },
   "file_extension": ".py",
   "mimetype": "text/x-python",
   "name": "python",
   "nbconvert_exporter": "python",
   "pygments_lexer": "ipython3",
   "version": "3.10.5"
  }
 },
 "nbformat": 4,
 "nbformat_minor": 5
}
