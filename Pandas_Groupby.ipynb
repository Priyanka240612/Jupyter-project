{
 "cells": [
  {
   "cell_type": "markdown",
   "id": "2e95d10d",
   "metadata": {},
   "source": [
    "# its use to spilt the data into GROPS by some criteria\n",
    "Syntax  :  DataFrame.groupby()"
   ]
  },
  {
   "cell_type": "markdown",
   "id": "d1500b93",
   "metadata": {},
   "source": [
    "- spliting the Object\n",
    "- Applying a function\n",
    "- Combining the result"
   ]
  },
  {
   "cell_type": "code",
   "execution_count": 1,
   "id": "f86fa7f8",
   "metadata": {},
   "outputs": [],
   "source": [
    "import pandas as pd"
   ]
  },
  {
   "cell_type": "code",
   "execution_count": 2,
   "id": "4a113013",
   "metadata": {},
   "outputs": [
    {
     "data": {
      "text/html": [
       "<div>\n",
       "<style scoped>\n",
       "    .dataframe tbody tr th:only-of-type {\n",
       "        vertical-align: middle;\n",
       "    }\n",
       "\n",
       "    .dataframe tbody tr th {\n",
       "        vertical-align: top;\n",
       "    }\n",
       "\n",
       "    .dataframe thead th {\n",
       "        text-align: right;\n",
       "    }\n",
       "</style>\n",
       "<table border=\"1\" class=\"dataframe\">\n",
       "  <thead>\n",
       "    <tr style=\"text-align: right;\">\n",
       "      <th></th>\n",
       "      <th>Stu_ID</th>\n",
       "      <th>Class</th>\n",
       "      <th>Stdy_hrs</th>\n",
       "      <th>Slpng_hrs</th>\n",
       "      <th>online_hrs</th>\n",
       "      <th>Mob.Games_hrs</th>\n",
       "      <th>Perctg</th>\n",
       "    </tr>\n",
       "  </thead>\n",
       "  <tbody>\n",
       "    <tr>\n",
       "      <th>0</th>\n",
       "      <td>1001</td>\n",
       "      <td>10</td>\n",
       "      <td>2</td>\n",
       "      <td>9</td>\n",
       "      <td>3</td>\n",
       "      <td>5</td>\n",
       "      <td>50</td>\n",
       "    </tr>\n",
       "    <tr>\n",
       "      <th>1</th>\n",
       "      <td>1002</td>\n",
       "      <td>10</td>\n",
       "      <td>6</td>\n",
       "      <td>8</td>\n",
       "      <td>2</td>\n",
       "      <td>0</td>\n",
       "      <td>80</td>\n",
       "    </tr>\n",
       "    <tr>\n",
       "      <th>2</th>\n",
       "      <td>1003</td>\n",
       "      <td>10</td>\n",
       "      <td>3</td>\n",
       "      <td>8</td>\n",
       "      <td>2</td>\n",
       "      <td>4</td>\n",
       "      <td>60</td>\n",
       "    </tr>\n",
       "    <tr>\n",
       "      <th>3</th>\n",
       "      <td>1004</td>\n",
       "      <td>11</td>\n",
       "      <td>0</td>\n",
       "      <td>10</td>\n",
       "      <td>1</td>\n",
       "      <td>5</td>\n",
       "      <td>45</td>\n",
       "    </tr>\n",
       "    <tr>\n",
       "      <th>4</th>\n",
       "      <td>1005</td>\n",
       "      <td>11</td>\n",
       "      <td>4</td>\n",
       "      <td>7</td>\n",
       "      <td>2</td>\n",
       "      <td>0</td>\n",
       "      <td>75</td>\n",
       "    </tr>\n",
       "    <tr>\n",
       "      <th>5</th>\n",
       "      <td>1006</td>\n",
       "      <td>11</td>\n",
       "      <td>10</td>\n",
       "      <td>7</td>\n",
       "      <td>3</td>\n",
       "      <td>0</td>\n",
       "      <td>96</td>\n",
       "    </tr>\n",
       "    <tr>\n",
       "      <th>6</th>\n",
       "      <td>1007</td>\n",
       "      <td>12</td>\n",
       "      <td>4</td>\n",
       "      <td>6</td>\n",
       "      <td>3</td>\n",
       "      <td>0</td>\n",
       "      <td>80</td>\n",
       "    </tr>\n",
       "    <tr>\n",
       "      <th>7</th>\n",
       "      <td>1008</td>\n",
       "      <td>12</td>\n",
       "      <td>10</td>\n",
       "      <td>6</td>\n",
       "      <td>1</td>\n",
       "      <td>0</td>\n",
       "      <td>90</td>\n",
       "    </tr>\n",
       "    <tr>\n",
       "      <th>8</th>\n",
       "      <td>1009</td>\n",
       "      <td>12</td>\n",
       "      <td>2</td>\n",
       "      <td>8</td>\n",
       "      <td>2</td>\n",
       "      <td>4</td>\n",
       "      <td>60</td>\n",
       "    </tr>\n",
       "    <tr>\n",
       "      <th>9</th>\n",
       "      <td>1010</td>\n",
       "      <td>12</td>\n",
       "      <td>6</td>\n",
       "      <td>9</td>\n",
       "      <td>1</td>\n",
       "      <td>0</td>\n",
       "      <td>85</td>\n",
       "    </tr>\n",
       "  </tbody>\n",
       "</table>\n",
       "</div>"
      ],
      "text/plain": [
       "   Stu_ID  Class  Stdy_hrs  Slpng_hrs  online_hrs  Mob.Games_hrs  Perctg\n",
       "0    1001     10         2          9           3              5      50\n",
       "1    1002     10         6          8           2              0      80\n",
       "2    1003     10         3          8           2              4      60\n",
       "3    1004     11         0         10           1              5      45\n",
       "4    1005     11         4          7           2              0      75\n",
       "5    1006     11        10          7           3              0      96\n",
       "6    1007     12         4          6           3              0      80\n",
       "7    1008     12        10          6           1              0      90\n",
       "8    1009     12         2          8           2              4      60\n",
       "9    1010     12         6          9           1              0      85"
      ]
     },
     "execution_count": 2,
     "metadata": {},
     "output_type": "execute_result"
    }
   ],
   "source": [
    "df = pd.read_csv('C:\\Workspace\\Pri\\data science and ML practice\\jupyter\\student_results_digits.csv')\n",
    "df"
   ]
  },
  {
   "cell_type": "code",
   "execution_count": 3,
   "id": "61ea60d2",
   "metadata": {},
   "outputs": [
    {
     "data": {
      "text/plain": [
       "<pandas.core.groupby.generic.DataFrameGroupBy object at 0x0000022D2384CFD0>"
      ]
     },
     "execution_count": 3,
     "metadata": {},
     "output_type": "execute_result"
    }
   ],
   "source": [
    "gf = df.groupby(by = 'Class')\n",
    "gf"
   ]
  },
  {
   "cell_type": "code",
   "execution_count": 4,
   "id": "328e3f6b",
   "metadata": {},
   "outputs": [
    {
     "data": {
      "text/plain": [
       "{10: [0, 1, 2], 11: [3, 4, 5], 12: [6, 7, 8, 9]}"
      ]
     },
     "execution_count": 4,
     "metadata": {},
     "output_type": "execute_result"
    }
   ],
   "source": [
    "gf.groups"
   ]
  },
  {
   "cell_type": "code",
   "execution_count": 5,
   "id": "00e17f29",
   "metadata": {},
   "outputs": [
    {
     "data": {
      "text/plain": [
       "<pandas.core.groupby.generic.DataFrameGroupBy object at 0x0000022D33AC4460>"
      ]
     },
     "execution_count": 5,
     "metadata": {},
     "output_type": "execute_result"
    }
   ],
   "source": [
    "gf1 = df.groupby(by = 'Perctg')\n",
    "gf1"
   ]
  },
  {
   "cell_type": "code",
   "execution_count": 6,
   "id": "db9e9e10",
   "metadata": {},
   "outputs": [
    {
     "data": {
      "text/plain": [
       "{45: [3], 50: [0], 60: [2, 8], 75: [4], 80: [1, 6], 85: [9], 90: [7], 96: [5]}"
      ]
     },
     "execution_count": 6,
     "metadata": {},
     "output_type": "execute_result"
    }
   ],
   "source": [
    "gf1.groups"
   ]
  },
  {
   "cell_type": "code",
   "execution_count": 7,
   "id": "e12a4898",
   "metadata": {},
   "outputs": [
    {
     "data": {
      "text/plain": [
       "<pandas.core.groupby.generic.DataFrameGroupBy object at 0x0000022D33AC4910>"
      ]
     },
     "execution_count": 7,
     "metadata": {},
     "output_type": "execute_result"
    }
   ],
   "source": [
    "gf2 = df.groupby(by = 'Slpng_hrs')\n",
    "gf2"
   ]
  },
  {
   "cell_type": "code",
   "execution_count": 8,
   "id": "9592c10a",
   "metadata": {},
   "outputs": [
    {
     "data": {
      "text/plain": [
       "{6: [6, 7], 7: [4, 5], 8: [1, 2, 8], 9: [0, 9], 10: [3]}"
      ]
     },
     "execution_count": 8,
     "metadata": {},
     "output_type": "execute_result"
    }
   ],
   "source": [
    "gf2.groups"
   ]
  },
  {
   "cell_type": "markdown",
   "id": "2f48e824",
   "metadata": {},
   "source": [
    "#                    # for full details"
   ]
  },
  {
   "cell_type": "code",
   "execution_count": 9,
   "id": "1276063c",
   "metadata": {},
   "outputs": [
    {
     "data": {
      "text/plain": [
       "[(6,\n",
       "     Stu_ID  Class  Stdy_hrs  Slpng_hrs  online_hrs  Mob.Games_hrs  Perctg\n",
       "  6    1007     12         4          6           3              0      80\n",
       "  7    1008     12        10          6           1              0      90),\n",
       " (7,\n",
       "     Stu_ID  Class  Stdy_hrs  Slpng_hrs  online_hrs  Mob.Games_hrs  Perctg\n",
       "  4    1005     11         4          7           2              0      75\n",
       "  5    1006     11        10          7           3              0      96),\n",
       " (8,\n",
       "     Stu_ID  Class  Stdy_hrs  Slpng_hrs  online_hrs  Mob.Games_hrs  Perctg\n",
       "  1    1002     10         6          8           2              0      80\n",
       "  2    1003     10         3          8           2              4      60\n",
       "  8    1009     12         2          8           2              4      60),\n",
       " (9,\n",
       "     Stu_ID  Class  Stdy_hrs  Slpng_hrs  online_hrs  Mob.Games_hrs  Perctg\n",
       "  0    1001     10         2          9           3              5      50\n",
       "  9    1010     12         6          9           1              0      85),\n",
       " (10,\n",
       "     Stu_ID  Class  Stdy_hrs  Slpng_hrs  online_hrs  Mob.Games_hrs  Perctg\n",
       "  3    1004     11         0         10           1              5      45)]"
      ]
     },
     "execution_count": 9,
     "metadata": {},
     "output_type": "execute_result"
    }
   ],
   "source": [
    "list(gf2)"
   ]
  },
  {
   "cell_type": "markdown",
   "id": "22896dc1",
   "metadata": {},
   "source": [
    "# or"
   ]
  },
  {
   "cell_type": "code",
   "execution_count": 10,
   "id": "3d832144",
   "metadata": {},
   "outputs": [
    {
     "data": {
      "text/plain": [
       "{6:    Stu_ID  Class  Stdy_hrs  Slpng_hrs  online_hrs  Mob.Games_hrs  Perctg\n",
       " 6    1007     12         4          6           3              0      80\n",
       " 7    1008     12        10          6           1              0      90,\n",
       " 7:    Stu_ID  Class  Stdy_hrs  Slpng_hrs  online_hrs  Mob.Games_hrs  Perctg\n",
       " 4    1005     11         4          7           2              0      75\n",
       " 5    1006     11        10          7           3              0      96,\n",
       " 8:    Stu_ID  Class  Stdy_hrs  Slpng_hrs  online_hrs  Mob.Games_hrs  Perctg\n",
       " 1    1002     10         6          8           2              0      80\n",
       " 2    1003     10         3          8           2              4      60\n",
       " 8    1009     12         2          8           2              4      60,\n",
       " 9:    Stu_ID  Class  Stdy_hrs  Slpng_hrs  online_hrs  Mob.Games_hrs  Perctg\n",
       " 0    1001     10         2          9           3              5      50\n",
       " 9    1010     12         6          9           1              0      85,\n",
       " 10:    Stu_ID  Class  Stdy_hrs  Slpng_hrs  online_hrs  Mob.Games_hrs  Perctg\n",
       " 3    1004     11         0         10           1              5      45}"
      ]
     },
     "execution_count": 10,
     "metadata": {},
     "output_type": "execute_result"
    }
   ],
   "source": [
    "dict(list(gf2))"
   ]
  },
  {
   "cell_type": "markdown",
   "id": "882ec09d",
   "metadata": {},
   "source": [
    "#                                or"
   ]
  },
  {
   "cell_type": "code",
   "execution_count": 11,
   "id": "f8040805",
   "metadata": {},
   "outputs": [
    {
     "name": "stdout",
     "output_type": "stream",
     "text": [
      "6\n",
      "   Stu_ID  Class  Stdy_hrs  Slpng_hrs  online_hrs  Mob.Games_hrs  Perctg\n",
      "6    1007     12         4          6           3              0      80\n",
      "7    1008     12        10          6           1              0      90\n",
      "7\n",
      "   Stu_ID  Class  Stdy_hrs  Slpng_hrs  online_hrs  Mob.Games_hrs  Perctg\n",
      "4    1005     11         4          7           2              0      75\n",
      "5    1006     11        10          7           3              0      96\n",
      "8\n",
      "   Stu_ID  Class  Stdy_hrs  Slpng_hrs  online_hrs  Mob.Games_hrs  Perctg\n",
      "1    1002     10         6          8           2              0      80\n",
      "2    1003     10         3          8           2              4      60\n",
      "8    1009     12         2          8           2              4      60\n",
      "9\n",
      "   Stu_ID  Class  Stdy_hrs  Slpng_hrs  online_hrs  Mob.Games_hrs  Perctg\n",
      "0    1001     10         2          9           3              5      50\n",
      "9    1010     12         6          9           1              0      85\n",
      "10\n",
      "   Stu_ID  Class  Stdy_hrs  Slpng_hrs  online_hrs  Mob.Games_hrs  Perctg\n",
      "3    1004     11         0         10           1              5      45\n"
     ]
    }
   ],
   "source": [
    "for Slpng_hrs, df2 in gf2:\n",
    "    print(Slpng_hrs)\n",
    "    print(df2)"
   ]
  },
  {
   "cell_type": "code",
   "execution_count": 12,
   "id": "fd7331ae",
   "metadata": {},
   "outputs": [
    {
     "data": {
      "text/plain": [
       "{1: [3, 7, 9], 2: [1, 2, 4, 8], 3: [0, 5, 6]}"
      ]
     },
     "execution_count": 12,
     "metadata": {},
     "output_type": "execute_result"
    }
   ],
   "source": [
    "gf4 = df.groupby(['online_hrs']).groups\n",
    "gf4"
   ]
  },
  {
   "cell_type": "code",
   "execution_count": 13,
   "id": "a346eef8",
   "metadata": {},
   "outputs": [
    {
     "data": {
      "text/html": [
       "<div>\n",
       "<style scoped>\n",
       "    .dataframe tbody tr th:only-of-type {\n",
       "        vertical-align: middle;\n",
       "    }\n",
       "\n",
       "    .dataframe tbody tr th {\n",
       "        vertical-align: top;\n",
       "    }\n",
       "\n",
       "    .dataframe thead th {\n",
       "        text-align: right;\n",
       "    }\n",
       "</style>\n",
       "<table border=\"1\" class=\"dataframe\">\n",
       "  <thead>\n",
       "    <tr style=\"text-align: right;\">\n",
       "      <th></th>\n",
       "      <th>Stu_ID</th>\n",
       "      <th>Class</th>\n",
       "      <th>Stdy_hrs</th>\n",
       "      <th>Slpng_hrs</th>\n",
       "      <th>online_hrs</th>\n",
       "      <th>Mob.Games_hrs</th>\n",
       "      <th>Perctg</th>\n",
       "    </tr>\n",
       "  </thead>\n",
       "  <tbody>\n",
       "    <tr>\n",
       "      <th>1</th>\n",
       "      <td>1002</td>\n",
       "      <td>10</td>\n",
       "      <td>6</td>\n",
       "      <td>8</td>\n",
       "      <td>2</td>\n",
       "      <td>0</td>\n",
       "      <td>80</td>\n",
       "    </tr>\n",
       "    <tr>\n",
       "      <th>2</th>\n",
       "      <td>1003</td>\n",
       "      <td>10</td>\n",
       "      <td>3</td>\n",
       "      <td>8</td>\n",
       "      <td>2</td>\n",
       "      <td>4</td>\n",
       "      <td>60</td>\n",
       "    </tr>\n",
       "    <tr>\n",
       "      <th>4</th>\n",
       "      <td>1005</td>\n",
       "      <td>11</td>\n",
       "      <td>4</td>\n",
       "      <td>7</td>\n",
       "      <td>2</td>\n",
       "      <td>0</td>\n",
       "      <td>75</td>\n",
       "    </tr>\n",
       "    <tr>\n",
       "      <th>8</th>\n",
       "      <td>1009</td>\n",
       "      <td>12</td>\n",
       "      <td>2</td>\n",
       "      <td>8</td>\n",
       "      <td>2</td>\n",
       "      <td>4</td>\n",
       "      <td>60</td>\n",
       "    </tr>\n",
       "  </tbody>\n",
       "</table>\n",
       "</div>"
      ],
      "text/plain": [
       "   Stu_ID  Class  Stdy_hrs  Slpng_hrs  online_hrs  Mob.Games_hrs  Perctg\n",
       "1    1002     10         6          8           2              0      80\n",
       "2    1003     10         3          8           2              4      60\n",
       "4    1005     11         4          7           2              0      75\n",
       "8    1009     12         2          8           2              4      60"
      ]
     },
     "execution_count": 13,
     "metadata": {},
     "output_type": "execute_result"
    }
   ],
   "source": [
    "gf4a = df.groupby('online_hrs').get_group(2)\n",
    "gf4a"
   ]
  },
  {
   "cell_type": "code",
   "execution_count": 15,
   "id": "8638c15d",
   "metadata": {},
   "outputs": [
    {
     "data": {
      "text/plain": [
       "<pandas.core.groupby.generic.DataFrameGroupBy object at 0x0000022D2386F7F0>"
      ]
     },
     "execution_count": 15,
     "metadata": {},
     "output_type": "execute_result"
    }
   ],
   "source": [
    "gf4b = df.groupby('online_hrs')\n",
    "gf4b"
   ]
  },
  {
   "cell_type": "code",
   "execution_count": 18,
   "id": "591d2e39",
   "metadata": {},
   "outputs": [
    {
     "data": {
      "text/plain": [
       "{1: [3, 7, 9], 2: [1, 2, 4, 8], 3: [0, 5, 6]}"
      ]
     },
     "execution_count": 18,
     "metadata": {},
     "output_type": "execute_result"
    }
   ],
   "source": [
    "gf4b.groups"
   ]
  },
  {
   "cell_type": "code",
   "execution_count": 19,
   "id": "0acac20e",
   "metadata": {},
   "outputs": [
    {
     "data": {
      "text/html": [
       "<div>\n",
       "<style scoped>\n",
       "    .dataframe tbody tr th:only-of-type {\n",
       "        vertical-align: middle;\n",
       "    }\n",
       "\n",
       "    .dataframe tbody tr th {\n",
       "        vertical-align: top;\n",
       "    }\n",
       "\n",
       "    .dataframe thead th {\n",
       "        text-align: right;\n",
       "    }\n",
       "</style>\n",
       "<table border=\"1\" class=\"dataframe\">\n",
       "  <thead>\n",
       "    <tr style=\"text-align: right;\">\n",
       "      <th></th>\n",
       "      <th>Stu_ID</th>\n",
       "      <th>Class</th>\n",
       "      <th>Stdy_hrs</th>\n",
       "      <th>Slpng_hrs</th>\n",
       "      <th>Mob.Games_hrs</th>\n",
       "      <th>Perctg</th>\n",
       "    </tr>\n",
       "    <tr>\n",
       "      <th>online_hrs</th>\n",
       "      <th></th>\n",
       "      <th></th>\n",
       "      <th></th>\n",
       "      <th></th>\n",
       "      <th></th>\n",
       "      <th></th>\n",
       "    </tr>\n",
       "  </thead>\n",
       "  <tbody>\n",
       "    <tr>\n",
       "      <th>1</th>\n",
       "      <td>3022</td>\n",
       "      <td>35</td>\n",
       "      <td>16</td>\n",
       "      <td>25</td>\n",
       "      <td>5</td>\n",
       "      <td>220</td>\n",
       "    </tr>\n",
       "    <tr>\n",
       "      <th>2</th>\n",
       "      <td>4019</td>\n",
       "      <td>43</td>\n",
       "      <td>15</td>\n",
       "      <td>31</td>\n",
       "      <td>8</td>\n",
       "      <td>275</td>\n",
       "    </tr>\n",
       "    <tr>\n",
       "      <th>3</th>\n",
       "      <td>3014</td>\n",
       "      <td>33</td>\n",
       "      <td>16</td>\n",
       "      <td>22</td>\n",
       "      <td>5</td>\n",
       "      <td>226</td>\n",
       "    </tr>\n",
       "  </tbody>\n",
       "</table>\n",
       "</div>"
      ],
      "text/plain": [
       "            Stu_ID  Class  Stdy_hrs  Slpng_hrs  Mob.Games_hrs  Perctg\n",
       "online_hrs                                                           \n",
       "1             3022     35        16         25              5     220\n",
       "2             4019     43        15         31              8     275\n",
       "3             3014     33        16         22              5     226"
      ]
     },
     "execution_count": 19,
     "metadata": {},
     "output_type": "execute_result"
    }
   ],
   "source": [
    "gf4b.sum()"
   ]
  },
  {
   "cell_type": "code",
   "execution_count": null,
   "id": "b99a33c1",
   "metadata": {},
   "outputs": [],
   "source": [
    "gf.sum()                    # gf = 'class'        * please see up "
   ]
  },
  {
   "cell_type": "code",
   "execution_count": null,
   "id": "e375419a",
   "metadata": {},
   "outputs": [],
   "source": [
    "gf2.sum()                 #  gf2 = 'Slpng_hrs'           * please see up "
   ]
  },
  {
   "cell_type": "code",
   "execution_count": null,
   "id": "c10fa7d6",
   "metadata": {},
   "outputs": [],
   "source": [
    "gf2.mean()"
   ]
  },
  {
   "cell_type": "code",
   "execution_count": null,
   "id": "b435a903",
   "metadata": {},
   "outputs": [],
   "source": [
    "gf2.describe()"
   ]
  },
  {
   "cell_type": "code",
   "execution_count": null,
   "id": "084780c9",
   "metadata": {},
   "outputs": [],
   "source": [
    "gf2.agg(['sum','min','max','mean'])"
   ]
  },
  {
   "cell_type": "code",
   "execution_count": null,
   "id": "15289890",
   "metadata": {},
   "outputs": [],
   "source": [
    "df"
   ]
  },
  {
   "cell_type": "code",
   "execution_count": null,
   "id": "20e7992f",
   "metadata": {},
   "outputs": [],
   "source": [
    "gf5 = df.groupby(['online_hrs','Stdy_hrs']).groups   # start from 0 from first section * online_hrs = 0,1,2,3.....\n",
    "gf5"
   ]
  },
  {
   "cell_type": "code",
   "execution_count": null,
   "id": "05e3e216",
   "metadata": {},
   "outputs": [],
   "source": [
    "gf5a = df.groupby(['Stdy_hrs','online_hrs']).groups   # start from 0 from first section * Stdy_hrs = 0,1,2,3.....\n",
    "gf5a"
   ]
  },
  {
   "cell_type": "code",
   "execution_count": null,
   "id": "16ef9f53",
   "metadata": {},
   "outputs": [],
   "source": []
  },
  {
   "cell_type": "code",
   "execution_count": null,
   "id": "5753385c",
   "metadata": {},
   "outputs": [],
   "source": []
  }
 ],
 "metadata": {
  "kernelspec": {
   "display_name": "Python 3 (ipykernel)",
   "language": "python",
   "name": "python3"
  },
  "language_info": {
   "codemirror_mode": {
    "name": "ipython",
    "version": 3
   },
   "file_extension": ".py",
   "mimetype": "text/x-python",
   "name": "python",
   "nbconvert_exporter": "python",
   "pygments_lexer": "ipython3",
   "version": "3.10.5"
  }
 },
 "nbformat": 4,
 "nbformat_minor": 5
}
