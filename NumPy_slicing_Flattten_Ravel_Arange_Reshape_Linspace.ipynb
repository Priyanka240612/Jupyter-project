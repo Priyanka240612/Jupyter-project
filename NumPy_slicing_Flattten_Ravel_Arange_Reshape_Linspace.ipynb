{
 "cells": [
  {
   "cell_type": "markdown",
   "id": "2c9f96ec",
   "metadata": {},
   "source": [
    "# Numpy_functions"
   ]
  },
  {
   "cell_type": "code",
   "execution_count": 5,
   "id": "20b84212",
   "metadata": {},
   "outputs": [],
   "source": [
    "import numpy as np"
   ]
  },
  {
   "cell_type": "markdown",
   "id": "61289db8",
   "metadata": {},
   "source": [
    "# Arange :  arange()"
   ]
  },
  {
   "cell_type": "code",
   "execution_count": 2,
   "id": "332a8d0f",
   "metadata": {},
   "outputs": [
    {
     "name": "stdout",
     "output_type": "stream",
     "text": [
      "[ 1  2  3  4  5  6  7  8  9 10 11 12 13 14]\n"
     ]
    }
   ],
   "source": [
    "arr1_1d = np.arange(1,15)                        # define range between two values\n",
    "print(arr1_1d)"
   ]
  },
  {
   "cell_type": "code",
   "execution_count": 3,
   "id": "f1c5eb36",
   "metadata": {},
   "outputs": [
    {
     "name": "stdout",
     "output_type": "stream",
     "text": [
      "[ 0  1  2  3  4  5  6  7  8  9 10 11 12 13 14 15 16 17 18 19]\n"
     ]
    }
   ],
   "source": [
    "arr2_1d = np.arange(20)                         # it consider from 0 for not given value\n",
    "print(arr2_1d)"
   ]
  },
  {
   "cell_type": "code",
   "execution_count": 4,
   "id": "2adf47a8",
   "metadata": {},
   "outputs": [
    {
     "name": "stdout",
     "output_type": "stream",
     "text": [
      "[]\n"
     ]
    }
   ],
   "source": [
    "arr3_1d = np.arange(20,2)                        # it won't understand this type of value\n",
    "print(arr3_1d)"
   ]
  },
  {
   "cell_type": "code",
   "execution_count": 5,
   "id": "789c9699",
   "metadata": {},
   "outputs": [
    {
     "name": "stdout",
     "output_type": "stream",
     "text": [
      "[ 0  2  4  6  8 10 12 14 16 18]\n"
     ]
    }
   ],
   "source": [
    "arr4_1d = np.arange(0,20,2)                      # define range between first two value in difference of given third value \n",
    "print(arr4_1d)"
   ]
  },
  {
   "cell_type": "code",
   "execution_count": 6,
   "id": "eb544754",
   "metadata": {},
   "outputs": [
    {
     "name": "stdout",
     "output_type": "stream",
     "text": [
      "[ 0  5 10 15]\n"
     ]
    }
   ],
   "source": [
    "arr4a_1d = np.arange(0,20,5)                      # define range between first two value in difference of given third value \n",
    "print(arr4a_1d)"
   ]
  },
  {
   "cell_type": "markdown",
   "id": "e8692641",
   "metadata": {},
   "source": [
    "# LinSpace : linspace()"
   ]
  },
  {
   "cell_type": "code",
   "execution_count": 7,
   "id": "4a631343",
   "metadata": {},
   "outputs": [
    {
     "name": "stdout",
     "output_type": "stream",
     "text": [
      "[ 1. 20.]\n"
     ]
    }
   ],
   "source": [
    "arr5_1d = np.linspace(1,20,2)                   # devide first two values in similar spam of third value\n",
    "print(arr5_1d)                                        # check more expl below"
   ]
  },
  {
   "cell_type": "code",
   "execution_count": 8,
   "id": "f7dd6b4c",
   "metadata": {
    "scrolled": true
   },
   "outputs": [
    {
     "data": {
      "text/plain": [
       "dtype('float64')"
      ]
     },
     "execution_count": 8,
     "metadata": {},
     "output_type": "execute_result"
    }
   ],
   "source": [
    "arr5_1d.dtype"
   ]
  },
  {
   "cell_type": "code",
   "execution_count": 9,
   "id": "851eeb4b",
   "metadata": {},
   "outputs": [
    {
     "name": "stdout",
     "output_type": "stream",
     "text": [
      "[ 1.    5.75 10.5  15.25 20.  ]\n"
     ]
    }
   ],
   "source": [
    "arr5aa_1d = np.linspace(1,20,5) #,dtype = int)     # try to change its data-type but its giving error\n",
    "print(arr5aa_1d) "
   ]
  },
  {
   "cell_type": "code",
   "execution_count": 10,
   "id": "abe0b013",
   "metadata": {},
   "outputs": [
    {
     "name": "stdout",
     "output_type": "stream",
     "text": [
      "[ 1.    5.75 10.5  15.25 20.  ]\n"
     ]
    },
    {
     "data": {
      "text/plain": [
       "dtype('float64')"
      ]
     },
     "execution_count": 10,
     "metadata": {},
     "output_type": "execute_result"
    }
   ],
   "source": [
    "arr5a_1d = np.linspace(1,20,5)                 # devide first two values in similar spam of third value\n",
    "print(arr5a_1d)#.dtype\n",
    "arr5a_1d.dtype"
   ]
  },
  {
   "cell_type": "code",
   "execution_count": 11,
   "id": "5bf6bd8e",
   "metadata": {},
   "outputs": [
    {
     "name": "stdout",
     "output_type": "stream",
     "text": [
      "[ 1.          3.11111111  5.22222222  7.33333333  9.44444444 11.55555556\n",
      " 13.66666667 15.77777778 17.88888889 20.        ]\n"
     ]
    }
   ],
   "source": [
    "arr5b_1d = np.linspace(1,20,10)                   # devide first two values in similar spam of third value\n",
    "print(arr5b_1d)"
   ]
  },
  {
   "cell_type": "code",
   "execution_count": 3,
   "id": "4a49197b",
   "metadata": {},
   "outputs": [
    {
     "name": "stdout",
     "output_type": "stream",
     "text": [
      "[ 1.          2.05555556  3.11111111  4.16666667  5.22222222  6.27777778\n",
      "  7.33333333  8.38888889  9.44444444 10.5        11.55555556 12.61111111\n",
      " 13.66666667 14.72222222 15.77777778 16.83333333 17.88888889 18.94444444]\n"
     ]
    }
   ],
   "source": [
    "arr5c_1d = np.linspace(1,20,18 , endpoint = False)                   # devide first two values in similar spam of third value\n",
    "print(arr5c_1d)"
   ]
  },
  {
   "cell_type": "markdown",
   "id": "0b4c2f34",
   "metadata": {},
   "source": [
    "# Reshape  : reshape()"
   ]
  },
  {
   "cell_type": "code",
   "execution_count": 13,
   "id": "98071514",
   "metadata": {},
   "outputs": [
    {
     "name": "stdout",
     "output_type": "stream",
     "text": [
      "[[ 1.          2.11764706  3.23529412]\n",
      " [ 4.35294118  5.47058824  6.58823529]\n",
      " [ 7.70588235  8.82352941  9.94117647]\n",
      " [11.05882353 12.17647059 13.29411765]\n",
      " [14.41176471 15.52941176 16.64705882]\n",
      " [17.76470588 18.88235294 20.        ]]\n"
     ]
    }
   ],
   "source": [
    "arr6_2d = arr5c_1d.reshape(6,3)                   # give shape as difine in (row, colom)\n",
    "print(arr6_2d)"
   ]
  },
  {
   "cell_type": "code",
   "execution_count": 7,
   "id": "2e34fafc",
   "metadata": {},
   "outputs": [
    {
     "name": "stdout",
     "output_type": "stream",
     "text": [
      "[[ 1.          2.05555556  3.11111111]\n",
      " [ 4.16666667  5.22222222  6.27777778]\n",
      " [ 7.33333333  8.38888889  9.44444444]\n",
      " [10.5        11.55555556 12.61111111]\n",
      " [13.66666667 14.72222222 15.77777778]\n",
      " [16.83333333 17.88888889 18.94444444]]\n"
     ]
    }
   ],
   "source": [
    "arr6a_2d = np.reshape(arr5c_1d , (6,3))                   # give shape as difine in (row, colom)\n",
    "print(arr6a_2d)"
   ]
  },
  {
   "cell_type": "code",
   "execution_count": 8,
   "id": "8ee3d91d",
   "metadata": {},
   "outputs": [
    {
     "name": "stdout",
     "output_type": "stream",
     "text": [
      "[[ 1.          2.05555556  3.11111111  4.16666667  5.22222222  6.27777778]\n",
      " [ 7.33333333  8.38888889  9.44444444 10.5        11.55555556 12.61111111]\n",
      " [13.66666667 14.72222222 15.77777778 16.83333333 17.88888889 18.94444444]]\n"
     ]
    }
   ],
   "source": [
    "arr6b_2d = np.reshape(arr5c_1d , (3,6))                   # give shape as difine in (row, colom)\n",
    "print(arr6b_2d)"
   ]
  },
  {
   "cell_type": "markdown",
   "id": "55a8aab3",
   "metadata": {},
   "source": [
    "#  Using both in one stmt :    Linspace and Reshape "
   ]
  },
  {
   "cell_type": "code",
   "execution_count": 14,
   "id": "6495d991",
   "metadata": {},
   "outputs": [
    {
     "name": "stdout",
     "output_type": "stream",
     "text": [
      "[[ 1.          2.11764706  3.23529412]\n",
      " [ 4.35294118  5.47058824  6.58823529]\n",
      " [ 7.70588235  8.82352941  9.94117647]\n",
      " [11.05882353 12.17647059 13.29411765]\n",
      " [14.41176471 15.52941176 16.64705882]\n",
      " [17.76470588 18.88235294 20.        ]]\n"
     ]
    }
   ],
   "source": [
    "arr7_2d = np.linspace(1,20,18).reshape(6,3)\n",
    "print(arr7_2d)"
   ]
  },
  {
   "cell_type": "code",
   "execution_count": 15,
   "id": "0cc0b0f0",
   "metadata": {},
   "outputs": [
    {
     "name": "stdout",
     "output_type": "stream",
     "text": [
      "[[[ 1.          2.11764706  3.23529412]\n",
      "  [ 4.35294118  5.47058824  6.58823529]\n",
      "  [ 7.70588235  8.82352941  9.94117647]]\n",
      "\n",
      " [[11.05882353 12.17647059 13.29411765]\n",
      "  [14.41176471 15.52941176 16.64705882]\n",
      "  [17.76470588 18.88235294 20.        ]]]\n"
     ]
    }
   ],
   "source": [
    "arr8_3d = np.linspace(1,20,18).reshape(2,3,3)\n",
    "print(arr8_3d)"
   ]
  },
  {
   "cell_type": "markdown",
   "id": "06aaffbd",
   "metadata": {},
   "source": [
    "#           Using Arange and Reshape "
   ]
  },
  {
   "cell_type": "code",
   "execution_count": 16,
   "id": "4d9815a1",
   "metadata": {},
   "outputs": [
    {
     "name": "stdout",
     "output_type": "stream",
     "text": [
      "[[ 1  2]\n",
      " [ 3  4]\n",
      " [ 5  6]\n",
      " [ 7  8]\n",
      " [ 9 10]\n",
      " [11 12]\n",
      " [13 14]]\n"
     ]
    }
   ],
   "source": [
    "arr9_1d = np.arange(1,15).reshape(7,2)\n",
    "print(arr9_1d)"
   ]
  },
  {
   "cell_type": "markdown",
   "id": "619f7bfa",
   "metadata": {},
   "source": [
    "#  Ravel   : ravel()"
   ]
  },
  {
   "cell_type": "code",
   "execution_count": 17,
   "id": "21eccdc5",
   "metadata": {},
   "outputs": [
    {
     "name": "stdout",
     "output_type": "stream",
     "text": [
      "[ 1  2  3  4  5  6  7  8  9 10 11 12 13 14]\n"
     ]
    }
   ],
   "source": [
    "arr10_1d = arr9_1d.ravel()                            # decrease dimension  from \"2d \" to \"1d\"\n",
    "print(arr10_1d)"
   ]
  },
  {
   "cell_type": "code",
   "execution_count": 18,
   "id": "26eb90c5",
   "metadata": {},
   "outputs": [
    {
     "name": "stdout",
     "output_type": "stream",
     "text": [
      "[ 1.          2.11764706  3.23529412  4.35294118  5.47058824  6.58823529\n",
      "  7.70588235  8.82352941  9.94117647 11.05882353 12.17647059 13.29411765\n",
      " 14.41176471 15.52941176 16.64705882 17.76470588 18.88235294 20.        ]\n"
     ]
    }
   ],
   "source": [
    "arr10a_1d = arr8_3d.ravel()                          # decrease dimension   from \"3d\" to \"2d\"\n",
    "print(arr10a_1d)"
   ]
  },
  {
   "cell_type": "code",
   "execution_count": 19,
   "id": "fcd90e71",
   "metadata": {},
   "outputs": [
    {
     "name": "stdout",
     "output_type": "stream",
     "text": [
      "[ 1  2  3  4  5  6  7  8  9 10 11 12 13 14]\n"
     ]
    }
   ],
   "source": [
    "arr10b_1d = np.arange(1,15).ravel()                     # not change from 1d\n",
    "print(arr10b_1d)"
   ]
  },
  {
   "cell_type": "markdown",
   "id": "9f19797a",
   "metadata": {},
   "source": [
    "# Flattten :  flatten()"
   ]
  },
  {
   "cell_type": "code",
   "execution_count": 20,
   "id": "689f8fb3",
   "metadata": {},
   "outputs": [
    {
     "name": "stdout",
     "output_type": "stream",
     "text": [
      "[ 1  2  3  4  5  6  7  8  9 10 11 12 13 14]\n"
     ]
    }
   ],
   "source": [
    "arr11_1d = arr9_1d.flatten()                            # decrease dimension  from \"2d \" to \"1d\"\n",
    "print(arr11_1d)"
   ]
  },
  {
   "cell_type": "code",
   "execution_count": 21,
   "id": "a064797c",
   "metadata": {},
   "outputs": [
    {
     "name": "stdout",
     "output_type": "stream",
     "text": [
      "[ 1.          2.11764706  3.23529412  4.35294118  5.47058824  6.58823529\n",
      "  7.70588235  8.82352941  9.94117647 11.05882353 12.17647059 13.29411765\n",
      " 14.41176471 15.52941176 16.64705882 17.76470588 18.88235294 20.        ]\n"
     ]
    }
   ],
   "source": [
    "arr11a_1d = arr8_3d.flatten()                            # decrease dimension   from \"3d\" to \"2d\"\n",
    "print(arr11a_1d)"
   ]
  },
  {
   "cell_type": "code",
   "execution_count": 22,
   "id": "8cff0bb3",
   "metadata": {},
   "outputs": [
    {
     "name": "stdout",
     "output_type": "stream",
     "text": [
      "[ 0  5 10 15]\n"
     ]
    }
   ],
   "source": [
    "arr11b_1d = arr4a_1d.flatten()                             # not change from 1d\n",
    "print(arr11b_1d)"
   ]
  },
  {
   "cell_type": "markdown",
   "id": "95cec0ec",
   "metadata": {},
   "source": [
    "# Transpose  : transpose()"
   ]
  },
  {
   "cell_type": "code",
   "execution_count": 23,
   "id": "15d517cb",
   "metadata": {},
   "outputs": [
    {
     "name": "stdout",
     "output_type": "stream",
     "text": [
      "[ 0  5 10 15]\n"
     ]
    }
   ],
   "source": [
    "arr12_1d = arr4a_1d.transpose()                     #Interchange ROWs and COLOMs positions\n",
    "print(arr12_1d)"
   ]
  },
  {
   "cell_type": "code",
   "execution_count": 24,
   "id": "3bb680fb",
   "metadata": {},
   "outputs": [
    {
     "name": "stdout",
     "output_type": "stream",
     "text": [
      "[[ 1  3  5  7  9 11 13]\n",
      " [ 2  4  6  8 10 12 14]]\n"
     ]
    }
   ],
   "source": [
    "arr12_2d = arr9_1d.transpose()                       #Interchange ROWs and COLOMs positions\n",
    "print(arr12_2d)"
   ]
  },
  {
   "cell_type": "code",
   "execution_count": 25,
   "id": "067f54e3",
   "metadata": {},
   "outputs": [
    {
     "name": "stdout",
     "output_type": "stream",
     "text": [
      "[[[ 1.         11.05882353]\n",
      "  [ 4.35294118 14.41176471]\n",
      "  [ 7.70588235 17.76470588]]\n",
      "\n",
      " [[ 2.11764706 12.17647059]\n",
      "  [ 5.47058824 15.52941176]\n",
      "  [ 8.82352941 18.88235294]]\n",
      "\n",
      " [[ 3.23529412 13.29411765]\n",
      "  [ 6.58823529 16.64705882]\n",
      "  [ 9.94117647 20.        ]]]\n"
     ]
    }
   ],
   "source": [
    "arr12_3d = arr8_3d.transpose()                       #Interchange ROWs and COLOMs positions\n",
    "print(arr12_3d)"
   ]
  },
  {
   "cell_type": "code",
   "execution_count": 26,
   "id": "fae9adb2",
   "metadata": {},
   "outputs": [
    {
     "name": "stdout",
     "output_type": "stream",
     "text": [
      "[[[ 1.         11.05882353]\n",
      "  [ 4.35294118 14.41176471]\n",
      "  [ 7.70588235 17.76470588]]\n",
      "\n",
      " [[ 2.11764706 12.17647059]\n",
      "  [ 5.47058824 15.52941176]\n",
      "  [ 8.82352941 18.88235294]]\n",
      "\n",
      " [[ 3.23529412 13.29411765]\n",
      "  [ 6.58823529 16.64705882]\n",
      "  [ 9.94117647 20.        ]]]\n"
     ]
    }
   ],
   "source": [
    "arr12a_3d = arr8_3d.T                              #Interchange ROWs and COLOMs positions\n",
    "print(arr12a_3d)                                         #can use only T"
   ]
  },
  {
   "cell_type": "markdown",
   "id": "051dec22",
   "metadata": {},
   "source": [
    "# slicing  :  slicing[]"
   ]
  },
  {
   "cell_type": "code",
   "execution_count": null,
   "id": "2ed0de15",
   "metadata": {},
   "outputs": [],
   "source": [
    "         #matx_20[0:no.,lastno.:last_no]"
   ]
  },
  {
   "cell_type": "code",
   "execution_count": 39,
   "id": "f88c6bfa",
   "metadata": {},
   "outputs": [
    {
     "name": "stdout",
     "output_type": "stream",
     "text": [
      "[[ 0  2  4  6]\n",
      " [ 8 10 12 14]\n",
      " [16 18 20 22]\n",
      " [24 26 28 30]\n",
      " [32 34 36 38]]\n"
     ]
    }
   ],
   "source": [
    "matx_20 = np.arange(0,40,2).reshape(5,4)\n",
    "print(matx_20)"
   ]
  },
  {
   "cell_type": "code",
   "execution_count": 40,
   "id": "a53fcba7",
   "metadata": {},
   "outputs": [
    {
     "name": "stdout",
     "output_type": "stream",
     "text": [
      "[[ 4  6]\n",
      " [12 14]\n",
      " [20 22]]\n"
     ]
    }
   ],
   "source": [
    "matx_20 = np.arange(0,40,2).reshape(5,4)\n",
    "print(matx_20[0:3,2:5])"
   ]
  },
  {
   "cell_type": "code",
   "execution_count": 31,
   "id": "effcc0ab",
   "metadata": {},
   "outputs": [
    {
     "name": "stdout",
     "output_type": "stream",
     "text": [
      "[  1   2   3   4   5   6   7   8   9  10  11  12  13  14  15  16  17  18\n",
      "  19  20  21  22  23  24  25  26  27  28  29  30  31  32  33  34  35  36\n",
      "  37  38  39  40  41  42  43  44  45  46  47  48  49  50  51  52  53  54\n",
      "  55  56  57  58  59  60  61  62  63  64  65  66  67  68  69  70  71  72\n",
      "  73  74  75  76  77  78  79  80  81  82  83  84  85  86  87  88  89  90\n",
      "  91  92  93  94  95  96  97  98  99 100]\n"
     ]
    }
   ],
   "source": [
    "max_100 = np.arange(1,101)\n",
    "print(max_100)"
   ]
  },
  {
   "cell_type": "code",
   "execution_count": 32,
   "id": "36d575ff",
   "metadata": {},
   "outputs": [
    {
     "name": "stdout",
     "output_type": "stream",
     "text": [
      "[[  1   2   3   4   5   6   7   8   9  10]\n",
      " [ 11  12  13  14  15  16  17  18  19  20]\n",
      " [ 21  22  23  24  25  26  27  28  29  30]\n",
      " [ 31  32  33  34  35  36  37  38  39  40]\n",
      " [ 41  42  43  44  45  46  47  48  49  50]\n",
      " [ 51  52  53  54  55  56  57  58  59  60]\n",
      " [ 61  62  63  64  65  66  67  68  69  70]\n",
      " [ 71  72  73  74  75  76  77  78  79  80]\n",
      " [ 81  82  83  84  85  86  87  88  89  90]\n",
      " [ 91  92  93  94  95  96  97  98  99 100]]\n"
     ]
    }
   ],
   "source": [
    "max_100a = np.arange(1,101).reshape(10,10)\n",
    "print(max_100a)"
   ]
  },
  {
   "cell_type": "code",
   "execution_count": 34,
   "id": "8c4c00ab",
   "metadata": {},
   "outputs": [
    {
     "name": "stdout",
     "output_type": "stream",
     "text": [
      "[[23 24]\n",
      " [33 34]]\n"
     ]
    }
   ],
   "source": [
    "max_100b = np.arange(1,101).reshape(10,10)#.max_100b[2:4,2:4]\n",
    "print(max_100b[2:4,2:4])"
   ]
  },
  {
   "cell_type": "code",
   "execution_count": null,
   "id": "7fca53e5",
   "metadata": {},
   "outputs": [],
   "source": []
  }
 ],
 "metadata": {
  "kernelspec": {
   "display_name": "Python 3 (ipykernel)",
   "language": "python",
   "name": "python3"
  },
  "language_info": {
   "codemirror_mode": {
    "name": "ipython",
    "version": 3
   },
   "file_extension": ".py",
   "mimetype": "text/x-python",
   "name": "python",
   "nbconvert_exporter": "python",
   "pygments_lexer": "ipython3",
   "version": "3.10.5"
  }
 },
 "nbformat": 4,
 "nbformat_minor": 5
}
