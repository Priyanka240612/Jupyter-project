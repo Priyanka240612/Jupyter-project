{
 "cells": [
  {
   "cell_type": "code",
   "execution_count": 2,
   "id": "27d014c6",
   "metadata": {},
   "outputs": [],
   "source": [
    "import numpy as np"
   ]
  },
  {
   "cell_type": "code",
   "execution_count": 2,
   "id": "5cd83a08",
   "metadata": {},
   "outputs": [],
   "source": [
    "#import matplotlib as plt"
   ]
  },
  {
   "cell_type": "code",
   "execution_count": 3,
   "id": "f203b7d1",
   "metadata": {},
   "outputs": [],
   "source": [
    "#import pandas as pd"
   ]
  },
  {
   "cell_type": "code",
   "execution_count": 4,
   "id": "6ae6e435",
   "metadata": {},
   "outputs": [],
   "source": [
    "import random as rd"
   ]
  },
  {
   "cell_type": "code",
   "execution_count": 3,
   "id": "2b35e800",
   "metadata": {},
   "outputs": [
    {
     "data": {
      "text/plain": [
       "array([[0.29830339, 0.52090774, 0.77409571],\n",
       "       [0.22600157, 0.34411651, 0.10205658],\n",
       "       [0.26093318, 0.38527517, 0.10418096]])"
      ]
     },
     "execution_count": 3,
     "metadata": {},
     "output_type": "execute_result"
    }
   ],
   "source": [
    "x1 = np.random.random((3,3))\n",
    "x1"
   ]
  },
  {
   "cell_type": "code",
   "execution_count": 5,
   "id": "bb83f271",
   "metadata": {},
   "outputs": [
    {
     "data": {
      "text/plain": [
       "array([[12,  7],\n",
       "       [ 9, 14],\n",
       "       [13,  5]])"
      ]
     },
     "execution_count": 5,
     "metadata": {},
     "output_type": "execute_result"
    }
   ],
   "source": [
    "x2 = np.random.randint(4,15 , (3,2))\n",
    "x2"
   ]
  },
  {
   "cell_type": "code",
   "execution_count": 5,
   "id": "55356a25",
   "metadata": {},
   "outputs": [
    {
     "name": "stdout",
     "output_type": "stream",
     "text": [
      "[0 0 2 0 0 1 1 1 0 1]\n"
     ]
    }
   ],
   "source": [
    "from numpy import random                           #maximum 6 elemets can come in one time result\n",
    "\n",
    "x = random.binomial(n=10, p=0.1, size=10)          # p = probability , p<1 and p>0  \n",
    "                                                                      #  0<p<1  \n",
    "print(x)                                                              #  0.1<P<1"
   ]
  },
  {
   "cell_type": "code",
   "execution_count": 6,
   "id": "7ce8f746",
   "metadata": {},
   "outputs": [
    {
     "name": "stdout",
     "output_type": "stream",
     "text": [
      "[10 10 10 10 10 10 10 10 10 10]\n"
     ]
    }
   ],
   "source": [
    "from numpy import random                           #maximum 10 elemets can come in one time result\n",
    "\n",
    "x = random.binomial(n=10, p=1, size=10)            # that means all time only 10 will come\n",
    "\n",
    "print(x)"
   ]
  },
  {
   "cell_type": "code",
   "execution_count": null,
   "id": "5fb1a712",
   "metadata": {},
   "outputs": [],
   "source": []
  }
 ],
 "metadata": {
  "kernelspec": {
   "display_name": "Python 3 (ipykernel)",
   "language": "python",
   "name": "python3"
  },
  "language_info": {
   "codemirror_mode": {
    "name": "ipython",
    "version": 3
   },
   "file_extension": ".py",
   "mimetype": "text/x-python",
   "name": "python",
   "nbconvert_exporter": "python",
   "pygments_lexer": "ipython3",
   "version": "3.10.5"
  }
 },
 "nbformat": 4,
 "nbformat_minor": 5
}
