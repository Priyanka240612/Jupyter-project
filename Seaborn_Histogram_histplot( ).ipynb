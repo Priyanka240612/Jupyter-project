{
 "cells": [
  {
   "cell_type": "code",
   "execution_count": 1,
   "id": "542d5981",
   "metadata": {},
   "outputs": [],
   "source": [
    "import seaborn as sns\n",
    "import matplotlib.pyplot as plt\n",
    "import numpy as np\n",
    "import random"
   ]
  },
  {
   "cell_type": "raw",
   "id": "81c3541c",
   "metadata": {},
   "source": [
    "What are the Differences Between Bar Chart and Histogram? \n",
    "\n",
    "--The bar graph is the graphical representation of categorical data. \n",
    "\n",
    "--A histogram is the graphical representation of quantitative data. \n",
    "  There is equal space between each pair of consecutive bars."
   ]
  },
  {
   "cell_type": "code",
   "execution_count": 2,
   "id": "a2e3c405",
   "metadata": {},
   "outputs": [
    {
     "data": {
      "text/html": [
       "<div>\n",
       "<style scoped>\n",
       "    .dataframe tbody tr th:only-of-type {\n",
       "        vertical-align: middle;\n",
       "    }\n",
       "\n",
       "    .dataframe tbody tr th {\n",
       "        vertical-align: top;\n",
       "    }\n",
       "\n",
       "    .dataframe thead th {\n",
       "        text-align: right;\n",
       "    }\n",
       "</style>\n",
       "<table border=\"1\" class=\"dataframe\">\n",
       "  <thead>\n",
       "    <tr style=\"text-align: right;\">\n",
       "      <th></th>\n",
       "      <th>total_bill</th>\n",
       "      <th>tip</th>\n",
       "      <th>sex</th>\n",
       "      <th>smoker</th>\n",
       "      <th>day</th>\n",
       "      <th>time</th>\n",
       "      <th>size</th>\n",
       "    </tr>\n",
       "  </thead>\n",
       "  <tbody>\n",
       "    <tr>\n",
       "      <th>0</th>\n",
       "      <td>16.99</td>\n",
       "      <td>1.01</td>\n",
       "      <td>Female</td>\n",
       "      <td>No</td>\n",
       "      <td>Sun</td>\n",
       "      <td>Dinner</td>\n",
       "      <td>2</td>\n",
       "    </tr>\n",
       "    <tr>\n",
       "      <th>1</th>\n",
       "      <td>10.34</td>\n",
       "      <td>1.66</td>\n",
       "      <td>Male</td>\n",
       "      <td>No</td>\n",
       "      <td>Sun</td>\n",
       "      <td>Dinner</td>\n",
       "      <td>3</td>\n",
       "    </tr>\n",
       "    <tr>\n",
       "      <th>2</th>\n",
       "      <td>21.01</td>\n",
       "      <td>3.50</td>\n",
       "      <td>Male</td>\n",
       "      <td>No</td>\n",
       "      <td>Sun</td>\n",
       "      <td>Dinner</td>\n",
       "      <td>3</td>\n",
       "    </tr>\n",
       "    <tr>\n",
       "      <th>3</th>\n",
       "      <td>23.68</td>\n",
       "      <td>3.31</td>\n",
       "      <td>Male</td>\n",
       "      <td>No</td>\n",
       "      <td>Sun</td>\n",
       "      <td>Dinner</td>\n",
       "      <td>2</td>\n",
       "    </tr>\n",
       "    <tr>\n",
       "      <th>4</th>\n",
       "      <td>24.59</td>\n",
       "      <td>3.61</td>\n",
       "      <td>Female</td>\n",
       "      <td>No</td>\n",
       "      <td>Sun</td>\n",
       "      <td>Dinner</td>\n",
       "      <td>4</td>\n",
       "    </tr>\n",
       "    <tr>\n",
       "      <th>...</th>\n",
       "      <td>...</td>\n",
       "      <td>...</td>\n",
       "      <td>...</td>\n",
       "      <td>...</td>\n",
       "      <td>...</td>\n",
       "      <td>...</td>\n",
       "      <td>...</td>\n",
       "    </tr>\n",
       "    <tr>\n",
       "      <th>239</th>\n",
       "      <td>29.03</td>\n",
       "      <td>5.92</td>\n",
       "      <td>Male</td>\n",
       "      <td>No</td>\n",
       "      <td>Sat</td>\n",
       "      <td>Dinner</td>\n",
       "      <td>3</td>\n",
       "    </tr>\n",
       "    <tr>\n",
       "      <th>240</th>\n",
       "      <td>27.18</td>\n",
       "      <td>2.00</td>\n",
       "      <td>Female</td>\n",
       "      <td>Yes</td>\n",
       "      <td>Sat</td>\n",
       "      <td>Dinner</td>\n",
       "      <td>2</td>\n",
       "    </tr>\n",
       "    <tr>\n",
       "      <th>241</th>\n",
       "      <td>22.67</td>\n",
       "      <td>2.00</td>\n",
       "      <td>Male</td>\n",
       "      <td>Yes</td>\n",
       "      <td>Sat</td>\n",
       "      <td>Dinner</td>\n",
       "      <td>2</td>\n",
       "    </tr>\n",
       "    <tr>\n",
       "      <th>242</th>\n",
       "      <td>17.82</td>\n",
       "      <td>1.75</td>\n",
       "      <td>Male</td>\n",
       "      <td>No</td>\n",
       "      <td>Sat</td>\n",
       "      <td>Dinner</td>\n",
       "      <td>2</td>\n",
       "    </tr>\n",
       "    <tr>\n",
       "      <th>243</th>\n",
       "      <td>18.78</td>\n",
       "      <td>3.00</td>\n",
       "      <td>Female</td>\n",
       "      <td>No</td>\n",
       "      <td>Thur</td>\n",
       "      <td>Dinner</td>\n",
       "      <td>2</td>\n",
       "    </tr>\n",
       "  </tbody>\n",
       "</table>\n",
       "<p>244 rows × 7 columns</p>\n",
       "</div>"
      ],
      "text/plain": [
       "     total_bill   tip     sex smoker   day    time  size\n",
       "0         16.99  1.01  Female     No   Sun  Dinner     2\n",
       "1         10.34  1.66    Male     No   Sun  Dinner     3\n",
       "2         21.01  3.50    Male     No   Sun  Dinner     3\n",
       "3         23.68  3.31    Male     No   Sun  Dinner     2\n",
       "4         24.59  3.61  Female     No   Sun  Dinner     4\n",
       "..          ...   ...     ...    ...   ...     ...   ...\n",
       "239       29.03  5.92    Male     No   Sat  Dinner     3\n",
       "240       27.18  2.00  Female    Yes   Sat  Dinner     2\n",
       "241       22.67  2.00    Male    Yes   Sat  Dinner     2\n",
       "242       17.82  1.75    Male     No   Sat  Dinner     2\n",
       "243       18.78  3.00  Female     No  Thur  Dinner     2\n",
       "\n",
       "[244 rows x 7 columns]"
      ]
     },
     "execution_count": 2,
     "metadata": {},
     "output_type": "execute_result"
    }
   ],
   "source": [
    "tips_df = sns.load_dataset(\"tips\")\n",
    "tips_df"
   ]
  },
  {
   "cell_type": "code",
   "execution_count": 4,
   "id": "67656f0a",
   "metadata": {},
   "outputs": [
    {
     "data": {
      "text/plain": [
       "<Axes: xlabel='total_bill', ylabel='Count'>"
      ]
     },
     "execution_count": 4,
     "metadata": {},
     "output_type": "execute_result"
    },
    {
     "data": {
      "image/png": "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\n",
      "text/plain": [
       "<Figure size 432x288 with 1 Axes>"
      ]
     },
     "metadata": {
      "needs_background": "light"
     },
     "output_type": "display_data"
    }
   ],
   "source": [
    "sns.histplot(tips_df[\"total_bill\"])"
   ]
  },
  {
   "cell_type": "code",
   "execution_count": 5,
   "id": "fbe15aab",
   "metadata": {},
   "outputs": [
    {
     "data": {
      "image/png": "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\n",
      "text/plain": [
       "<Figure size 432x288 with 1 Axes>"
      ]
     },
     "metadata": {
      "needs_background": "light"
     },
     "output_type": "display_data"
    }
   ],
   "source": [
    "sns.histplot(tips_df[\"tip\"])\n",
    "plt.show()"
   ]
  },
  {
   "cell_type": "code",
   "execution_count": 16,
   "id": "d16427e2",
   "metadata": {},
   "outputs": [
    {
     "data": {
      "image/png": "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\n",
      "text/plain": [
       "<Figure size 432x288 with 1 Axes>"
      ]
     },
     "metadata": {
      "needs_background": "light"
     },
     "output_type": "display_data"
    }
   ],
   "source": [
    "\n",
    "sns.histplot(tips_df[\"tip\"],   bins= 50)\n",
    "plt.show()"
   ]
  },
  {
   "cell_type": "code",
   "execution_count": 8,
   "id": "f107c64c",
   "metadata": {},
   "outputs": [
    {
     "data": {
      "image/png": "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\n",
      "text/plain": [
       "<Figure size 432x288 with 1 Axes>"
      ]
     },
     "metadata": {
      "needs_background": "light"
     },
     "output_type": "display_data"
    }
   ],
   "source": [
    "sns.histplot(tips_df[\"sex\"])\n",
    "plt.show()"
   ]
  },
  {
   "cell_type": "code",
   "execution_count": 9,
   "id": "1ad63c91",
   "metadata": {},
   "outputs": [
    {
     "data": {
      "image/png": "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\n",
      "text/plain": [
       "<Figure size 432x288 with 1 Axes>"
      ]
     },
     "metadata": {
      "needs_background": "light"
     },
     "output_type": "display_data"
    }
   ],
   "source": [
    "sns.histplot(tips_df[\"day\"])\n",
    "plt.show()"
   ]
  },
  {
   "cell_type": "code",
   "execution_count": 10,
   "id": "aba6bb3c",
   "metadata": {},
   "outputs": [
    {
     "data": {
      "image/png": "iVBORw0KGgoAAAANSUhEUgAAAYUAAAEGCAYAAACKB4k+AAAAOXRFWHRTb2Z0d2FyZQBNYXRwbG90bGliIHZlcnNpb24zLjcuMSwgaHR0cHM6Ly9tYXRwbG90bGliLm9yZy/bCgiHAAAACXBIWXMAAAsTAAALEwEAmpwYAAATDUlEQVR4nO3df7BndV3H8edLVswf1YJ7Y9b90VKihZRJV0IoB6V0NWOpQcBMN8PWikyzJLGZqJmc0TQ1y8gNNpaJQEIMMtOIUGoM6C6i/M4dFPcu4F4jNLWRVt/98T2cvq13dy937/mee/f7fMx853vO5/z4vs/Mzr7u53N+paqQJAngMX0XIElaPAwFSVLLUJAktQwFSVLLUJAktZb1XcCBWLFiRa1bt67vMiRpSdm2bdsXq2pitmVLOhTWrVvH1NRU32VI0pKS5N69Lets+CjJliS7kty2R/trk9yV5PYkfzDUfm6S7UnuTvLCruqSJO1dlz2Fi4A/AS5+pCHJ84ANwDOr6utJvqtpPxo4E3gG8BTgH5M8raq+0WF9kqQ9dNZTqKrrgQf3aP5l4K1V9fVmnV1N+wbgsqr6elV9FtgOHNdVbZKk2Y366qOnAT+W5MYkH0/y7KZ9FbBjaL3ppu1bJNmUZCrJ1MzMTMflStJ4GXUoLAMOB44H3ghcniSPZgdVtbmqJqtqcmJi1pPnkqR5GnUoTANX1sBNwDeBFcBOYM3QequbNknSCI06FP4GeB5AkqcBhwJfBK4GzkzyuCRHAkcBN424Nkkae51dfZTkUuAkYEWSaeA8YAuwpblM9WFgYw2e3X17ksuBO4DdwNleeSRJo5el/D6FycnJ8uY1SXp0kmyrqsnZlvnso4PYqjVrSbJgn1Vr1vZ9SJI6tqQfc6F9u296B2e87xMLtr/3v+aEBduXpMXJnoIkqWUoSJJahoIkqWUoSJJahoIkqWUoSJJahoIkqWUoSJJahoIkqWUoSJJahoIkqWUoSJJahoIkqWUoSJJahoIkqWUoSJJanYVCki1JdjXvY95z2W8kqSQrmvkkeU+S7Uk+neTYruqSJO1dlz2Fi4D1ezYmWQO8APj8UPOLgKOazybg/A7rkiTtRWehUFXXAw/OsuhdwDlADbVtAC6ugRuA5UlWdlWbJGl2Iz2nkGQDsLOqPrXHolXAjqH56aZttn1sSjKVZGpmZqajSiVpPI0sFJI8AXgz8DsHsp+q2lxVk1U1OTExsTDFSZIAWDbC3/pe4EjgU0kAVgM3JzkO2AmsGVp3ddMmSRqhkfUUqurWqvquqlpXVesYDBEdW1UPAFcDr2yuQjoe+FJV3T+q2iRJA11eknop8K/A05NMJzlrH6t/GLgH2A78OfArXdUlSdq7zoaPqupl+1m+bmi6gLO7qkWSNDfe0SxJahkKkqSWoSBJahkKkqSWoSBJahkKkqSWoSBJahkKkqSWoSBJahkKkqSWoSBJahkKkqSWoSBJahkKkqSWoSBJahkKkqSWoSBJanX5Os4tSXYluW2o7e1J7kry6SQfTLJ8aNm5SbYnuTvJC7uqS5K0d132FC4C1u/Rdg1wTFX9IPDvwLkASY4GzgSe0Wzzp0kO6bA2SdIsOguFqroeeHCPtn+oqt3N7A3A6mZ6A3BZVX29qj4LbAeO66o2SdLs+jyn8AvA3zfTq4AdQ8ummzZJ0gj1EgpJfhvYDVwyj203JZlKMjUzM7PwxUnSGBt5KCT5eeAlwMurqprmncCaodVWN23foqo2V9VkVU1OTEx0WqskjZuRhkKS9cA5wClV9bWhRVcDZyZ5XJIjgaOAm0ZZmyQJlnW14ySXAicBK5JMA+cxuNroccA1SQBuqKpfqqrbk1wO3MFgWOnsqvpGV7VJkmbXWShU1ctmab5wH+u/BXhLV/VIkvbPO5olSS1DQZLUMhQkSS1DQZLUMhQkSS1DQZLUMhQkSS1DQZLUMhQkSS1DQZLUMhQkSS1DQZLUMhQkSS1DQZLUMhQkSS1DQZLUMhQkSS1DQZLU6iwUkmxJsivJbUNthye5Jslnmu/DmvYkeU+S7Uk+neTYruqSJO1dlz2Fi4D1e7S9Cbi2qo4Crm3mAV4EHNV8NgHnd1iXJGkvOguFqroeeHCP5g3A1mZ6K3DqUPvFNXADsDzJyq5qkyTNbtTnFI6oqvub6QeAI5rpVcCOofWmm7ZvkWRTkqkkUzMzM91VKkljqLcTzVVVQM1ju81VNVlVkxMTEx1UJknja9Sh8IVHhoWa711N+05gzdB6q5s2SdIIjToUrgY2NtMbgauG2l/ZXIV0PPCloWEmSdKILOtqx0kuBU4CViSZBs4D3gpcnuQs4F7g9Gb1DwMvBrYDXwNe1VVdkqS96ywUquple1l08izrFnB2V7VIkubGO5olSS1DQZLUMhQkSS1DQZLUMhQkSS1DQZLUmlMoJDlxLm2SpKVtrj2FP55jmyRpCdvnzWtJngOcAEwkecPQou8ADumyMEnS6O3vjuZDgSc16337UPuXgdO6KkqS1I99hkJVfRz4eJKLqureEdUkSerJXJ999Lgkm4F1w9tU1fO7KEqS1I+5hsJfA38GXAB8o7tyJEl9mmso7K6q8zutRJLUu7lekvq3SX4lycokhz/y6bQySdLIzbWn8Mjb0t441FbA9yxsOZKkPs0pFKrqyK4LkST1b06hkOSVs7VX1cXz+dEkvw68mkFv41YGr99cCVwGPBnYBryiqh6ez/4lSfMz13MKzx76/Bjwu8Ap8/nBJKuAXwMmq+oYBndGnwm8DXhXVT0V+E/grPnsX5I0f3MdPnrt8HyS5Qz+qj+Q3318kv8BngDcDzwf+Nlm+VYGweMVT5I0QvN9dPZXgXmdZ6iqncA7gM8zCIMvMRgueqiqdjerTQOr5lmbJGme5npO4W8ZjP/DYLjn+4HL5/ODSQ4DNjAIlYcY3Bi3/lFsvwnYBLB27dr5lCBJ2ou5XpL6jqHp3cC9VTU9z9/8ceCzVTUDkORK4ERgeZJlTW9hNbBzto2rajOwGWBycrJmW0eSND9zGj5qHox3F4MnpR4GHMhVQZ8Hjk/yhCQBTgbuAK7j/568uhG46gB+Q5I0D3N989rpwE3AS4HTgRuTzOvR2VV1I3AFcDODy1Efw+Av/98C3pBkO4PLUi+cz/4lSfM31+Gj3waeXVW7AJJMAP/I4D/3R62qzgPO26P5HuC4+exPkrQw5nr10WMeCYTGfzyKbSVJS8RcewofSfJR4NJm/gzgw92UJEnqy/7e0fxU4IiqemOSnwF+tFn0r8AlXRcnSRqt/fUU3g2cC1BVVwJXAiT5gWbZT3VYmyRpxPZ3XuCIqrp1z8ambV0nFUmSerO/UFi+j2WPX8A6JEmLwP5CYSrJL+7ZmOTVDJ5XJEk6iOzvnMLrgQ8meTn/FwKTwKHAT3dYlySpB/sMhar6AnBCkucBxzTNf1dV/9R5ZZKkkZvr+xSuY/BsIknSQcy7kiVJLUNBktQyFCRJLUNBktQyFCRJLUNBktQyFCRJLUNBktTqJRSSLE9yRZK7ktyZ5DlJDk9yTZLPNN+H9VGbJI2zvnoKfwR8pKq+D3gmcCfwJuDaqjoKuLaZlySN0MhDIcl3As8FLgSoqoer6iFgA7C1WW0rcOqoa5OkcddHT+FIYAb4iySfTHJBkicyeKHP/c06DwBHzLZxkk1JppJMzczMjKhkSRoPfYTCMuBY4PyqehbwVfYYKqqqAmq2jatqc1VNVtXkxMRE58VK0jjpIxSmgemqurGZv4JBSHwhyUqA5ntXD7VJ0lgbeShU1QPAjiRPb5pOBu4ArgY2Nm0bgatGXZskjbs5vU+hA68FLklyKHAP8CoGAXV5krOAe4HTe6pNksZWL6FQVbcweK3nnk4ecSmSpCHe0SxJahkKkqSWoSBJahkKkqSWoSBJahkKkqSWoSBJahkKkqSWoSBJahkKkqSWoSBJahkKkqSWoSBJahkKkqSWoSBJahkKkqSWoSBJahkKkqRWb6GQ5JAkn0zyoWb+yCQ3Jtme5P3N+5slSSPUZ0/hdcCdQ/NvA95VVU8F/hM4q5eqJGmM9RIKSVYDPwlc0MwHeD5wRbPKVuDUPmqTpHHWV0/h3cA5wDeb+ScDD1XV7mZ+Glg124ZJNiWZSjI1MzPTeaGSNE5GHgpJXgLsqqpt89m+qjZX1WRVTU5MTCxwdZI03vroKZwInJLkc8BlDIaN/ghYnmRZs85qYGcPtWkJWrVmLUkW5LNqzdq+D0fq1bL9r7Kwqupc4FyAJCcBv1lVL0/y18BpDIJiI3DVqGvT0nTf9A7OeN8nFmRf73/NCQuyH2mpWkz3KfwW8IYk2xmcY7iw53qkRcPekEZl5D2FYVX1MeBjzfQ9wHF91iMtVvaGNCqLqacgSeqZoSBJahkKkqSWoSBJahkKkqSWoSBJahkKkqSWoSBJahkKkqSWoSBJahkKkqSWoSBJahkKkqSWoSBJahkKkqSWoSBJahkKkqTWyEMhyZok1yW5I8ntSV7XtB+e5Jokn2m+Dxt1bZI07vroKewGfqOqjgaOB85OcjTwJuDaqjoKuLaZlySN0MhDoarur6qbm+n/Au4EVgEbgK3NaluBU0ddmySNu17PKSRZBzwLuBE4oqrubxY9AByxl202JZlKMjUzMzOaQiVpTPQWCkmeBHwAeH1VfXl4WVUVULNtV1Wbq2qyqiYnJiZGUKkkjY9eQiHJYxkEwiVVdWXT/IUkK5vlK4FdfdQmSeOsj6uPAlwI3FlV7xxadDWwsZneCFw16tokadwt6+E3TwReAdya5Jam7c3AW4HLk5wF3Auc3kNtkjTWRh4KVfUvQPay+ORR1iJJ+v+8o1mS1DIUJEktQ0GS1DIUJEktQ0GS1DIUJEktQ0GS1DIUJEktQ0GS1DIUJEktQ0GS1DIUJEktQ0GS1DIUJEktQ0HSorBqzVqSLMhn1Zq1fR/OktXHS3YWhVVr1nLf9I4F2ddTVq9h547PL8i+pHF13/QOznjfJxZkX+9/zQkLsp+FthT+3xnbUBiHf4CSFpel8P+Ow0eSpNaiC4Uk65PcnWR7kjf1XY8kjZNFFQpJDgHeC7wIOBp4WZKj+61KksbHogoF4Dhge1XdU1UPA5cBG3quSZLGRqqq7xpaSU4D1lfVq5v5VwA/UlW/OrTOJmBTM/t04O55/twK4IsHUO5S5DGPB495PBzIMX93VU3MtmDJXX1UVZuBzQe6nyRTVTW5ACUtGR7zePCYx0NXx7zYho92AmuG5lc3bZKkEVhsofBvwFFJjkxyKHAmcHXPNUnS2FhUw0dVtTvJrwIfBQ4BtlTV7R393AEPQS1BHvN48JjHQyfHvKhONEuS+rXYho8kST0yFCRJrbELhSRbkuxKclvftYxKkjVJrktyR5Lbk7yu75q6luTbktyU5FPNMf9e3zWNQpJDknwyyYf6rmVUknwuya1Jbkky1Xc9XUuyPMkVSe5KcmeS5yzo/sftnEKS5wJfAS6uqmP6rmcUkqwEVlbVzUm+HdgGnFpVd/RcWmeSBHhiVX0lyWOBfwFeV1U39Fxap5K8AZgEvqOqXtJ3PaOQ5HPAZFWNxc1rSbYC/1xVFzRXaT6hqh5aqP2PXU+hqq4HHuy7jlGqqvur6uZm+r+AO4FV/VbVrRr4SjP72OZzUP8FlGQ18JPABX3Xom4k+U7gucCFAFX18EIGAoxhKIy7JOuAZwE39lxK55qhlFuAXcA1VXWwH/O7gXOAb/Zcx6gV8A9JtjWPwTmYHQnMAH/RDBNekOSJC/kDhsIYSfIk4APA66vqy33X07Wq+kZV/RCDO+OPS3LQDhcmeQmwq6q29V1LD360qo5l8HTls5sh4oPVMuBY4PyqehbwVWBBXzFgKIyJZlz9A8AlVXVl3/WMUtO9vg5Y33MpXToROKUZX78MeH6Sv+y3pNGoqp3N9y7ggwyetnywmgamh3q9VzAIiQVjKIyB5qTrhcCdVfXOvusZhSQTSZY3048HfgK4q9eiOlRV51bV6qpax+DxMP9UVT/Xc1mdS/LE5uIJmmGUFwAH7ZWFVfUAsCPJ05umk4EFvWBkUT3mYhSSXAqcBKxIMg2cV1UX9ltV504EXgHc2oyxA7y5qj7cX0mdWwlsbV7c9Bjg8qoam8s0x8gRwAcHf/ewDPirqvpIvyV17rXAJc2VR/cAr1rInY/dJamSpL1z+EiS1DIUJEktQ0GS1DIUJEktQ0GS1DIUpAXSPHLg6L7rkA6El6RKklr2FKR5aO6k/bvmfQ23JTkjyceSTCY5pXm2/y1J7k7y2WabH07y8ebBbR9tHmkuLSqGgjQ/64H7quqZzXs52rtoq+rqqvqh5mF8nwLe0Tx76o+B06rqh4EtwFt6qFvap7F7zIW0QG4F/jDJ24APVdU/N49aaCU5B/jvqnpv84TWY4BrmvUOAe4fcc3SfhkK0jxU1b8nORZ4MfD7Sa4dXp7kx4GXMnghCkCA26tqQV+dKC00h4+keUjyFOBrVfWXwNsZenxxku8G3gu8tKr+u2m+G5h45H26SR6b5BkjLlvaL3sK0vz8APD2JN8E/gf4ZeAdzbKfB54M/E0zVHRfVb04yWnAe5pXKi5j8Ka020dct7RPXpIqSWo5fCRJahkKkqSWoSBJahkKkqSWoSBJahkKkqSWoSBJav0vcp0An5id8W0AAAAASUVORK5CYII=\n",
      "text/plain": [
       "<Figure size 432x288 with 1 Axes>"
      ]
     },
     "metadata": {
      "needs_background": "light"
     },
     "output_type": "display_data"
    }
   ],
   "source": [
    "sns.histplot(tips_df[\"size"])\n",
    "plt.show()"
   ]
  },
  {
   "cell_type": "code",
   "execution_count": 11,
   "id": "28ea6ed8",
   "metadata": {
    "scrolled": true
   },
   "outputs": [
    {
     "data": {
      "text/plain": [
       "\"\\nsns.histplot(\\n    data=None,\\n    *,\\n    x=None,\\n    y=None,\\n    hue=None,\\n    weights=None,\\n    stat='count',\\n    bins='auto',\\n    binwidth=None,\\n    binrange=None,\\n    discrete=None,\\n    cumulative=False,\\n    common_bins=True,\\n    common_norm=True,\\n    multiple='layer',\\n    element='bars',\\n    fill=True,\\n    shrink=1,\\n    kde=False,\\n    kde_kws=None,\\n    line_kws=None,\\n    thresh=0,\\n    pthresh=None,\\n    pmax=None,\\n    cbar=False,\\n    cbar_ax=None,\\n    cbar_kws=None,\\n    palette=None,\\n    hue_order=None,\\n    hue_norm=None,\\n    color=None,\\n    log_scale=None,\\n    legend=True,\\n    ax=None,\\n    **kwargs,\\n)\\n\""
      ]
     },
     "execution_count": 11,
     "metadata": {},
     "output_type": "execute_result"
    }
   ],
   "source": [
    "\"\"\"\n",
    "sns.histplot(\n",
    "    data=None,\n",
    "    *,\n",
    "    x=None,\n",
    "    y=None,\n",
    "    hue=None,\n",
    "    weights=None,\n",
    "    stat='count',\n",
    "    bins='auto',\n",
    "    binwidth=None,\n",
    "    binrange=None,\n",
    "    discrete=None,\n",
    "    cumulative=False,\n",
    "    common_bins=True,\n",
    "    common_norm=True,\n",
    "    multiple='layer',\n",
    "    element='bars',\n",
    "    fill=True,\n",
    "    shrink=1,\n",
    "    kde=False,\n",
    "    kde_kws=None,\n",
    "    line_kws=None,\n",
    "    thresh=0,\n",
    "    pthresh=None,\n",
    "    pmax=None,\n",
    "    cbar=False,\n",
    "    cbar_ax=None,\n",
    "    cbar_kws=None,\n",
    "    palette=None,\n",
    "    hue_order=None,\n",
    "    hue_norm=None,\n",
    "    color=None,\n",
    "    log_scale=None,\n",
    "    legend=True,\n",
    "    ax=None,\n",
    "    **kwargs,\n",
    ")\n",
    "\"\"\""
   ]
  },
  {
   "cell_type": "code",
   "execution_count": 27,
   "id": "a029dcc5",
   "metadata": {},
   "outputs": [
    {
     "data": {
      "image/png": "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\n",
      "text/plain": [
       "<Figure size 432x288 with 1 Axes>"
      ]
     },
     "metadata": {
      "needs_background": "light"
     },
     "output_type": "display_data"
    }
   ],
   "source": [
    "sns.histplot(tips_df[\"day\"] , color= 'y' )\n",
    "\n",
    "plt.title(\"Tips Github\", fontsize = 18)\n",
    "plt.xlabel(\"Days\", fontsize = 15)\n",
    "plt.ylabel(\"Count\", fontsize = 15)\n",
    "\n",
    "plt.show()"
   ]
  },
  {
   "cell_type": "code",
   "execution_count": 28,
   "id": "914e2ab9",
   "metadata": {},
   "outputs": [
    {
     "data": {
      "image/png": "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\n",
      "text/plain": [
       "<Figure size 432x288 with 1 Axes>"
      ]
     },
     "metadata": {},
     "output_type": "display_data"
    }
   ],
   "source": [
    "sns.set()\n",
    "\n",
    "sns.histplot(tips_df[\"day\"] , color= 'y' )\n",
    "\n",
    "plt.title(\"Tips Github\", fontsize = 18)\n",
    "plt.xlabel(\"Days\", fontsize = 15)\n",
    "plt.ylabel(\"Count\", fontsize = 15)\n",
    "\n",
    "plt.show()"
   ]
  },
  {
   "cell_type": "code",
   "execution_count": 30,
   "id": "9e64589c",
   "metadata": {},
   "outputs": [
    {
     "data": {
      "image/png": "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\n",
      "text/plain": [
       "<Figure size 432x288 with 1 Axes>"
      ]
     },
     "metadata": {},
     "output_type": "display_data"
    }
   ],
   "source": [
    "sns.set(style= 'whitegrid')\n",
    "\n",
    "sns.histplot(tips_df[\"day\"] , color= 'y' )\n",
    "\n",
    "plt.title(\"Tips Github\", fontsize = 18)\n",
    "plt.xlabel(\"Days\", fontsize = 15)\n",
    "plt.ylabel(\"Count\", fontsize = 15)\n",
    "\n",
    "plt.show()"
   ]
  },
  {
   "cell_type": "code",
   "execution_count": 31,
   "id": "4d6eacf9",
   "metadata": {},
   "outputs": [
    {
     "data": {
      "image/png": "iVBORw0KGgoAAAANSUhEUgAAAYUAAAEhCAYAAACQrrywAAAAOXRFWHRTb2Z0d2FyZQBNYXRwbG90bGliIHZlcnNpb24zLjcuMSwgaHR0cHM6Ly9tYXRwbG90bGliLm9yZy/bCgiHAAAACXBIWXMAAAsTAAALEwEAmpwYAAAdRElEQVR4nO3deVTVdeL/8RcIiAsm4EWdXEpzcA1ScUswTRNBMq+OYiZlox1T0/yqSUV5nLFcRrNMjRY1U85kKSolQQtlEg4upRz3bNxnQkxzAUVBfn/48z0CgkDyuSLPxzme+Cz3c1/3E96Xn90pLy8vTwAASHJ2dAAAwO2DUgAAGJQCAMCgFAAABqUAADAoBQCAQSngthcZGSlfX9+b/omMjFRsbKx8fX2Vmppqec6TJ09q4cKFeuyxxxQQECB/f3+FhoZq7ty5On36dL55jx07Jl9fX7399tv5xh89ejTf8LXPdavc6uXhzuPi6ADAzQwePFidO3c2w9u2bdPKlSs1ePBgtWvXzoxv1KiR6tSpo9mzZ6tp06aWZty6davGjRunrKws9e3bV4MGDZKzs7N27NihpUuXas2aNVqxYoXuueceSZKXl5dmz54tX19fs4xFixZpzZo1+uqrryzNDlyPUsBt74EHHtADDzxghnNzc7Vy5Ur5+/urX79+heZv2LChlfGUkZGhZ599VnfddZdWrlyZ7/3Dw8M1bNgwPfHEE4qKitKKFSskSdWrVy+UfdOmTcrNzbU0O1AQu4+AP+itt97S2bNnNX369BsWUsuWLfXkk09qy5Yt+uWXXxyQECg5SgF3lILHFK4Np6Wl6dlnn5W/v7+6du2qGTNm6OLFi/lem5iYqAEDBuiBBx5Qu3btNHz4cG3btq3Y97t06ZISEhLk5+enTp06FTnfkCFDtHr1ajVp0kRS4WMKPXr00ObNm3X8+PEbHmv48MMP1bNnT7Vp00ZhYWFKTEzMN72oYwVFjY+OjlZgYKD8/PwUERGhtLS0Yj8nKg9KAZXC+PHjderUKU2cOFFBQUH68MMPNWbMGDN98+bNmjBhgmw2m6ZMmaKxY8fqyJEjGj58eKGDv9fbu3evzp07V2whSJKPj49at24tJyenG05/6aWX1KRJE3l6emr27Nnq1auXmZaQkKClS5dq0KBBmjhxos6dO6fnn39eu3btKuVauCoxMVFLly5VeHi4xowZo3//+9+KiIjQzz//XKbl4c7CMQVUCt7e3lq+fLnc3NwkSTabTdHR0dq4caMCAwMVHx8vd3d3vfPOO+aLu0uXLho3bpx27dpV5HGKX3/9VZJUt27dQtN+//13XblyJd+4atWqqVq1aoXm7dmzp5YtW6bs7OxCxxqcnJy0cuVK1atXT5LUqlUrPfHEE/r666/VqlWrUq4JKTs7Wx9//LE5yN27d2+FhIRo/vz5hbZQUPmwpYBK4emnnzaFIEnDhw+XJCUlJUmS6tWrp8zMTE2fPt3s9/f19VViYqKCg4OLXG7BL/3r9e7dW507d87354MPPih19rZt25pCkKQ2bdpIunoKbFkEBgbmO+upcePGCgoKUnJyMge6wZYCKoeCp6jWrl1btWvX1vHjxyVJTzzxhJKTk7VixQqtWLFCDRo0UPfu3TVw4EA1b968yOX6+PhIunoGUkELFizQ5cuXJV39Ap88eXKZsnt7e+cbdnd3lySz7NK6dlzjeo0aNVJSUpJOnTolm81WpuXizkApoFJwdXUtNC43N1fOzlc3lmvWrKkVK1Zo+/bt+vrrr/X9999r+fLliomJ0ezZsxUWFnbD5TZv3lzVqlW74cVyAQEB5udjx46VOfu1jKVVmn/1X3usSpUqVcr0XrhzsPsIlULBg8WnTp3SuXPnzMVkBw8eVFpamvz9/TVp0iTFxcVp/fr1qlWrlpYuXVrkcqtXr66ePXtq+/btDj2Dx9nZWZcuXco3rqjdS9e2jq536NAheXh4yNPTs1zyoeKgFFAprFixQtc/ZHDx4sWSZM7ymT59ukaPHq3MzEwzT5MmTVSrVq2b/kt98uTJ8vDw0IQJE3TgwIFC08+ePasFCxbcNKOzs3OxxyiKU6dOHe3duzffZ4yPj7/hvBs3blR6eroZ3r9/v5KTk9WjR48iz45C5cHuI1QKqampGjlypLp3764dO3Zo3bp1euyxx8xtMoYPH66RI0dq6NCheuyxx1S1alV9/fXXOnLkiGbNmlXssuvWrav3339f48ePV//+/dWrVy/5+/vLzc1Nu3fvVkJCgs6cOaMuXbrIbrcXuRwvLy9t2bJFS5YsUbt27eTn51fiz9e3b18tWbJEY8eO1UMPPaRdu3bpiy++kJeXV6F53dzc9Pjjj2vYsGHKysrSsmXLVKtWLT3//PMlfj/cuSgFVAqvv/661qxZo1mzZslms2nixIkaMWKEmd61a1e98847evfdd7Vo0SJlZ2erWbNmeuONNxQaGnrT5fv5+WndunVavXq1EhIS9MMPPygrK0s+Pj7q3r277Ha7OnbsWOwyRowYoX379umNN96Q3W4vVSmMHz9eOTk5Wr9+vZKTk+Xn56dly5Zp0qRJheYdPHiwnJycFB0drezsbHXs2FGRkZH605/+VOL3w53LKe/67U3gDhMbG6sXX3xRH3300U2/lAFwTAEAcB1KAQBgUAoAAINjCgAAo8KefXTx4kXt3LlTNpuNqzABoIRyc3OVkZGh1q1bm1umXK/ClsLOnTs1dOhQR8cAgAopJiZG7du3LzS+wpbCtZt2xcTE5LuDJACgaL/++quGDh1a5I0PK2wpXNtlVK9ePTVo0MDBaQCgYilqtztnHwEADEoBAGBQCgAAg1IAABiUAgDAoBQAAAalAAAwKAWgHFy5kuPoCBUO6+z2UGEvXgNuZ87OLtq3JdrRMSoU34BRjo4AsaUAALgOpQAAMCgFAIBBKQAADEoBAGBQCgAAg1IAABiUAgDAoBQAAAalAAAwKAUAgGFpKaxbt06hoaEKDQ3VrFmzJEl79uzRgAED1Lt3b7388svKyeGmWADgKJaVwoULF/Taa69p+fLlWrdunbZu3aqUlBRNnjxZr7zyihITE5WXl6dPPvnEqkgAgAIsK4Xc3FxduXJFFy5cUE5OjnJycuTi4qKLFy/K399fkmS325WQkGBVJABAAZbdOrtmzZoaP368+vTpI3d3d3Xo0EGurq6y2WxmHpvNpvT0dKsiAQAKsGxLYe/evVq9erW+/fZbJScny9nZWT/88EOh+ZycnKyKBAAowLJSSE5OVufOneXt7S03NzfZ7Xalpqbq5MmTZp6MjAz5+PhYFQkAUIBlpdC8eXOlpKQoKytLeXl5SkpKUocOHVS1alVt27ZNkrR27VoFBQVZFQkAUIBlxxS6du2q3bt3y263y9XVVW3atNEzzzyjXr16KSoqSpmZmWrZsqUiIiKsigQAKMDSZzQ/88wzeuaZZ/KNa968uVatWmVlDABAEbiiGQBgUAoAAINSAAAYlAIAwKAUANwWrlzhZpilUV7ry9KzjwCgKM7OLtq3JdrRMSoM34BR5bJcthQAAAalAAAwKAUAgEEpAAAMSgEAYFAKAACDUgAAGJQCAMCgFAAABqUAADAoBQCAQSkAAAxKAQBgUAoAAINSAAAYlAIAwKAUAAAGpQAAMCgFAIBBKQAADEoBAGBQCgAAg1IAABiUAgDAoBQAAAalAAAwKAUAgEEpAAAMSgEAYFAKAACDUgAAGJQCAMCotKVw5UqOoyNUKKwvoHJwsfLNkpKStGDBAmVlZalr166KiopSSkqKZsyYoezsbPXp00cTJkywJIuzs4v2bYm25L3uBL4BoxwdAYAFLNtSOHr0qKZOnapFixbps88+0+7du7Vhwwa99NJLWrRokeLj47Vz505t2LDBqkgAgAIsK4WvvvpKISEhqlevnlxdXTVv3jxVq1ZNjRs3VsOGDeXi4qKwsDAlJCRYFQkAUIBlu48OHz4sV1dX/fWvf1VGRoa6d++uZs2ayWazmXl8fHyUnp5uVSQAQAGWlUJubq62bt2q5cuXq3r16ho9erSqVatWaD4nJyerIgEACrCsFOrUqaPOnTvLy8tLkvTwww8rISFBVapUMfOcOHFCPj4+VkUCABRg2TGF7t27Kzk5WWfPnlVubq42btyo4OBgHTx4UIcPH1Zubq4+//xzBQUFWRUJAFCAZVsKfn5+GjFihB5//HFdvnxZDz74oIYMGaImTZroueeeU3Z2trp166bg4GCrIgEACrD0OoWBAwdq4MCB+cZ17txZcXFxVsYAABSh0l7RDAAojFIAABiUAgDAoBQAAAalAAAwKAUAgEEpAAAMSgEAYFAKAACDUgAAGJQCAMAocSlERETo7NmzhcafOnVKdrv9loYCADhGsTfE+/HHH3XkyBFJ0pYtWxQXF6eaNWvmm+fAgQM6dOhQuQUEAFin2FJwdnZWVFSU8vLyJEkzZszIN93JyUk1atTQ6NGjyy8hAMAyxZaCv7+/du7cKUnq0aOHVq1aZZ6cBgC485T4eQpJSUnlmQMAcBsocSlkZGRo/vz52r59uy5dulRoemJi4i0NBgCwXolLISoqSrt371ZISIg8PDzKMxMAwEFKXAr/+te/tHTpUrVt27Y88wAAHKjE1yl4eHjorrvuKs8sAAAHK3EpPP7445o/f74uXLhQnnkAAA5U4t1HP/74o1JTUxUQECCbzSY3N7d80znQDAAVX4lLwd/fX/7+/uUYBQDgaCUuhbFjx5ZnDgDAbaDEpRAdHV3s9FGjRv3hMAAAxypxKXzyySf5hnNzc/Xbb7/JxcVFbdu2pRQA4A7wh25zcf78eb344otq167dLQ0FAHCMP/SQnZo1a2rcuHFasmTJrcoDAHCgP/zktczMTJ07d+5WZAEAONgfOtB8/vx5rV+/Xh07dryloQAAjlHmA82S5Orqqo4dO2rChAm3NBQAwDF4ngIAwChxKUhXdxfFxcXp559/louLi5o1a6aQkJBCz20GAFRMJS6Fo0ePatiwYTpz5oyaNm2qK1euaNWqVVq0aJFiYmJ09913l2dOAIAFSnz20cyZM9WoUSMlJSVp1apVio2N1TfffKN77rlHs2fPLs+MAACLlLgUNm3apMjISHl6eppxXl5emjx5sjZt2lQu4QAA1ipxKVStWlXOzoVnd3JyUk5Ozi0NBQBwjBKXQqdOnfSPf/wj34VqZ8+e1dy5c7lOAQDuECU+0PzCCy8oPDxc3bp1U5MmTSRJv/zyi7y9vUt1m4tZs2bp9OnTmjlzpvbs2aOoqCidP39e7du317Rp0+TiUqoTogAAt1CJtxTq16+v9evXa+LEiWrTpo18fX0VFRWl+Ph4NWrUqETL2LRpk9asWWOGJ0+erFdeeUWJiYnKy8u74QVyAADr3LQUNm/erLCwMO3fv181a9bU0KFDNXXqVJ06dUrvv/++du3aVaI3+v333zVv3jxzi+3jx4/r4sWL5mludrtdCQkJZf8kAIA/rNhS2Llzp0aOHKn69eurRo0a+aYNHz5cd999t4YPH659+/bd9I1effVVTZgwQbVq1ZIknThxQjabzUy32WxKT08vy2cAANwixZbCwoULFRISovfee6/QxWkdOnTQ4sWLFRgYqAULFhT7Jp9++qnq16+vzp07m3F5eXmF5nNycipNdgDALVbsUd20tDQtXry42AU8/fTTGjduXLHzxMfHKyMjQ/369dOZM2eUlZUlJycnnTx50syTkZEhHx+fUkQHANxqxZZCVlZWod1GBdWpU0fnz58vdp6lS5ean2NjY7V582bNmDFDffv21bZt29SuXTutXbtWQUFBpYgOALjVit19dM899ygtLa3YBaSlpal+/fplevM5c+ZoxowZ6tOnjy5cuKCIiIgyLQcAcGsUu6UQGhqqt956Sx07dlSdOnUKTc/IyNCbb76pvn37lvgN7Xa77Ha7JKl58+ZatWpVKSMDAMpLsaXw5JNPKjExUaGhoRo4cKD8/Pzk4eGhM2fOaMeOHVq9erUaNGigkSNHWpUXAFCOii0FV1dXLV++XPPmzdOnn36a76Czt7e3Bg0apNGjR6t69erlHhQAUP5uek8Jd3d3vfjii5o0aZKOHj2qs2fPytPTU40aNeIUUgC4w5T4RkOurq7mnkcAgDtTie99BAC481EKAACDUgAAGJQCAMCgFAAABqUAADAoBQCAQSkAAAxKAQBgUAoAAINSAAAYlAIAwKAUAAAGpQAAMCgFAIBBKQAADEoBAGBQCgAAg1IAABiUAgDAoBQAAAalAAAwKAUAgEEpAAAMSgEAYFAKAACDUgAAGJQCAMCgFAAABqUAADAoBQCAQSkAAAxKAQBgUAoAAINSAAAYlpbCggULFBoaqtDQUM2ePVuSlJKSorCwMD3yyCOaN2+elXEAAAVYVgopKSlKTk7WmjVrtHbtWu3atUuff/65XnrpJS1atEjx8fHauXOnNmzYYFUkAEABlpWCzWZTZGSk3Nzc5OrqqqZNm+rQoUNq3LixGjZsKBcXF4WFhSkhIcGqSACAAiwrhWbNmsnf31+SdOjQIcXHx8vJyUk2m83M4+Pjo/T0dKsiAQAKsPxA888//6ynn35aU6ZMUaNGjQpNd3JysjoSAOD/s7QUtm3bpqeeekoTJ05U//79VbduXZ08edJMP3HihHx8fKyMBAC4jmWl8N///ldjxozRnDlzFBoaKkny8/PTwYMHdfjwYeXm5urzzz9XUFCQVZFQCleu5Dg6AgALuFj1RosXL1Z2drZmzpxpxoWHh2vmzJl67rnnlJ2drW7duik4ONiqSCgFZ2cX7dsS7egYFYZvwChHRwDKxLJSiIqKUlRU1A2nxcXFWRUDAFAMrmgGABiUAgDAoBQAAAalAAAwKAUAgEEpAAAMSgEAYFAKAACDUgAAGJQCAMCgFAAABqUAADAoBQCAQSkAAAxKAQBgUAoAAINSAAAYlAIAwKAUAAAGpQAAMCgFAIBBKQAADEoBAGBQCgAAg1IAABiUAgDAoBQAAAalAAAwKAUAgEEpAAAMSgEAYFAKAACDUgAAGJQCAMCgFAAABqUAADAoBQCAQSkAAAxKAQBg3Bal8NlnnykkJES9evVSTEyMo+MAQKXl4ugA6enpmjdvnmJjY+Xm5qbw8HB17NhR9913n6OjAUCl4/BSSElJUadOnVS7dm1JUu/evZWQkKCxY8cW+7rc3FxJ0q+//lrm907POFPm11Y2NY4dY32VAuur9FhnpVPj2LEyve7ad+a179CCHF4KJ06ckM1mM8M+Pj5KS0u76esyMjIkSUOHDi23bLjeEkcHqGBYX6XHOiudP7a+MjIy1Lhx40LjHV4KeXl5hcY5OTnd9HWtW7dWTEyMbDabqlSpUh7RAOCOk5ubq4yMDLVu3fqG0x1eCnXr1tXWrVvN8IkTJ+Tj43PT17m7u6t9+/blGQ0A7kg32kK4xuFnH3Xp0kWbNm3SqVOndOHCBX355ZcKCgpydCwAqJRuiy2FCRMmKCIiQpcvX9bAgQN1//33OzoWAFRKTnk32qkPAKiUHL77CABw+6AUAAAGpQAAMCgFAIDh8LOPKoNp06bpxx9/1OXLl3XkyBE1bdpUknT27FnZ7XY999xzDk5YMRw7dkzBwcFm/V0THR2t+vXrm+GRI0dq+vTpqlu3rtURbxsJCQl67733lJOTo7y8PPXr108jRowocv6VK1eqRo0a6tu3r4UpHa+066kyoBQsMHXqVElXv9QiIiK0bt06SdLbb7/tyFgVko+Pj1l/RXn//fctSnN7Sk9P16xZsxQbGytPT09lZmZq2LBhuvfee/Xwww/f8DU//fSTOnToYHFSxyrLeqoM2H3kYGlpaQoPD1f37t1NScTGxioyMtLMM2zYMKWmpio1NVUDBw6U3W7XlClTHBX5thMZGalRo0apT58+SkpKUo8ePXSsjDcLuxOcPn1aly9f1sWLFyVJNWrU0MyZM3Xffffpiy++0KBBg/Too4+qd+/e2rJli1JSUpSUlKT58+dr48aNDk5vneLW0/W/Q6mpqRo2bJikq38XZ8+ercGDB6tXr17asGGDw/KXF7YUHOy3337Txx9/rPPnz6tHjx4aPnx4sfMfOnRI3377rTw8PCxKeHs5ceKE+vXrZ4bDwsIkSbVr11Z0dLQkafr06Q7Jdrto3ry5Hn74YfXs2VMtWrRQx44dFRYWpoYNG+rVV19VdHS0vLy8tGrVKi1evFjR0dHq0aOHOnTooMDAQEfHt0xR66m4W0BI0uXLl7Vy5UolJSXprbfeUrdu3SxKbA1KwcECAwPl5uYmLy8veXp66syZ4m8dfO+991baQpBuvPsoMjKSq+ALmDZtmkaPHq3k5GQlJydr0KBBmjNnjhYuXKikpCQdPHhQmzdvlrNz5d5ZUNR6Ks614mzWrJl+//13C1Jai1JwMBeX//0vcHJyUl5envnvNZcvXzY/u7u7W5qvomC9/M93332nrKwshYSEaMCAARowYIA++eQTxcTEaO7cuerXr58CAgLk6+tbqZ90WNR6WrVqlaT/3cE5Jycn3+uqVq0qqWR3c66IKvc/E25Tnp6e+uWXX5SXl6ejR49q3759jo6ECsTd3V1z5841+8Tz8vJ04MABubm5ydnZWaNGjVKnTp30/fffmwetVKlSpciHrtypilpPLVq0kKenpw4cOCBJ+uabbxwZ03JsKdyGunTpotWrVys4OFj33nuv2rVr5+hIqEA6deqksWPHatSoUWYrMzAwUAsXLlRkZKT69Okjd3d3BQQE6D//+Y+kq79zb7zxhjw8PBQcHOzI+JYpaj2NGTNGbdu21d///nctWLBAXbt2dXBSa3FDPACAwe4jAIBBKQAADEoBAGBQCgAAg1IAABickgoUoUePHjp+/LgZdnV1Vd26dfXII49ozJgxqlmzpgPTAeWDUgCKMXLkSD355JOSpAsXLmjnzp2aOXOmfvrpJ3300Udyc3NzcELg1qIUgGJUr15dNpvNDDdq1EiNGzfWgAEDtHr1ag0ZMsSB6YBbj2MKQCm1atVK7dq1U3x8vCQpMTFRAwYM0P333y8/Pz+Fh4crLS1NkvTaa68pNDQ03+uPHDkiX19f7dmzRydPntTYsWPVoUMH+fv766mnntKePXss/0zANZQCUAZ//vOftX//fqWlpen555+X3W5XfHy8li9fLkl65ZVXJEn9+/fXgQMHtHv3bvPauLg4NW/eXC1atNC0adOUk5Ojf/7zn4qNjVWNGjV4Eh8cilIAyqBWrVo6f/68XF1dNXXqVA0dOlQNGjTQ/fffr7/85S/av3+/JKlly5by9fVVXFyceW1cXJz69+8vSTp8+LA8PDzUoEEDNWnSRH/729/02muv6cqVKw75XADHFIAyyMzMlIeHh1q0aCEPDw+9++67OnDggA4fPqw9e/bk+1K32+364IMP9MILL2jHjh06fvy4eTjQ6NGjNWXKFH355ZcKCAhQUFCQwsLCKv1zDuA4/OYBZbBr1y61bNlSmzZtUp8+fbRnzx61adNG//d//6eXX34537xhYWE6ffq0UlNTFRcXp6CgIHl7e0uSgoODtXHjRk2fPl02m02LFi1S3759dfLkSUd8LIBSAEpr7969+umnnxQWFqZly5bpwQcf1JtvvqmIiAh16tTJXNtw7QbE3t7eCgoK0pdffqlvvvnG7DrKycnRrFmzzJbDjBkztH79ep08eVKbN2922OdD5cbuI6AYWVlZysjIkCRdvHhRaWlpmjNnjgICAvToo49qx44d+u6777R9+3Z5e3vru+++07JlyyRJly5dMk/pstvtmjRpktzd3fXQQw9JuvrUvV27dmnr1q2KioqSl5eXPvvsM7m6uqpVq1YO+bwAz1MAilDwiuYaNWro7rvvVkhIiJ566ilVq1ZNp06dUlRUlFJTU1WlShX5+vpqyJAhmjBhgmJiYtS+fXtJVx+p2rVrV/Xt29ecmSRJGRkZev3117Vp0yZlZmaqWbNmGj9+/B33MHhUHJQCYIHTp08rMDBQK1euZCsAtzV2HwHl6PTp09q8ebPWrl2r1q1bUwi47VEKQDnKycnRyy+/LB8fH7399tuOjgPcFLuPAAAGp6QCAAxKAQBgUAoAAINSAAAYlAIAwKAUAADG/wPPV73HZNS+zgAAAABJRU5ErkJggg==\n",
      "text/plain": [
       "<Figure size 432x288 with 1 Axes>"
      ]
     },
     "metadata": {},
     "output_type": "display_data"
    }
   ],
   "source": [
    "sns.set(style= 'white')\n",
    "\n",
    "sns.histplot(tips_df[\"day\"] , color= 'y' )\n",
    "\n",
    "plt.title(\"Tips Github\", fontsize = 18)\n",
    "plt.xlabel(\"Days\", fontsize = 15)\n",
    "plt.ylabel(\"Count\", fontsize = 15)\n",
    "\n",
    "plt.show()"
   ]
  },
  {
   "cell_type": "code",
   "execution_count": 32,
   "id": "c8fd022b",
   "metadata": {},
   "outputs": [
    {
     "data": {
      "text/plain": [
       "67      3.07\n",
       "92      5.75\n",
       "111     7.25\n",
       "172     7.25\n",
       "149     7.51\n",
       "       ...  \n",
       "182    45.35\n",
       "156    48.17\n",
       "59     48.27\n",
       "212    48.33\n",
       "170    50.81\n",
       "Name: total_bill, Length: 244, dtype: float64"
      ]
     },
     "execution_count": 32,
     "metadata": {},
     "output_type": "execute_result"
    }
   ],
   "source": [
    "tips_df[\"total_bill\"].sort_values()\n",
    "# or else ------  tips_df.total_bill.sort_values()"
   ]
  },
  {
   "cell_type": "code",
   "execution_count": 34,
   "id": "0ad590b8",
   "metadata": {},
   "outputs": [
    {
     "data": {
      "text/plain": [
       "<Axes: xlabel='total_bill', ylabel='Count'>"
      ]
     },
     "execution_count": 34,
     "metadata": {},
     "output_type": "execute_result"
    },
    {
     "data": {
      "image/png": "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\n",
      "text/plain": [
       "<Figure size 432x288 with 1 Axes>"
      ]
     },
     "metadata": {},
     "output_type": "display_data"
    }
   ],
   "source": [
    "sns.histplot(tips_df[\"total_bill\"])"
   ]
  },
  {
   "cell_type": "code",
   "execution_count": 33,
   "id": "f3a1b9f2",
   "metadata": {},
   "outputs": [
    {
     "data": {
      "text/plain": [
       "<Axes: xlabel='total_bill', ylabel='Count'>"
      ]
     },
     "execution_count": 33,
     "metadata": {},
     "output_type": "execute_result"
    },
    {
     "data": {
      "image/png": "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\n",
      "text/plain": [
       "<Figure size 432x288 with 1 Axes>"
      ]
     },
     "metadata": {},
     "output_type": "display_data"
    }
   ],
   "source": [
    "# dtype : float64 and maximum value is 50.81\n",
    "bins = [0,5,10,15,20,25,30,35,40,45,50,55]\n",
    "\n",
    "sns.histplot(tips_df[\"total_bill\"] , bins = bins)\n"
   ]
  },
  {
   "cell_type": "code",
   "execution_count": 37,
   "id": "c52bf037",
   "metadata": {},
   "outputs": [
    {
     "data": {
      "image/png": "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\n",
      "text/plain": [
       "<Figure size 432x288 with 1 Axes>"
      ]
     },
     "metadata": {},
     "output_type": "display_data"
    }
   ],
   "source": [
    "bins = [0,5,10,15,20,25,30,35,40,45,50,55]\n",
    "\n",
    "sns.histplot(tips_df[\"total_bill\"] , bins = bins)\n",
    "\n",
    "plt.xticks(bins)      # showing all bins number on graph from 0 to 55\n",
    "\n",
    "plt.show()\n"
   ]
  },
  {
   "cell_type": "code",
   "execution_count": 53,
   "id": "3c1b71cf",
   "metadata": {},
   "outputs": [
    {
     "data": {
      "text/plain": [
       "<Axes: xlabel='total_bill', ylabel='Count'>"
      ]
     },
     "execution_count": 53,
     "metadata": {},
     "output_type": "execute_result"
    },
    {
     "data": {
      "image/png": "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\n",
      "text/plain": [
       "<Figure size 432x288 with 1 Axes>"
      ]
     },
     "metadata": {},
     "output_type": "display_data"
    }
   ],
   "source": [
    "\n",
    "sns.histplot(tips_df[\"total_bill\"], color = \"#dc143c\" , edgecolor = \"y\" , linewidth = 5 , linestyle = \"--\")"
   ]
  },
  {
   "cell_type": "code",
   "execution_count": null,
   "id": "778214fa",
   "metadata": {},
   "outputs": [],
   "source": []
  }
 ],
 "metadata": {
  "kernelspec": {
   "display_name": "Python 3 (ipykernel)",
   "language": "python",
   "name": "python3"
  },
  "language_info": {
   "codemirror_mode": {
    "name": "ipython",
    "version": 3
   },
   "file_extension": ".py",
   "mimetype": "text/x-python",
   "name": "python",
   "nbconvert_exporter": "python",
   "pygments_lexer": "ipython3",
   "version": "3.10.5"
  }
 },
 "nbformat": 4,
 "nbformat_minor": 5
}
