{
 "cells": [
  {
   "cell_type": "markdown",
   "id": "21926a04",
   "metadata": {},
   "source": [
    "#              Con-cat-enate : concatenate()"
   ]
  },
  {
   "cell_type": "code",
   "execution_count": 1,
   "id": "ae585eac",
   "metadata": {},
   "outputs": [],
   "source": [
    "import numpy as np"
   ]
  },
  {
   "cell_type": "code",
   "execution_count": 2,
   "id": "5133abf8",
   "metadata": {},
   "outputs": [
    {
     "name": "stdout",
     "output_type": "stream",
     "text": [
      "[[ 0  1  2  3]\n",
      " [ 4  5  6  7]\n",
      " [ 8  9 10 11]\n",
      " [12 13 14 15]\n",
      " [16 17 18 19]]\n"
     ]
    }
   ],
   "source": [
    "arr_1 = np.arange(0,20).reshape(5,4)\n",
    "print(arr_1)"
   ]
  },
  {
   "cell_type": "code",
   "execution_count": 3,
   "id": "87302a10",
   "metadata": {},
   "outputs": [
    {
     "name": "stdout",
     "output_type": "stream",
     "text": [
      "[[20 21 22 23]\n",
      " [24 25 26 27]\n",
      " [28 29 30 31]\n",
      " [32 33 34 35]\n",
      " [36 37 38 39]]\n"
     ]
    }
   ],
   "source": [
    "arr_2 = np.arange(20,40).reshape(5,4)\n",
    "print(arr_2)"
   ]
  },
  {
   "cell_type": "code",
   "execution_count": 4,
   "id": "d0f0ed2b",
   "metadata": {},
   "outputs": [
    {
     "name": "stdout",
     "output_type": "stream",
     "text": [
      "[[ 0  1  2  3]\n",
      " [ 4  5  6  7]\n",
      " [ 8  9 10 11]\n",
      " [12 13 14 15]\n",
      " [16 17 18 19]\n",
      " [20 21 22 23]\n",
      " [24 25 26 27]\n",
      " [28 29 30 31]\n",
      " [32 33 34 35]\n",
      " [36 37 38 39]]\n"
     ]
    }
   ],
   "source": [
    "arr_3 = np.concatenate((arr_1,arr_2))                        # join two array\n",
    "print(arr_3)"
   ]
  },
  {
   "cell_type": "code",
   "execution_count": 5,
   "id": "c5b87536",
   "metadata": {},
   "outputs": [
    {
     "name": "stdout",
     "output_type": "stream",
     "text": [
      "[[ 0  1  2  3  4  5  6  7  8  9]\n",
      " [10 11 12 13 14 15 16 17 18 19]\n",
      " [20 21 22 23 24 25 26 27 28 29]\n",
      " [30 31 32 33 34 35 36 37 38 39]]\n"
     ]
    }
   ],
   "source": [
    "arr_4 = np.concatenate((arr_1,arr_2)).reshape(4,10)     # its modifie array while reshaping\n",
    "print(arr_4)"
   ]
  },
  {
   "cell_type": "code",
   "execution_count": 6,
   "id": "d79642b0",
   "metadata": {},
   "outputs": [
    {
     "name": "stdout",
     "output_type": "stream",
     "text": [
      "[[ 0  1  2  3]\n",
      " [ 4  5  6  7]\n",
      " [ 8  9 10 11]\n",
      " [12 13 14 15]\n",
      " [16 17 18 19]\n",
      " [20 21 22 23]\n",
      " [24 25 26 27]\n",
      " [28 29 30 31]\n",
      " [32 33 34 35]\n",
      " [36 37 38 39]]\n"
     ]
    }
   ],
   "source": [
    "arr_5 = np.concatenate((arr_1,arr_2), axis=0)            # join array as per colom to colom\n",
    "print(arr_5)"
   ]
  },
  {
   "cell_type": "code",
   "execution_count": 7,
   "id": "61344d02",
   "metadata": {},
   "outputs": [
    {
     "name": "stdout",
     "output_type": "stream",
     "text": [
      "[[ 0  1  2  3]\n",
      " [ 4  5  6  7]\n",
      " [ 8  9 10 11]\n",
      " [12 13 14 15]\n",
      " [16 17 18 19]\n",
      " [20 21 22 23]\n",
      " [24 25 26 27]\n",
      " [28 29 30 31]\n",
      " [32 33 34 35]\n",
      " [36 37 38 39]]\n"
     ]
    }
   ],
   "source": [
    "arr_6 = np.vstack((arr_1,arr_2))                  # join array (as per colom to colom) VERTICALLY\n",
    "print(arr_6)"
   ]
  },
  {
   "cell_type": "code",
   "execution_count": 8,
   "id": "d9384862",
   "metadata": {},
   "outputs": [
    {
     "name": "stdout",
     "output_type": "stream",
     "text": [
      "[[ 0  1  2  3 20 21 22 23]\n",
      " [ 4  5  6  7 24 25 26 27]\n",
      " [ 8  9 10 11 28 29 30 31]\n",
      " [12 13 14 15 32 33 34 35]\n",
      " [16 17 18 19 36 37 38 39]]\n"
     ]
    }
   ],
   "source": [
    "arr_7 = np.concatenate((arr_1,arr_2), axis=1)           # join array as per row to row\n",
    "print(arr_7)"
   ]
  },
  {
   "cell_type": "code",
   "execution_count": 9,
   "id": "56ddb143",
   "metadata": {},
   "outputs": [
    {
     "name": "stdout",
     "output_type": "stream",
     "text": [
      "[[ 0  1  2  3 20 21 22 23]\n",
      " [ 4  5  6  7 24 25 26 27]\n",
      " [ 8  9 10 11 28 29 30 31]\n",
      " [12 13 14 15 32 33 34 35]\n",
      " [16 17 18 19 36 37 38 39]]\n"
     ]
    },
    {
     "data": {
      "text/plain": [
       "dtype('int32')"
      ]
     },
     "execution_count": 9,
     "metadata": {},
     "output_type": "execute_result"
    }
   ],
   "source": [
    "arr_8 = np.hstack((arr_1,arr_2))                        # join array (as per row to row) HORIZONTALLY\n",
    "print(arr_8)\n",
    "arr_8.dtype"
   ]
  },
  {
   "cell_type": "markdown",
   "id": "6a7b76ca",
   "metadata": {},
   "source": [
    "#                SPLIT  : split()"
   ]
  },
  {
   "cell_type": "code",
   "execution_count": 10,
   "id": "918acdfd",
   "metadata": {},
   "outputs": [
    {
     "name": "stdout",
     "output_type": "stream",
     "text": [
      "[[ 0  1  2  3]\n",
      " [ 4  5  6  7]\n",
      " [ 8  9 10 11]\n",
      " [12 13 14 15]]\n"
     ]
    }
   ],
   "source": [
    "arr_9 = np.arange(0,16).reshape(4,4)#.split(arr_9,2)                \n",
    "print(arr_9) "
   ]
  },
  {
   "cell_type": "code",
   "execution_count": 11,
   "id": "a1f1d0bc",
   "metadata": {},
   "outputs": [
    {
     "name": "stdout",
     "output_type": "stream",
     "text": [
      "[array([[0, 1, 2, 3],\n",
      "       [4, 5, 6, 7]]), array([[ 8,  9, 10, 11],\n",
      "       [12, 13, 14, 15]])]\n"
     ]
    },
    {
     "data": {
      "text/plain": [
       "list"
      ]
     },
     "execution_count": 11,
     "metadata": {},
     "output_type": "execute_result"
    }
   ],
   "source": [
    "arr_9a = np.split(arr_9,2)         # it gives result always in LIST formate # do not use dtype in list   \n",
    "print(arr_9a) \n",
    "type(arr_9a)\n",
    "#arr_9a.dtype      ERROR #     'list' object has no attribute 'dtype'"
   ]
  },
  {
   "cell_type": "code",
   "execution_count": 12,
   "id": "e2e150ac",
   "metadata": {},
   "outputs": [
    {
     "name": "stdout",
     "output_type": "stream",
     "text": [
      "[array([[ 0,  1],\n",
      "       [ 4,  5],\n",
      "       [ 8,  9],\n",
      "       [12, 13]]), array([[ 2,  3],\n",
      "       [ 6,  7],\n",
      "       [10, 11],\n",
      "       [14, 15]])]\n"
     ]
    }
   ],
   "source": [
    "arr_9a = np.split(arr_9,2, axis=1)\n",
    "print(arr_9a)"
   ]
  },
  {
   "cell_type": "code",
   "execution_count": 13,
   "id": "d60f56bc",
   "metadata": {},
   "outputs": [
    {
     "name": "stdout",
     "output_type": "stream",
     "text": [
      "[ 1  2  3  4  5  6  7  8  9 10]\n"
     ]
    },
    {
     "data": {
      "text/plain": [
       "[array([1, 2]), array([3, 4, 5, 6]), array([ 7,  8,  9, 10])]"
      ]
     },
     "execution_count": 13,
     "metadata": {},
     "output_type": "execute_result"
    }
   ],
   "source": [
    "arr_1d = np.array([1,2,3,4,5,6,7,8,9,10])#.split(arr_1d,[2,6])\n",
    "print(arr_1d)\n",
    "np.split(arr_1d,[2,6])\n",
    "                      \n",
    "    #   or else\n",
    "    "
   ]
  },
  {
   "cell_type": "code",
   "execution_count": 14,
   "id": "cc779f83",
   "metadata": {},
   "outputs": [
    {
     "name": "stdout",
     "output_type": "stream",
     "text": [
      "[array([1, 2]), array([3, 4, 5, 6]), array([ 7,  8,  9, 10])]\n"
     ]
    }
   ],
   "source": [
    "arr_1da = np.split(arr_1d,[2,6])\n",
    "print(arr_1da)"
   ]
  },
  {
   "cell_type": "markdown",
   "id": "c7628e59",
   "metadata": {},
   "source": [
    "#               chk other posiblities"
   ]
  },
  {
   "cell_type": "code",
   "execution_count": 15,
   "id": "0532f04b",
   "metadata": {},
   "outputs": [
    {
     "name": "stdout",
     "output_type": "stream",
     "text": [
      "[array([[0, 1, 2, 3],\n",
      "       [4, 5, 6, 7]]), array([[ 8,  9, 10, 11]]), array([[12, 13, 14, 15],\n",
      "       [16, 17, 18, 19]])]\n"
     ]
    }
   ],
   "source": [
    "arr_9x = np.split(arr_1,(2,3))\n",
    "print(arr_9x)"
   ]
  },
  {
   "cell_type": "code",
   "execution_count": 16,
   "id": "74980b0c",
   "metadata": {},
   "outputs": [
    {
     "name": "stdout",
     "output_type": "stream",
     "text": [
      "[array([[ 0,  1,  2,  3],\n",
      "       [ 4,  5,  6,  7],\n",
      "       [ 8,  9, 10, 11],\n",
      "       [12, 13, 14, 15]]), array([], shape=(0, 4), dtype=int32), array([[ 4,  5,  6,  7],\n",
      "       [ 8,  9, 10, 11],\n",
      "       [12, 13, 14, 15],\n",
      "       [16, 17, 18, 19]])]\n"
     ]
    }
   ],
   "source": [
    "arr_9y = np.split(arr_1,(4,1))\n",
    "print(arr_9y)"
   ]
  },
  {
   "cell_type": "code",
   "execution_count": 17,
   "id": "88f424a2",
   "metadata": {},
   "outputs": [
    {
     "name": "stdout",
     "output_type": "stream",
     "text": [
      "[array([[ 0,  1,  2,  3],\n",
      "       [ 4,  5,  6,  7],\n",
      "       [ 8,  9, 10, 11]]), array([], shape=(0, 4), dtype=int32), array([[ 8,  9, 10, 11],\n",
      "       [12, 13, 14, 15],\n",
      "       [16, 17, 18, 19]])]\n"
     ]
    }
   ],
   "source": [
    "arr_9z = np.split(arr_1,(3,2))\n",
    "print(arr_9z)"
   ]
  },
  {
   "cell_type": "code",
   "execution_count": null,
   "id": "956e4b4e",
   "metadata": {},
   "outputs": [],
   "source": []
  }
 ],
 "metadata": {
  "kernelspec": {
   "display_name": "Python 3 (ipykernel)",
   "language": "python",
   "name": "python3"
  },
  "language_info": {
   "codemirror_mode": {
    "name": "ipython",
    "version": 3
   },
   "file_extension": ".py",
   "mimetype": "text/x-python",
   "name": "python",
   "nbconvert_exporter": "python",
   "pygments_lexer": "ipython3",
   "version": "3.10.5"
  }
 },
 "nbformat": 4,
 "nbformat_minor": 5
}
