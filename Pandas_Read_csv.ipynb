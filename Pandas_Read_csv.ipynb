{
 "cells": [
  {
   "cell_type": "code",
   "execution_count": 1,
   "id": "0df8b5ac",
   "metadata": {},
   "outputs": [],
   "source": [
    "import pandas as pd"
   ]
  },
  {
   "cell_type": "code",
   "execution_count": 2,
   "id": "7f51fea2",
   "metadata": {},
   "outputs": [
    {
     "name": "stdout",
     "output_type": "stream",
     "text": [
      "   Stu_ID  Class  Stdy_hrs  Slpng_hrs  online_hrs  Mob.Games_hrs  Perctg dumy\n",
      "0    1001     10         2          9           3              5      50  yes\n",
      "1    1002     10         6          8           2              0      80  yes\n",
      "2    1003     10         3          8           2              4      60   no\n",
      "3    1004     11         0         10           1              5      45   no\n",
      "4    1005     11         4          7           2              0      75  yes\n",
      "5    1006     11        10          7           0              0      96  yes\n",
      "6    1007     12         4          6           0              0      80  yes\n",
      "7    1008     12        10          6           2              0      90   no\n",
      "8    1009     12         2          8           2              4      60   no\n",
      "9    1010     12         6          9           1              0      85  yes\n"
     ]
    }
   ],
   "source": [
    "df = pd.read_csv('C:\\\\Workspace\\Pri\\\\data science and ML practice\\jupyter\\\\student_results.csv')\n",
    "print(df)"
   ]
  },
  {
   "cell_type": "code",
   "execution_count": 3,
   "id": "69a89cf1",
   "metadata": {},
   "outputs": [
    {
     "name": "stdout",
     "output_type": "stream",
     "text": [
      "  Top 10 IT Companies in India\n",
      "0                          TCS\n",
      "1                      Infosys\n",
      "2                Tech Mahindra\n",
      "3                        Wipro\n",
      "4             HCL Technologies\n",
      "5                 L&T Infotech\n",
      "6                     Mindtree\n",
      "7                      Mphasis\n",
      "8    Oracle Financial Services\n",
      "9                  Rotla India\n"
     ]
    }
   ],
   "source": [
    "df_1 = pd.read_csv('C:\\Workspace\\Pri\\data science and ML practice\\jupyter\\\\Top-10-IT-Companies-in-India.csv')\n",
    "print(df_1)"
   ]
  },
  {
   "cell_type": "code",
   "execution_count": 4,
   "id": "d095963c",
   "metadata": {},
   "outputs": [
    {
     "data": {
      "text/plain": [
       "pandas.core.frame.DataFrame"
      ]
     },
     "execution_count": 4,
     "metadata": {},
     "output_type": "execute_result"
    }
   ],
   "source": [
    "type(df)"
   ]
  },
  {
   "cell_type": "code",
   "execution_count": 5,
   "id": "d6b8acda",
   "metadata": {},
   "outputs": [
    {
     "data": {
      "text/plain": [
       "(Index(['Stu_ID', 'Class', 'Stdy_hrs', 'Slpng_hrs', 'online_hrs',\n",
       "        'Mob.Games_hrs', 'Perctg', 'dumy'],\n",
       "       dtype='object'),\n",
       " Index(['Top 10 IT Companies in India'], dtype='object'))"
      ]
     },
     "execution_count": 5,
     "metadata": {},
     "output_type": "execute_result"
    }
   ],
   "source": [
    "df.columns , df_1.columns"
   ]
  },
  {
   "cell_type": "code",
   "execution_count": 6,
   "id": "6f99d660",
   "metadata": {},
   "outputs": [],
   "source": [
    "# df.rows      # error : 'DataFrame' object has no attribute 'rows'\n"
   ]
  },
  {
   "cell_type": "code",
   "execution_count": 7,
   "id": "ec513d17",
   "metadata": {},
   "outputs": [
    {
     "data": {
      "text/plain": [
       "Index(['Stu_IDTop 10 IT Companies in India',\n",
       "       'ClassTop 10 IT Companies in India',\n",
       "       'Stdy_hrsTop 10 IT Companies in India',\n",
       "       'Slpng_hrsTop 10 IT Companies in India',\n",
       "       'online_hrsTop 10 IT Companies in India',\n",
       "       'Mob.Games_hrsTop 10 IT Companies in India',\n",
       "       'PerctgTop 10 IT Companies in India',\n",
       "       'dumyTop 10 IT Companies in India'],\n",
       "      dtype='object')"
      ]
     },
     "execution_count": 7,
     "metadata": {},
     "output_type": "execute_result"
    }
   ],
   "source": [
    "df.columns + df_1.columns"
   ]
  },
  {
   "cell_type": "code",
   "execution_count": 8,
   "id": "61c1c665",
   "metadata": {},
   "outputs": [],
   "source": [
    "# df[2] + df_1[0]    # error : Index"
   ]
  },
  {
   "cell_type": "code",
   "execution_count": 9,
   "id": "d6bb0297",
   "metadata": {},
   "outputs": [
    {
     "name": "stdout",
     "output_type": "stream",
     "text": [
      "   Stu_ID  Class  Stdy_hrs  Slpng_hrs  online_hrs  Mob.Games_hrs  Perctg dumy\n",
      "0    1001     10         2          9           3              5      50  yes\n"
     ]
    }
   ],
   "source": [
    "df_2 = pd.read_csv('C:\\\\Workspace\\Pri\\\\data science and ML practice\\jupyter\\\\student_results.csv', nrows = 1)\n",
    "print(df_2)"
   ]
  },
  {
   "cell_type": "code",
   "execution_count": 10,
   "id": "f16910dd",
   "metadata": {},
   "outputs": [
    {
     "name": "stdout",
     "output_type": "stream",
     "text": [
      "   Stu_ID  Class  Stdy_hrs  Slpng_hrs  online_hrs  Mob.Games_hrs  Perctg dumy\n",
      "0    1001     10         2          9           3              5      50  yes\n",
      "1    1002     10         6          8           2              0      80  yes\n",
      "2    1003     10         3          8           2              4      60   no\n",
      "3    1004     11         0         10           1              5      45   no\n",
      "4    1005     11         4          7           2              0      75  yes\n"
     ]
    }
   ],
   "source": [
    "df_2a = pd.read_csv('C:\\\\Workspace\\Pri\\\\data science and ML practice\\jupyter\\\\student_results.csv', nrows = 5 )\n",
    "print(df_2a)"
   ]
  },
  {
   "cell_type": "code",
   "execution_count": 11,
   "id": "703b1ce1",
   "metadata": {},
   "outputs": [
    {
     "name": "stdout",
     "output_type": "stream",
     "text": [
      "   Slpng_hrs\n",
      "0          9\n",
      "1          8\n",
      "2          8\n",
      "3         10\n",
      "4          7\n"
     ]
    }
   ],
   "source": [
    "df_2b = pd.read_csv('C:\\\\Workspace\\Pri\\\\data science and ML practice\\jupyter\\\\student_results.csv', nrows = 5 , usecols= [3])\n",
    "print(df_2b)"
   ]
  },
  {
   "cell_type": "code",
   "execution_count": 12,
   "id": "2da2c638",
   "metadata": {},
   "outputs": [
    {
     "name": "stdout",
     "output_type": "stream",
     "text": [
      "   Stu_ID  Slpng_hrs\n",
      "0    1001          9\n",
      "1    1002          8\n",
      "2    1003          8\n",
      "3    1004         10\n",
      "4    1005          7\n",
      "5    1006          7\n"
     ]
    }
   ],
   "source": [
    "df_2c = pd.read_csv('C:\\\\Workspace\\Pri\\\\data science and ML practice\\jupyter\\\\student_results.csv', nrows = 6 , usecols=[0,3])\n",
    "print(df_2c)"
   ]
  },
  {
   "cell_type": "code",
   "execution_count": 13,
   "id": "d4f2143c",
   "metadata": {},
   "outputs": [
    {
     "name": "stdout",
     "output_type": "stream",
     "text": [
      "   Stu_ID  Class  Stdy_hrs  Slpng_hrs  online_hrs  Mob.Games_hrs  Perctg dumy\n",
      "0    1001     10         2          9           3              5      50  yes\n",
      "1    1002     10         6          8           2              0      80  yes\n",
      "2    1003     10         3          8           2              4      60   no\n",
      "3    1004     11         0         10           1              5      45   no\n",
      "4    1005     11         4          7           2              0      75  yes\n",
      "5    1006     11        10          7           0              0      96  yes\n",
      "6    1007     12         4          6           0              0      80  yes\n",
      "7    1008     12        10          6           2              0      90   no\n",
      "8    1009     12         2          8           2              4      60   no\n",
      "9    1010     12         6          9           1              0      85  yes\n"
     ]
    }
   ],
   "source": [
    "df = pd.read_csv('C:\\\\Workspace\\Pri\\\\data science and ML practice\\jupyter\\\\student_results.csv')\n",
    "print(df)"
   ]
  },
  {
   "cell_type": "code",
   "execution_count": 14,
   "id": "96e231a4",
   "metadata": {},
   "outputs": [
    {
     "name": "stdout",
     "output_type": "stream",
     "text": [
      "   1001  10   2   9  3  5  50  yes\n",
      "0  1002  10   6   8  2  0  80  yes\n",
      "1  1003  10   3   8  2  4  60   no\n",
      "2  1004  11   0  10  1  5  45   no\n",
      "3  1005  11   4   7  2  0  75  yes\n",
      "4  1006  11  10   7  0  0  96  yes\n",
      "5  1007  12   4   6  0  0  80  yes\n",
      "6  1008  12  10   6  2  0  90   no\n",
      "7  1009  12   2   8  2  4  60   no\n",
      "8  1010  12   6   9  1  0  85  yes\n"
     ]
    }
   ],
   "source": [
    "df3 = pd.read_csv('C:\\\\Workspace\\Pri\\\\data science and ML practice\\jupyter\\\\student_results.csv', skiprows=1)\n",
    "print(df3)"
   ]
  },
  {
   "cell_type": "code",
   "execution_count": 15,
   "id": "6074a56c",
   "metadata": {},
   "outputs": [
    {
     "name": "stdout",
     "output_type": "stream",
     "text": [
      "   1004  11   0  10  1  5  45   no\n",
      "0  1005  11   4   7  2  0  75  yes\n",
      "1  1006  11  10   7  0  0  96  yes\n",
      "2  1007  12   4   6  0  0  80  yes\n",
      "3  1008  12  10   6  2  0  90   no\n",
      "4  1009  12   2   8  2  4  60   no\n",
      "5  1010  12   6   9  1  0  85  yes\n"
     ]
    }
   ],
   "source": [
    "df4 = pd.read_csv('C:\\\\Workspace\\Pri\\\\data science and ML practice\\jupyter\\\\student_results.csv', skiprows=[0,1,2,3])\n",
    "print(df4)"
   ]
  },
  {
   "cell_type": "code",
   "execution_count": 16,
   "id": "deaaebf3",
   "metadata": {},
   "outputs": [
    {
     "name": "stdout",
     "output_type": "stream",
     "text": [
      "           Stu_ID  Class  Stdy_hrs  online_hrs  Mob.Games_hrs  Perctg dumy\n",
      "Slpng_hrs                                                                 \n",
      "9            1001     10         2           3              5      50  yes\n",
      "8            1002     10         6           2              0      80  yes\n",
      "8            1003     10         3           2              4      60   no\n",
      "10           1004     11         0           1              5      45   no\n",
      "7            1005     11         4           2              0      75  yes\n",
      "7            1006     11        10           0              0      96  yes\n",
      "6            1007     12         4           0              0      80  yes\n",
      "6            1008     12        10           2              0      90   no\n",
      "8            1009     12         2           2              4      60   no\n",
      "9            1010     12         6           1              0      85  yes\n"
     ]
    }
   ],
   "source": [
    "df5 = pd.read_csv('C:\\\\Workspace\\Pri\\\\data science and ML practice\\jupyter\\\\student_results.csv', index_col ='Slpng_hrs')\n",
    "print(df5)"
   ]
  },
  {
   "cell_type": "code",
   "execution_count": 17,
   "id": "de1fb073",
   "metadata": {},
   "outputs": [
    {
     "name": "stdout",
     "output_type": "stream",
     "text": [
      "       Stu_ID  Stdy_hrs  Slpng_hrs  online_hrs  Mob.Games_hrs  Perctg dumy\n",
      "Class                                                                     \n",
      "10       1001         2          9           3              5      50  yes\n",
      "10       1002         6          8           2              0      80  yes\n",
      "10       1003         3          8           2              4      60   no\n",
      "11       1004         0         10           1              5      45   no\n",
      "11       1005         4          7           2              0      75  yes\n",
      "11       1006        10          7           0              0      96  yes\n",
      "12       1007         4          6           0              0      80  yes\n",
      "12       1008        10          6           2              0      90   no\n",
      "12       1009         2          8           2              4      60   no\n",
      "12       1010         6          9           1              0      85  yes\n"
     ]
    }
   ],
   "source": [
    "df6 = pd.read_csv('C:\\\\Workspace\\Pri\\\\data science and ML practice\\jupyter\\\\student_results.csv', index_col = 1)\n",
    "print(df6)"
   ]
  },
  {
   "cell_type": "code",
   "execution_count": 18,
   "id": "10c909d4",
   "metadata": {},
   "outputs": [
    {
     "name": "stdout",
     "output_type": "stream",
     "text": [
      "   Stu_ID  Class  Stdy_hrs  Slpng_hrs  online_hrs  Mob.Games_hrs  Perctg dumy\n",
      "0    1001     10         2          9           3              5      50  yes\n",
      "1    1002     10         6          8           2              0      80  yes\n",
      "2    1003     10         3          8           2              4      60   no\n",
      "3    1004     11         0         10           1              5      45   no\n",
      "4    1005     11         4          7           2              0      75  yes\n",
      "5    1006     11        10          7           0              0      96  yes\n",
      "6    1007     12         4          6           0              0      80  yes\n",
      "7    1008     12        10          6           2              0      90   no\n",
      "8    1009     12         2          8           2              4      60   no\n",
      "9    1010     12         6          9           1              0      85  yes\n"
     ]
    }
   ],
   "source": [
    "df = pd.read_csv('C:\\\\Workspace\\Pri\\\\data science and ML practice\\jupyter\\\\student_results.csv')\n",
    "print(df)"
   ]
  },
  {
   "cell_type": "code",
   "execution_count": 19,
   "id": "49792cad",
   "metadata": {},
   "outputs": [
    {
     "name": "stdout",
     "output_type": "stream",
     "text": [
      "   1001  10   2   9  3  5  50  yes\n",
      "0  1002  10   6   8  2  0  80  yes\n",
      "1  1003  10   3   8  2  4  60   no\n",
      "2  1004  11   0  10  1  5  45   no\n",
      "3  1005  11   4   7  2  0  75  yes\n",
      "4  1006  11  10   7  0  0  96  yes\n",
      "5  1007  12   4   6  0  0  80  yes\n",
      "6  1008  12  10   6  2  0  90   no\n",
      "7  1009  12   2   8  2  4  60   no\n",
      "8  1010  12   6   9  1  0  85  yes\n"
     ]
    }
   ],
   "source": [
    "df7 = pd.read_csv('C:\\\\Workspace\\Pri\\\\data science and ML practice\\jupyter\\\\student_results.csv', header = [1])\n",
    "print(df7)"
   ]
  },
  {
   "cell_type": "code",
   "execution_count": 20,
   "id": "a8b9c12d",
   "metadata": {},
   "outputs": [
    {
     "name": "stdout",
     "output_type": "stream",
     "text": [
      "   1006  11  10  7  0  0.1  96  yes\n",
      "0  1007  12   4  6  0    0  80  yes\n",
      "1  1008  12  10  6  2    0  90   no\n",
      "2  1009  12   2  8  2    4  60   no\n",
      "3  1010  12   6  9  1    0  85  yes\n"
     ]
    }
   ],
   "source": [
    "df7a = pd.read_csv('C:\\\\Workspace\\Pri\\\\data science and ML practice\\jupyter\\\\student_results.csv', header = [6])\n",
    "print(df7a)"
   ]
  },
  {
   "cell_type": "code",
   "execution_count": 35,
   "id": "ba95cf0a",
   "metadata": {},
   "outputs": [
    {
     "name": "stdout",
     "output_type": "stream",
     "text": [
      "         0      1         2          3           4              5       6  \\\n",
      "0   Stu_ID  Class  Stdy_hrs  Slpng_hrs  online_hrs  Mob.Games_hrs  Perctg   \n",
      "1     1001     10         2          9           3              5      50   \n",
      "2     1002     10         6          8           2              0      80   \n",
      "3     1003     10         3          8           2              4      60   \n",
      "4     1004     11         0         10           1              5      45   \n",
      "5     1005     11         4          7           2              0      75   \n",
      "6     1006     11        10          7           0              0      96   \n",
      "7     1007     12         4          6           0              0      80   \n",
      "8     1008     12        10          6           2              0      90   \n",
      "9     1009     12         2          8           2              4      60   \n",
      "10    1010     12         6          9           1              0      85   \n",
      "\n",
      "       7  \n",
      "0   dumy  \n",
      "1    yes  \n",
      "2    yes  \n",
      "3     no  \n",
      "4     no  \n",
      "5    yes  \n",
      "6    yes  \n",
      "7    yes  \n",
      "8     no  \n",
      "9     no  \n",
      "10   yes  \n"
     ]
    }
   ],
   "source": [
    "df7b = pd.read_csv('C:\\Workspace\\Pri\\data science and ML practice\\jupyter\\student_results.csv', header = None)\n",
    "print(df7b)"
   ]
  },
  {
   "cell_type": "code",
   "execution_count": 22,
   "id": "95a320ec",
   "metadata": {},
   "outputs": [
    {
     "name": "stdout",
     "output_type": "stream",
     "text": [
      "   column0 column1   column2    column3     column4        column5 column6  \\\n",
      "0   Stu_ID   Class  Stdy_hrs  Slpng_hrs  online_hrs  Mob.Games_hrs  Perctg   \n",
      "1     1001      10         2          9           3              5      50   \n",
      "2     1002      10         6          8           2              0      80   \n",
      "3     1003      10         3          8           2              4      60   \n",
      "4     1004      11         0         10           1              5      45   \n",
      "5     1005      11         4          7           2              0      75   \n",
      "6     1006      11        10          7           0              0      96   \n",
      "7     1007      12         4          6           0              0      80   \n",
      "8     1008      12        10          6           2              0      90   \n",
      "9     1009      12         2          8           2              4      60   \n",
      "10    1010      12         6          9           1              0      85   \n",
      "\n",
      "   column7  \n",
      "0     dumy  \n",
      "1      yes  \n",
      "2      yes  \n",
      "3       no  \n",
      "4       no  \n",
      "5      yes  \n",
      "6      yes  \n",
      "7      yes  \n",
      "8       no  \n",
      "9       no  \n",
      "10     yes  \n"
     ]
    },
    {
     "name": "stderr",
     "output_type": "stream",
     "text": [
      "C:\\Users\\yada029\\AppData\\Local\\Temp\\ipykernel_5992\\302405719.py:1: FutureWarning: The prefix argument has been deprecated and will be removed in a future version. Use a list comprehension on the column names in the future.\n",
      "\n",
      "\n",
      "  df7c = pd.read_csv('C:\\\\Workspace\\Pri\\\\data science and ML practice\\jupyter\\student_results.csv', header = None , prefix='column')\n"
     ]
    }
   ],
   "source": [
    "df7c = pd.read_csv('C:\\\\Workspace\\Pri\\\\data science and ML practice\\jupyter\\student_results.csv', header = None , prefix='column')\n",
    "print(df7c)"
   ]
  },
  {
   "cell_type": "code",
   "execution_count": 23,
   "id": "55c36d90",
   "metadata": {},
   "outputs": [
    {
     "data": {
      "text/plain": [
       "Index(['Stu_ID', 'Class', 'Stdy_hrs', 'Slpng_hrs', 'online_hrs',\n",
       "       'Mob.Games_hrs', 'Perctg', 'dumy'],\n",
       "      dtype='object')"
      ]
     },
     "execution_count": 23,
     "metadata": {},
     "output_type": "execute_result"
    }
   ],
   "source": [
    "df.columns"
   ]
  },
  {
   "cell_type": "code",
   "execution_count": 34,
   "id": "6c2ae2c1",
   "metadata": {},
   "outputs": [
    {
     "name": "stdout",
     "output_type": "stream",
     "text": [
      "       Student ID     Class  Study hrs Sleeping hrs Social Media usage hrs  \\\n",
      "Stu_ID      Class  Stdy_hrs  Slpng_hrs   online_hrs          Mob.Games_hrs   \n",
      "1001           10         2          9            3                      5   \n",
      "1002           10         6          8            2                      0   \n",
      "1003           10         3          8            2                      4   \n",
      "1004           11         0         10            1                      5   \n",
      "1005           11         4          7            2                      0   \n",
      "1006           11        10          7            0                      0   \n",
      "1007           12         4          6            0                      0   \n",
      "1008           12        10          6            2                      0   \n",
      "1009           12         2          8            2                      4   \n",
      "1010           12         6          9            1                      0   \n",
      "\n",
      "       Mobile Games hrs Percantege  \n",
      "Stu_ID           Perctg       dumy  \n",
      "1001                 50        yes  \n",
      "1002                 80        yes  \n",
      "1003                 60         no  \n",
      "1004                 45         no  \n",
      "1005                 75        yes  \n",
      "1006                 96        yes  \n",
      "1007                 80        yes  \n",
      "1008                 90         no  \n",
      "1009                 60         no  \n",
      "1010                 85        yes  \n"
     ]
    }
   ],
   "source": [
    "df7d = pd.read_csv('C:\\Workspace\\Pri\\data science and ML practice\\jupyter\\student_results.csv', header = None , names =['Student ID', 'Class', 'Study hrs', 'Sleeping hrs',\n",
    "       'Social Media usage hrs', 'Mobile Games hrs', 'Percantege'])\n",
    "print(df7d)"
   ]
  },
  {
   "cell_type": "code",
   "execution_count": 25,
   "id": "fbf14b06",
   "metadata": {},
   "outputs": [
    {
     "name": "stdout",
     "output_type": "stream",
     "text": [
      "   Stu_ID  Class  Stdy_hrs  Slpng_hrs  online_hrs  Mob.Games_hrs  Perctg dumy\n",
      "0    1001     10         2          9           3              5      50  yes\n",
      "1    1002     10         6          8           2              0      80  yes\n",
      "2    1003     10         3          8           2              4      60   no\n",
      "3    1004     11         0         10           1              5      45   no\n",
      "4    1005     11         4          7           2              0      75  yes\n",
      "5    1006     11        10          7           0              0      96  yes\n",
      "6    1007     12         4          6           0              0      80  yes\n",
      "7    1008     12        10          6           2              0      90   no\n",
      "8    1009     12         2          8           2              4      60   no\n",
      "9    1010     12         6          9           1              0      85  yes\n"
     ]
    }
   ],
   "source": [
    "print(df)"
   ]
  },
  {
   "cell_type": "code",
   "execution_count": 26,
   "id": "b2b840dc",
   "metadata": {},
   "outputs": [
    {
     "data": {
      "text/html": [
       "<div>\n",
       "<style scoped>\n",
       "    .dataframe tbody tr th:only-of-type {\n",
       "        vertical-align: middle;\n",
       "    }\n",
       "\n",
       "    .dataframe tbody tr th {\n",
       "        vertical-align: top;\n",
       "    }\n",
       "\n",
       "    .dataframe thead th {\n",
       "        text-align: right;\n",
       "    }\n",
       "</style>\n",
       "<table border=\"1\" class=\"dataframe\">\n",
       "  <thead>\n",
       "    <tr style=\"text-align: right;\">\n",
       "      <th></th>\n",
       "      <th>Stu_ID</th>\n",
       "      <th>Class</th>\n",
       "      <th>Stdy_hrs</th>\n",
       "      <th>Slpng_hrs</th>\n",
       "      <th>online_hrs</th>\n",
       "      <th>Mob.Games_hrs</th>\n",
       "      <th>Perctg</th>\n",
       "      <th>dumy</th>\n",
       "    </tr>\n",
       "  </thead>\n",
       "  <tbody>\n",
       "    <tr>\n",
       "      <th>0</th>\n",
       "      <td>1001</td>\n",
       "      <td>10</td>\n",
       "      <td>2</td>\n",
       "      <td>9</td>\n",
       "      <td>3</td>\n",
       "      <td>5</td>\n",
       "      <td>50</td>\n",
       "      <td>yes</td>\n",
       "    </tr>\n",
       "    <tr>\n",
       "      <th>1</th>\n",
       "      <td>1002</td>\n",
       "      <td>10</td>\n",
       "      <td>6</td>\n",
       "      <td>8</td>\n",
       "      <td>2</td>\n",
       "      <td>0</td>\n",
       "      <td>80</td>\n",
       "      <td>yes</td>\n",
       "    </tr>\n",
       "    <tr>\n",
       "      <th>2</th>\n",
       "      <td>1003</td>\n",
       "      <td>10</td>\n",
       "      <td>3</td>\n",
       "      <td>8</td>\n",
       "      <td>2</td>\n",
       "      <td>4</td>\n",
       "      <td>60</td>\n",
       "      <td>no</td>\n",
       "    </tr>\n",
       "    <tr>\n",
       "      <th>3</th>\n",
       "      <td>1004</td>\n",
       "      <td>11</td>\n",
       "      <td>0</td>\n",
       "      <td>10</td>\n",
       "      <td>1</td>\n",
       "      <td>5</td>\n",
       "      <td>45</td>\n",
       "      <td>no</td>\n",
       "    </tr>\n",
       "    <tr>\n",
       "      <th>4</th>\n",
       "      <td>1005</td>\n",
       "      <td>11</td>\n",
       "      <td>4</td>\n",
       "      <td>7</td>\n",
       "      <td>2</td>\n",
       "      <td>0</td>\n",
       "      <td>75</td>\n",
       "      <td>yes</td>\n",
       "    </tr>\n",
       "  </tbody>\n",
       "</table>\n",
       "</div>"
      ],
      "text/plain": [
       "   Stu_ID  Class  Stdy_hrs  Slpng_hrs  online_hrs  Mob.Games_hrs  Perctg dumy\n",
       "0    1001     10         2          9           3              5      50  yes\n",
       "1    1002     10         6          8           2              0      80  yes\n",
       "2    1003     10         3          8           2              4      60   no\n",
       "3    1004     11         0         10           1              5      45   no\n",
       "4    1005     11         4          7           2              0      75  yes"
      ]
     },
     "execution_count": 26,
     "metadata": {},
     "output_type": "execute_result"
    }
   ],
   "source": [
    "df.head()"
   ]
  },
  {
   "cell_type": "code",
   "execution_count": 27,
   "id": "a75eb7f9",
   "metadata": {},
   "outputs": [
    {
     "data": {
      "text/html": [
       "<div>\n",
       "<style scoped>\n",
       "    .dataframe tbody tr th:only-of-type {\n",
       "        vertical-align: middle;\n",
       "    }\n",
       "\n",
       "    .dataframe tbody tr th {\n",
       "        vertical-align: top;\n",
       "    }\n",
       "\n",
       "    .dataframe thead th {\n",
       "        text-align: right;\n",
       "    }\n",
       "</style>\n",
       "<table border=\"1\" class=\"dataframe\">\n",
       "  <thead>\n",
       "    <tr style=\"text-align: right;\">\n",
       "      <th></th>\n",
       "      <th>Stu_ID</th>\n",
       "      <th>Class</th>\n",
       "      <th>Stdy_hrs</th>\n",
       "      <th>Slpng_hrs</th>\n",
       "      <th>online_hrs</th>\n",
       "      <th>Mob.Games_hrs</th>\n",
       "      <th>Perctg</th>\n",
       "      <th>dumy</th>\n",
       "    </tr>\n",
       "  </thead>\n",
       "  <tbody>\n",
       "    <tr>\n",
       "      <th>0</th>\n",
       "      <td>1001</td>\n",
       "      <td>10</td>\n",
       "      <td>2</td>\n",
       "      <td>9</td>\n",
       "      <td>3</td>\n",
       "      <td>5</td>\n",
       "      <td>50</td>\n",
       "      <td>yes</td>\n",
       "    </tr>\n",
       "    <tr>\n",
       "      <th>1</th>\n",
       "      <td>1002</td>\n",
       "      <td>10</td>\n",
       "      <td>6</td>\n",
       "      <td>8</td>\n",
       "      <td>2</td>\n",
       "      <td>0</td>\n",
       "      <td>80</td>\n",
       "      <td>yes</td>\n",
       "    </tr>\n",
       "  </tbody>\n",
       "</table>\n",
       "</div>"
      ],
      "text/plain": [
       "   Stu_ID  Class  Stdy_hrs  Slpng_hrs  online_hrs  Mob.Games_hrs  Perctg dumy\n",
       "0    1001     10         2          9           3              5      50  yes\n",
       "1    1002     10         6          8           2              0      80  yes"
      ]
     },
     "execution_count": 27,
     "metadata": {},
     "output_type": "execute_result"
    }
   ],
   "source": [
    "df.head(2)"
   ]
  },
  {
   "cell_type": "code",
   "execution_count": 28,
   "id": "8734e4d0",
   "metadata": {},
   "outputs": [
    {
     "data": {
      "text/html": [
       "<div>\n",
       "<style scoped>\n",
       "    .dataframe tbody tr th:only-of-type {\n",
       "        vertical-align: middle;\n",
       "    }\n",
       "\n",
       "    .dataframe tbody tr th {\n",
       "        vertical-align: top;\n",
       "    }\n",
       "\n",
       "    .dataframe thead th {\n",
       "        text-align: right;\n",
       "    }\n",
       "</style>\n",
       "<table border=\"1\" class=\"dataframe\">\n",
       "  <thead>\n",
       "    <tr style=\"text-align: right;\">\n",
       "      <th></th>\n",
       "      <th>Stu_ID</th>\n",
       "      <th>Class</th>\n",
       "      <th>Stdy_hrs</th>\n",
       "      <th>Slpng_hrs</th>\n",
       "      <th>online_hrs</th>\n",
       "      <th>Mob.Games_hrs</th>\n",
       "      <th>Perctg</th>\n",
       "      <th>dumy</th>\n",
       "    </tr>\n",
       "  </thead>\n",
       "  <tbody>\n",
       "    <tr>\n",
       "      <th>5</th>\n",
       "      <td>1006</td>\n",
       "      <td>11</td>\n",
       "      <td>10</td>\n",
       "      <td>7</td>\n",
       "      <td>0</td>\n",
       "      <td>0</td>\n",
       "      <td>96</td>\n",
       "      <td>yes</td>\n",
       "    </tr>\n",
       "    <tr>\n",
       "      <th>6</th>\n",
       "      <td>1007</td>\n",
       "      <td>12</td>\n",
       "      <td>4</td>\n",
       "      <td>6</td>\n",
       "      <td>0</td>\n",
       "      <td>0</td>\n",
       "      <td>80</td>\n",
       "      <td>yes</td>\n",
       "    </tr>\n",
       "    <tr>\n",
       "      <th>7</th>\n",
       "      <td>1008</td>\n",
       "      <td>12</td>\n",
       "      <td>10</td>\n",
       "      <td>6</td>\n",
       "      <td>2</td>\n",
       "      <td>0</td>\n",
       "      <td>90</td>\n",
       "      <td>no</td>\n",
       "    </tr>\n",
       "    <tr>\n",
       "      <th>8</th>\n",
       "      <td>1009</td>\n",
       "      <td>12</td>\n",
       "      <td>2</td>\n",
       "      <td>8</td>\n",
       "      <td>2</td>\n",
       "      <td>4</td>\n",
       "      <td>60</td>\n",
       "      <td>no</td>\n",
       "    </tr>\n",
       "    <tr>\n",
       "      <th>9</th>\n",
       "      <td>1010</td>\n",
       "      <td>12</td>\n",
       "      <td>6</td>\n",
       "      <td>9</td>\n",
       "      <td>1</td>\n",
       "      <td>0</td>\n",
       "      <td>85</td>\n",
       "      <td>yes</td>\n",
       "    </tr>\n",
       "  </tbody>\n",
       "</table>\n",
       "</div>"
      ],
      "text/plain": [
       "   Stu_ID  Class  Stdy_hrs  Slpng_hrs  online_hrs  Mob.Games_hrs  Perctg dumy\n",
       "5    1006     11        10          7           0              0      96  yes\n",
       "6    1007     12         4          6           0              0      80  yes\n",
       "7    1008     12        10          6           2              0      90   no\n",
       "8    1009     12         2          8           2              4      60   no\n",
       "9    1010     12         6          9           1              0      85  yes"
      ]
     },
     "execution_count": 28,
     "metadata": {},
     "output_type": "execute_result"
    }
   ],
   "source": [
    "df.tail()"
   ]
  },
  {
   "cell_type": "code",
   "execution_count": 29,
   "id": "621c9c7f",
   "metadata": {},
   "outputs": [
    {
     "data": {
      "text/html": [
       "<div>\n",
       "<style scoped>\n",
       "    .dataframe tbody tr th:only-of-type {\n",
       "        vertical-align: middle;\n",
       "    }\n",
       "\n",
       "    .dataframe tbody tr th {\n",
       "        vertical-align: top;\n",
       "    }\n",
       "\n",
       "    .dataframe thead th {\n",
       "        text-align: right;\n",
       "    }\n",
       "</style>\n",
       "<table border=\"1\" class=\"dataframe\">\n",
       "  <thead>\n",
       "    <tr style=\"text-align: right;\">\n",
       "      <th></th>\n",
       "      <th>Stu_ID</th>\n",
       "      <th>Class</th>\n",
       "      <th>Stdy_hrs</th>\n",
       "      <th>Slpng_hrs</th>\n",
       "      <th>online_hrs</th>\n",
       "      <th>Mob.Games_hrs</th>\n",
       "      <th>Perctg</th>\n",
       "      <th>dumy</th>\n",
       "    </tr>\n",
       "  </thead>\n",
       "  <tbody>\n",
       "    <tr>\n",
       "      <th>7</th>\n",
       "      <td>1008</td>\n",
       "      <td>12</td>\n",
       "      <td>10</td>\n",
       "      <td>6</td>\n",
       "      <td>2</td>\n",
       "      <td>0</td>\n",
       "      <td>90</td>\n",
       "      <td>no</td>\n",
       "    </tr>\n",
       "    <tr>\n",
       "      <th>8</th>\n",
       "      <td>1009</td>\n",
       "      <td>12</td>\n",
       "      <td>2</td>\n",
       "      <td>8</td>\n",
       "      <td>2</td>\n",
       "      <td>4</td>\n",
       "      <td>60</td>\n",
       "      <td>no</td>\n",
       "    </tr>\n",
       "    <tr>\n",
       "      <th>9</th>\n",
       "      <td>1010</td>\n",
       "      <td>12</td>\n",
       "      <td>6</td>\n",
       "      <td>9</td>\n",
       "      <td>1</td>\n",
       "      <td>0</td>\n",
       "      <td>85</td>\n",
       "      <td>yes</td>\n",
       "    </tr>\n",
       "  </tbody>\n",
       "</table>\n",
       "</div>"
      ],
      "text/plain": [
       "   Stu_ID  Class  Stdy_hrs  Slpng_hrs  online_hrs  Mob.Games_hrs  Perctg dumy\n",
       "7    1008     12        10          6           2              0      90   no\n",
       "8    1009     12         2          8           2              4      60   no\n",
       "9    1010     12         6          9           1              0      85  yes"
      ]
     },
     "execution_count": 29,
     "metadata": {},
     "output_type": "execute_result"
    }
   ],
   "source": [
    "df.tail(3)"
   ]
  },
  {
   "cell_type": "code",
   "execution_count": 30,
   "id": "a15efa70",
   "metadata": {},
   "outputs": [
    {
     "name": "stdout",
     "output_type": "stream",
     "text": [
      "   Stu_ID\n",
      "4    1005\n",
      "5    1006\n",
      "6    1007\n",
      "7    1008\n",
      "8    1009\n",
      "9    1010\n"
     ]
    }
   ],
   "source": [
    "df8 = pd.read_csv('C:\\\\Workspace\\Pri\\\\data science and ML practice\\jupyter\\\\student_results.csv', dtype = {'Student ID': 'float64'}, usecols = [0])\n",
    "print(df8.tail(6))"
   ]
  },
  {
   "cell_type": "code",
   "execution_count": 31,
   "id": "7c23bfb9",
   "metadata": {},
   "outputs": [
    {
     "name": "stdout",
     "output_type": "stream",
     "text": [
      "   Stu_ID  Class  Stdy_hrs  Slpng_hrs  online_hrs  Mob.Games_hrs  Perctg dumy\n",
      "0    1001   10.0         2          9           3              5      50  yes\n",
      "1    1002   10.0         6          8           2              0      80  yes\n",
      "2    1003   10.0         3          8           2              4      60   no\n",
      "3    1004   11.0         0         10           1              5      45   no\n",
      "4    1005   11.0         4          7           2              0      75  yes\n",
      "5    1006   11.0        10          7           0              0      96  yes\n",
      "6    1007   12.0         4          6           0              0      80  yes\n",
      "7    1008   12.0        10          6           2              0      90   no\n",
      "8    1009   12.0         2          8           2              4      60   no\n",
      "9    1010   12.0         6          9           1              0      85  yes\n"
     ]
    }
   ],
   "source": [
    "df8a = pd.read_csv('C:\\\\Workspace\\Pri\\\\data science and ML practice\\jupyter\\\\student_results.csv', dtype = {'Student ID': 'float64','Class': 'float64'})\n",
    "print(df8a)"
   ]
  },
  {
   "cell_type": "code",
   "execution_count": 32,
   "id": "47534684",
   "metadata": {
    "scrolled": true
   },
   "outputs": [
    {
     "data": {
      "text/html": [
       "<div>\n",
       "<style scoped>\n",
       "    .dataframe tbody tr th:only-of-type {\n",
       "        vertical-align: middle;\n",
       "    }\n",
       "\n",
       "    .dataframe tbody tr th {\n",
       "        vertical-align: top;\n",
       "    }\n",
       "\n",
       "    .dataframe thead th {\n",
       "        text-align: right;\n",
       "    }\n",
       "</style>\n",
       "<table border=\"1\" class=\"dataframe\">\n",
       "  <thead>\n",
       "    <tr style=\"text-align: right;\">\n",
       "      <th></th>\n",
       "      <th>Stu_ID</th>\n",
       "      <th>Class</th>\n",
       "      <th>Stdy_hrs</th>\n",
       "      <th>Slpng_hrs</th>\n",
       "      <th>online_hrs</th>\n",
       "      <th>Mob.Games_hrs</th>\n",
       "      <th>Perctg</th>\n",
       "      <th>dumy</th>\n",
       "    </tr>\n",
       "  </thead>\n",
       "  <tbody>\n",
       "    <tr>\n",
       "      <th>0</th>\n",
       "      <td>1001</td>\n",
       "      <td>10</td>\n",
       "      <td>2</td>\n",
       "      <td>9</td>\n",
       "      <td>3</td>\n",
       "      <td>5</td>\n",
       "      <td>50</td>\n",
       "      <td>yes</td>\n",
       "    </tr>\n",
       "    <tr>\n",
       "      <th>1</th>\n",
       "      <td>1002</td>\n",
       "      <td>10</td>\n",
       "      <td>6</td>\n",
       "      <td>8</td>\n",
       "      <td>2</td>\n",
       "      <td>0</td>\n",
       "      <td>80</td>\n",
       "      <td>yes</td>\n",
       "    </tr>\n",
       "    <tr>\n",
       "      <th>2</th>\n",
       "      <td>1003</td>\n",
       "      <td>10</td>\n",
       "      <td>3</td>\n",
       "      <td>8</td>\n",
       "      <td>2</td>\n",
       "      <td>4</td>\n",
       "      <td>60</td>\n",
       "      <td>no</td>\n",
       "    </tr>\n",
       "    <tr>\n",
       "      <th>3</th>\n",
       "      <td>1004</td>\n",
       "      <td>11</td>\n",
       "      <td>0</td>\n",
       "      <td>10</td>\n",
       "      <td>1</td>\n",
       "      <td>5</td>\n",
       "      <td>45</td>\n",
       "      <td>no</td>\n",
       "    </tr>\n",
       "    <tr>\n",
       "      <th>4</th>\n",
       "      <td>1005</td>\n",
       "      <td>11</td>\n",
       "      <td>4</td>\n",
       "      <td>7</td>\n",
       "      <td>2</td>\n",
       "      <td>0</td>\n",
       "      <td>75</td>\n",
       "      <td>yes</td>\n",
       "    </tr>\n",
       "    <tr>\n",
       "      <th>5</th>\n",
       "      <td>1006</td>\n",
       "      <td>11</td>\n",
       "      <td>10</td>\n",
       "      <td>7</td>\n",
       "      <td>0</td>\n",
       "      <td>0</td>\n",
       "      <td>96</td>\n",
       "      <td>yes</td>\n",
       "    </tr>\n",
       "    <tr>\n",
       "      <th>6</th>\n",
       "      <td>1007</td>\n",
       "      <td>12</td>\n",
       "      <td>4</td>\n",
       "      <td>6</td>\n",
       "      <td>0</td>\n",
       "      <td>0</td>\n",
       "      <td>80</td>\n",
       "      <td>yes</td>\n",
       "    </tr>\n",
       "    <tr>\n",
       "      <th>7</th>\n",
       "      <td>1008</td>\n",
       "      <td>12</td>\n",
       "      <td>10</td>\n",
       "      <td>6</td>\n",
       "      <td>2</td>\n",
       "      <td>0</td>\n",
       "      <td>90</td>\n",
       "      <td>no</td>\n",
       "    </tr>\n",
       "    <tr>\n",
       "      <th>8</th>\n",
       "      <td>1009</td>\n",
       "      <td>12</td>\n",
       "      <td>2</td>\n",
       "      <td>8</td>\n",
       "      <td>2</td>\n",
       "      <td>4</td>\n",
       "      <td>60</td>\n",
       "      <td>no</td>\n",
       "    </tr>\n",
       "    <tr>\n",
       "      <th>9</th>\n",
       "      <td>1010</td>\n",
       "      <td>12</td>\n",
       "      <td>6</td>\n",
       "      <td>9</td>\n",
       "      <td>1</td>\n",
       "      <td>0</td>\n",
       "      <td>85</td>\n",
       "      <td>yes</td>\n",
       "    </tr>\n",
       "  </tbody>\n",
       "</table>\n",
       "</div>"
      ],
      "text/plain": [
       "   Stu_ID  Class  Stdy_hrs  Slpng_hrs  online_hrs  Mob.Games_hrs  Perctg dumy\n",
       "0    1001     10         2          9           3              5      50  yes\n",
       "1    1002     10         6          8           2              0      80  yes\n",
       "2    1003     10         3          8           2              4      60   no\n",
       "3    1004     11         0         10           1              5      45   no\n",
       "4    1005     11         4          7           2              0      75  yes\n",
       "5    1006     11        10          7           0              0      96  yes\n",
       "6    1007     12         4          6           0              0      80  yes\n",
       "7    1008     12        10          6           2              0      90   no\n",
       "8    1009     12         2          8           2              4      60   no\n",
       "9    1010     12         6          9           1              0      85  yes"
      ]
     },
     "execution_count": 32,
     "metadata": {},
     "output_type": "execute_result"
    }
   ],
   "source": [
    "df"
   ]
  },
  {
   "cell_type": "code",
   "execution_count": 33,
   "id": "2acdb943",
   "metadata": {},
   "outputs": [
    {
     "name": "stdout",
     "output_type": "stream",
     "text": [
      "   Slpng_hrs  online_hrs  Mob.Games_hrs  Perctg   dumy\n",
      "0          9           3              5      50   True\n",
      "1          8           2              0      80   True\n",
      "2          8           2              4      60  False\n",
      "3         10           1              5      45  False\n",
      "4          7           2              0      75   True\n",
      "5          7           0              0      96   True\n",
      "6          6           0              0      80   True\n",
      "7          6           2              0      90  False\n",
      "8          8           2              4      60  False\n",
      "9          9           1              0      85   True\n"
     ]
    }
   ],
   "source": [
    "df9 = pd.read_csv('C:\\\\Workspace\\Pri\\\\data science and ML practice\\jupyter\\\\student_results.csv', true_values=['yes'],false_values=['no'], usecols=[3,4,5,6,7])\n",
    "print(df9)"
   ]
  },
  {
   "cell_type": "code",
   "execution_count": null,
   "id": "0b5afe05",
   "metadata": {},
   "outputs": [],
   "source": []
  }
 ],
 "metadata": {
  "kernelspec": {
   "display_name": "Python 3 (ipykernel)",
   "language": "python",
   "name": "python3"
  },
  "language_info": {
   "codemirror_mode": {
    "name": "ipython",
    "version": 3
   },
   "file_extension": ".py",
   "mimetype": "text/x-python",
   "name": "python",
   "nbconvert_exporter": "python",
   "pygments_lexer": "ipython3",
   "version": "3.10.5"
  }
 },
 "nbformat": 4,
 "nbformat_minor": 5
}
