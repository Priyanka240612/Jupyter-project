{
 "cells": [
  {
   "cell_type": "markdown",
   "id": "a16f36a3",
   "metadata": {},
   "source": [
    "# How to create  DataFrame"
   ]
  },
  {
   "cell_type": "code",
   "execution_count": 1,
   "id": "b8aab43d",
   "metadata": {},
   "outputs": [],
   "source": [
    "import pandas as pd"
   ]
  },
  {
   "cell_type": "code",
   "execution_count": 2,
   "id": "8a9c7134",
   "metadata": {},
   "outputs": [
    {
     "name": "stdout",
     "output_type": "stream",
     "text": [
      "   0\n",
      "0  1\n",
      "1  2\n",
      "2  3\n"
     ]
    }
   ],
   "source": [
    "df = pd.DataFrame([1,2,3])\n",
    "print(df)"
   ]
  },
  {
   "cell_type": "code",
   "execution_count": 3,
   "id": "81ed4ed6",
   "metadata": {},
   "outputs": [
    {
     "name": "stdout",
     "output_type": "stream",
     "text": [
      "   0  1  2\n",
      "0  1  2  3\n",
      "1  4  5  6\n",
      "2  7  8  9\n"
     ]
    }
   ],
   "source": [
    "list_1 = [[1,2,3],[4,5,6],[7,8,9]]\n",
    "df1 = pd.DataFrame(list_1)\n",
    "print(df1)"
   ]
  },
  {
   "cell_type": "code",
   "execution_count": 7,
   "id": "938df68d",
   "metadata": {},
   "outputs": [
    {
     "name": "stdout",
     "output_type": "stream",
     "text": [
      "   0  1  2\n",
      "0  1  2  3\n",
      "1  4  5  6\n",
      "2  7  8  9\n"
     ]
    }
   ],
   "source": [
    "list_1a = [[1,2,3],[4,5,6],[7,8,9]]\n",
    "df1a = pd.DataFrame(list_1a )#, index == ['a','b','c'])\n",
    "print(df1a)"
   ]
  },
  {
   "cell_type": "code",
   "execution_count": 8,
   "id": "0ad0ba4f",
   "metadata": {},
   "outputs": [
    {
     "name": "stdout",
     "output_type": "stream",
     "text": [
      "   girls  boys  kids\n",
      "0      1     4     7\n",
      "1      2     5     8\n",
      "2      3     6     9\n"
     ]
    }
   ],
   "source": [
    "dict_1 = {'girls':[1,2,3],'boys':[4,5,6],'kids':[7,8,9]}\n",
    "df2 = pd.DataFrame(dict_1)\n",
    "print(df2)"
   ]
  },
  {
   "cell_type": "code",
   "execution_count": 11,
   "id": "24e8c0de",
   "metadata": {},
   "outputs": [
    {
     "name": "stdout",
     "output_type": "stream",
     "text": [
      "       girls       boys    kids\n",
      "0  [1, 2, 3]        NaN     NaN\n",
      "1        NaN  [4, 5, 6]     NaN\n",
      "2        NaN        NaN  [7, 8]\n"
     ]
    }
   ],
   "source": [
    "dict_2 = [{'girls':[1,2,3]},{'boys':[4,5,6]},{'kids':[7,8]}]\n",
    "df3 = pd.DataFrame(dict_2)\n",
    "print(df3)"
   ]
  },
  {
   "cell_type": "code",
   "execution_count": 19,
   "id": "6169fded",
   "metadata": {},
   "outputs": [
    {
     "name": "stdout",
     "output_type": "stream",
     "text": [
      "   girls  boys  kids\n",
      "0      1     4     7\n",
      "1      2     5     8\n",
      "2      3     6     9\n"
     ]
    }
   ],
   "source": [
    "dict_seri = {'girls':pd.Series([1,2,3]),'boys':pd.Series([4,5,6]),'kids':pd.Series([7,8,9])}\n",
    "df_6 = pd.DataFrame(dict_seri)\n",
    "print(df_6)"
   ]
  },
  {
   "cell_type": "code",
   "execution_count": 15,
   "id": "2037c2c2",
   "metadata": {},
   "outputs": [
    {
     "name": "stdout",
     "output_type": "stream",
     "text": [
      "   girls  boys  kids\n",
      "0      1     4   NaN\n",
      "1     22    55  88.0\n"
     ]
    }
   ],
   "source": [
    "dict_2a = [{'girls':1,'boys':4},{'girls':22,'boys':55,'kids':88}]\n",
    "df4 = pd.DataFrame(dict_2a)\n",
    "print(df4)"
   ]
  },
  {
   "cell_type": "code",
   "execution_count": 20,
   "id": "6402c42a",
   "metadata": {},
   "outputs": [
    {
     "name": "stdout",
     "output_type": "stream",
     "text": [
      "                                  girls                                  boys  \\\n",
      "0     0    1\n",
      "1    2\n",
      "2    3\n",
      "dtype: int64     0    4\n",
      "1    5\n",
      "2    6\n",
      "dtype: int64   \n",
      "1  0    11\n",
      "1    22\n",
      "2    33\n",
      "dtype: int64  0    44\n",
      "1    55\n",
      "2    66\n",
      "dtype: int64   \n",
      "\n",
      "                                kids  \n",
      "0  0    7\n",
      "1    8\n",
      "2    9\n",
      "dtype: int64  \n",
      "1                                NaN  \n"
     ]
    }
   ],
   "source": [
    "dict_2b = [{'girls':pd.Series([1,2,3]),'boys':pd.Series([4,5,6]),'kids':pd.Series([7,8,9])},{'girls':pd.Series([11,22,33]),'boys':pd.Series([44,55,66])}]\n",
    "df5 = pd.DataFrame(dict_2b)\n",
    "print(df5)"
   ]
  },
  {
   "cell_type": "code",
   "execution_count": null,
   "id": "11b46de7",
   "metadata": {},
   "outputs": [],
   "source": []
  },
  {
   "cell_type": "code",
   "execution_count": null,
   "id": "2c6c64ae",
   "metadata": {},
   "outputs": [],
   "source": []
  }
 ],
 "metadata": {
  "kernelspec": {
   "display_name": "Python 3 (ipykernel)",
   "language": "python",
   "name": "python3"
  },
  "language_info": {
   "codemirror_mode": {
    "name": "ipython",
    "version": 3
   },
   "file_extension": ".py",
   "mimetype": "text/x-python",
   "name": "python",
   "nbconvert_exporter": "python",
   "pygments_lexer": "ipython3",
   "version": "3.10.5"
  }
 },
 "nbformat": 4,
 "nbformat_minor": 5
}
